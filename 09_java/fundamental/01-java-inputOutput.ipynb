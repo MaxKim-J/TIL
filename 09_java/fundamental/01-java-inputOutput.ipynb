{
 "cells": [
  {
   "cell_type": "markdown",
   "metadata": {},
   "source": [
    "# 자바 프로그래밍 입출력\n",
    "2020.04.02\n",
    "컴퓨터 프로그래밍 3강"
   ]
  },
  {
   "cell_type": "markdown",
   "metadata": {},
   "source": [
    "## 표준 입출력\n",
    "표준입력 :  키보드에서 입력된 내용을 변수에 저장하는 것"
   ]
  },
  {
   "cell_type": "markdown",
   "metadata": {},
   "source": [
    "### 입력\n",
    "\n",
    "System(시스템에서) + in(입력장치) + read(키코드 읽어라)  \n",
    "\n",
    "`System.in.read()` : 키보드의 문자 한개 입력받음 => read()메소드에서 1바이트 문자 읽음, 한글 입력 불가  \n",
    "`Scanner` : 2개 이상 키가 조합된 한글 읽을 수 없는 단점 보완, 변수에 통 문자열을 넣음, 한글은 2바이트라 이거쓰게댐\n",
    "\n",
    "#### 간단한 원리 \n",
    "- 엔터가 입력될때까지 대기상태\n",
    "- 엔터키가 입력되면 입력된 키들에 대한 키코드를 하나씩 읽음\n",
    "- 엔터 키는 캐리지 리턴 + 라인피드로 구성된 두가지 키코드가 입력됨\n",
    "- 하나씩 입력"
   ]
  },
  {
   "cell_type": "code",
   "execution_count": 51,
   "metadata": {},
   "outputs": [
    {
     "name": "stdout",
     "output_type": "stream",
     "text": [
      "이름 ===>hanbit\n",
      "hanbit\n"
     ]
    },
    {
     "ename": "EvaluationInterruptedException",
     "evalue": "Evaluator was interrupted while executing: 'try {\n    System.out.print(\"이름 ===>\");\n    \n    // read 메소드로 하나 이상의 문자 읽어들여 문자열로 변환 \n    // 엔터 == 아스키코드값 13, 무한반복\n    while ((key = System.in.read())!=13){\n        // 아스키코드 문자열로 변경?\n        input += Character.toString((char)key);\n    }\n    if(userName == input) {\n            System.out.println(input + \"님 어서오셈\");\n        } else {\n            System.out.println(input + \"님은 등록이 안됐음\");\n        }\n} catch(IOException e) {\n    e.printStackTrace();\n}'",
     "output_type": "error",
     "traceback": [
      "\u001b[1m\u001b[30m|   \u001b[1m\u001b[30mtry {\u001b[0m",
      "\u001b[1m\u001b[30m|   \u001b[1m\u001b[30m    System.out.print(\"이름 ===>\");\u001b[0m",
      "\u001b[1m\u001b[30m|   \u001b[1m\u001b[30m    \u001b[0m",
      "\u001b[1m\u001b[30m|   \u001b[1m\u001b[30m    // read 메소드로 하나 이상의 문자 읽어들여 문자열로 변환 \u001b[0m",
      "\u001b[1m\u001b[30m|   \u001b[1m\u001b[30m    // 엔터 == 아스키코드값 13, 무한반복\u001b[0m",
      "\u001b[1m\u001b[30m|   \u001b[1m\u001b[30m    while ((key = System.in.read())!=13){\u001b[0m",
      "\u001b[1m\u001b[30m|   \u001b[1m\u001b[30m        // 아스키코드 문자열로 변경?\u001b[0m",
      "\u001b[1m\u001b[30m|   \u001b[1m\u001b[30m        input += Character.toString((char)key);\u001b[0m",
      "\u001b[1m\u001b[30m|   \u001b[1m\u001b[30m    }\u001b[0m",
      "\u001b[1m\u001b[30m|   \u001b[1m\u001b[30m    if(userName == input) {\u001b[0m",
      "\u001b[1m\u001b[30m|   \u001b[1m\u001b[30m            System.out.println(input + \"님 어서오셈\");\u001b[0m",
      "\u001b[1m\u001b[30m|   \u001b[1m\u001b[30m        } else {\u001b[0m",
      "\u001b[1m\u001b[30m|   \u001b[1m\u001b[30m            System.out.println(input + \"님은 등록이 안됐음\");\u001b[0m",
      "\u001b[1m\u001b[30m|   \u001b[1m\u001b[30m        }\u001b[0m",
      "\u001b[1m\u001b[30m|   \u001b[1m\u001b[30m} catch(IOException e) {\u001b[0m",
      "\u001b[1m\u001b[30m|   \u001b[1m\u001b[30m    e.printStackTrace();\u001b[0m",
      "\u001b[1m\u001b[30m|   \u001b[1m\u001b[30m}\u001b[0m",
      "\u001b[1m\u001b[31mEvaluation interrupted.\u001b[0m"
     ]
    }
   ],
   "source": [
    "String userName = \"hanbit\";\n",
    "String input = \"\";\n",
    "int key;\n",
    "\n",
    "try {\n",
    "    System.out.print(\"이름 ===>\");\n",
    "    \n",
    "    // read 메소드로 하나 이상의 문자 읽어들여 문자열로 변환 \n",
    "    // 엔터 == 아스키코드값 13, 무한반복\n",
    "    while ((key = System.in.read())!=13){\n",
    "        // 아스키코드 문자열로 변경?\n",
    "        input += Character.toString((char)key);\n",
    "    }\n",
    "    if(userName == input) {\n",
    "            System.out.println(input + \"님 어서오셈\");\n",
    "        } else {\n",
    "            System.out.println(input + \"님은 등록이 안됐음\");\n",
    "        }\n",
    "} catch(IOException e) {\n",
    "    e.printStackTrace();\n",
    "}"
   ]
  },
  {
   "cell_type": "code",
   "execution_count": 1,
   "metadata": {},
   "outputs": [
    {
     "name": "stdout",
     "output_type": "stream",
     "text": [
      "2\n"
     ]
    }
   ],
   "source": [
    "int keycode = System.in.read();"
   ]
  },
  {
   "cell_type": "code",
   "execution_count": 4,
   "metadata": {},
   "outputs": [
    {
     "name": "stdout",
     "output_type": "stream",
     "text": [
      "안뇽나는종혁\n"
     ]
    }
   ],
   "source": [
    "// 생성된 scanner을 변수에 저장함 + 시스템 입력 장치로부터 읽는 scanner 생성\n",
    "\n",
    "Scanner s = new Scanner(System.in);\n",
    "String stri = s.next();"
   ]
  },
  {
   "cell_type": "markdown",
   "metadata": {},
   "source": [
    "#### Scanner 메소드 정리\n",
    "\n",
    "![스캐너메소드](img/scannerMethod.png)  \n",
    "- `next()`를 만나면 `enter`을 입력할 때까지 입력한 내용을 버퍼에 저장"
   ]
  },
  {
   "cell_type": "code",
   "execution_count": null,
   "metadata": {},
   "outputs": [],
   "source": [
    "Scanner scanner = new Scanner(System.in);\n",
    "String inputData;\n",
    "\n",
    "while(true){\n",
    "    inputData = scanner.nextLine();\n",
    "    System.out.println(\"입력된 문자열 : \" + inputData);\n",
    "    if (inputData.equals(\"q\")) {\n",
    "        break;\n",
    "    }\n",
    "}\n",
    "scanner.close();\n",
    "System.out.println(\"종료\");"
   ]
  },
  {
   "cell_type": "markdown",
   "metadata": {},
   "source": [
    "### 출력\n",
    "`System.out.printf()` : 서식 지정자 사용한 출력  \n",
    "`System.out.println()` : 자동 줄바꿈 출력  \n",
    "`System.out.print()` : 줄바꿈 무시되고 계속 출력  "
   ]
  },
  {
   "cell_type": "markdown",
   "metadata": {},
   "source": [
    "#### System.out.printf()\n",
    "서식 지정자"
   ]
  },
  {
   "cell_type": "markdown",
   "metadata": {},
   "source": [
    "![이미지](img/format.png)  \n",
    "- %d, %x, %o - 10,16,8진수\n",
    "- %c - 문자열 한글자\n",
    "- %e - 공학용 표기, 컴퓨터식 지수표현(1.0000e+02 막 이런식)\n",
    "- 실수형 서식에서 칸수는 `.`까지 추가한 것"
   ]
  },
  {
   "cell_type": "code",
   "execution_count": 5,
   "metadata": {},
   "outputs": [
    {
     "name": "stdout",
     "output_type": "stream",
     "text": [
      "100"
     ]
    },
    {
     "data": {
      "text/plain": [
       "java.io.PrintStream@564fbc61"
      ]
     },
     "execution_count": 5,
     "metadata": {},
     "output_type": "execute_result"
    }
   ],
   "source": [
    "System.out.printf(\"%d\", 100)"
   ]
  },
  {
   "cell_type": "code",
   "execution_count": 8,
   "metadata": {},
   "outputs": [
    {
     "name": "stdout",
     "output_type": "stream",
     "text": [
      "00020"
     ]
    },
    {
     "data": {
      "text/plain": [
       "java.io.PrintStream@7dda3bd7"
      ]
     },
     "execution_count": 8,
     "metadata": {},
     "output_type": "execute_result"
    }
   ],
   "source": [
    "// 이 상황에서는 0만 됨\n",
    "\n",
    "System.out.printf(\"%05d\", 20)"
   ]
  },
  {
   "cell_type": "code",
   "execution_count": 6,
   "metadata": {},
   "outputs": [
    {
     "name": "stdout",
     "output_type": "stream",
     "text": [
      "안녕"
     ]
    },
    {
     "data": {
      "text/plain": [
       "java.io.PrintStream@564fbc61"
      ]
     },
     "execution_count": 6,
     "metadata": {},
     "output_type": "execute_result"
    }
   ],
   "source": [
    "System.out.printf(\"%s\", \"안녕\")"
   ]
  },
  {
   "cell_type": "code",
   "execution_count": 9,
   "metadata": {},
   "outputs": [
    {
     "name": "stdout",
     "output_type": "stream",
     "text": [
      "100+100\n",
      "200\n"
     ]
    },
    {
     "data": {
      "text/plain": [
       "java.io.PrintStream@7dda3bd7"
      ]
     },
     "execution_count": 9,
     "metadata": {},
     "output_type": "execute_result"
    }
   ],
   "source": [
    "System.out.printf(\"100+100\");\n",
    "System.out.printf(\"\\n\");\n",
    "System.out.printf(\"%d\", 100+100);\n",
    "System.out.printf(\"\\n\");"
   ]
  },
  {
   "cell_type": "code",
   "execution_count": 11,
   "metadata": {},
   "outputs": [
    {
     "name": "stdout",
     "output_type": "stream",
     "text": [
      "100"
     ]
    },
    {
     "data": {
      "text/plain": [
       "java.io.PrintStream@7dda3bd7"
      ]
     },
     "execution_count": 11,
     "metadata": {},
     "output_type": "execute_result"
    }
   ],
   "source": [
    "// 서식 지정자 개수랑 값 개수가 맞아야함 => 어;; 여기는 오류가안남;\n",
    "\n",
    "System.out.printf(\"%d\",100,100);"
   ]
  },
  {
   "cell_type": "code",
   "execution_count": 13,
   "metadata": {},
   "outputs": [
    {
     "ename": "EvalException",
     "evalue": "d != java.lang.Double",
     "output_type": "error",
     "traceback": [
      "\u001b[1m\u001b[31m---------------------------------------------------------------------------\u001b[0m",
      "\u001b[1m\u001b[31mjava.util.IllegalFormatConversionException: d != java.lang.Double\u001b[0m",
      "\u001b[1m\u001b[31m\tat java.base/java.util.Formatter$FormatSpecifier.failConversion(Formatter.java:4426)\u001b[0m",
      "\u001b[1m\u001b[31m\tat java.base/java.util.Formatter$FormatSpecifier.printInteger(Formatter.java:2938)\u001b[0m",
      "\u001b[1m\u001b[31m\tat java.base/java.util.Formatter$FormatSpecifier.print(Formatter.java:2892)\u001b[0m",
      "\u001b[1m\u001b[31m\tat java.base/java.util.Formatter.format(Formatter.java:2673)\u001b[0m",
      "\u001b[1m\u001b[31m\tat java.base/java.io.PrintStream.format(PrintStream.java:1139)\u001b[0m",
      "\u001b[1m\u001b[31m\tat java.base/java.io.PrintStream.printf(PrintStream.java:1035)\u001b[0m",
      "\u001b[1m\u001b[31m\tat .(#27:3)\u001b[0m"
     ]
    }
   ],
   "source": [
    "// 당연하지만 자료형도 맞아야\n",
    "\n",
    "System.out.printf(\"%d\", 0.4)"
   ]
  },
  {
   "cell_type": "code",
   "execution_count": 25,
   "metadata": {},
   "outputs": [
    {
     "name": "stdout",
     "output_type": "stream",
     "text": [
      "7.400000\n",
      "7.400000\n",
      "     7.40\n",
      "7.400000095\n"
     ]
    },
    {
     "data": {
      "text/plain": [
       "java.io.PrintStream@7dda3bd7"
      ]
     },
     "execution_count": 25,
     "metadata": {},
     "output_type": "execute_result"
    }
   ],
   "source": [
    "// 실수 좀 헷갈리게 생겻음\n",
    "\n",
    "float num = 7.4f;\n",
    "System.out.printf(\"%5f\\n\", num);\n",
    "System.out.printf(\"%3f\\n\", num);\n",
    "System.out.printf(\"%9.2f\\n\", num);\n",
    "System.out.printf(\"%-4.9f\\n\", num);"
   ]
  },
  {
   "cell_type": "markdown",
   "metadata": {},
   "source": [
    "#### 이스케이프 문자\n",
    "- \\를 통해 문자 이스케이프 : \\\", \\', \\\\\n",
    "- 줄바꿈 : \\n\n",
    "- 탭 : \\t\n",
    "- 공백 : \\b\n",
    "- 줄의 맨 앞으로 이동(?) : \\r"
   ]
  }
 ],
 "metadata": {
  "kernelspec": {
   "display_name": "Java",
   "language": "java",
   "name": "java"
  },
  "language_info": {
   "codemirror_mode": "java",
   "file_extension": ".jshell",
   "mimetype": "text/x-java-source",
   "name": "Java",
   "pygments_lexer": "java",
   "version": "13.0.2+8"
  }
 },
 "nbformat": 4,
 "nbformat_minor": 4
}
