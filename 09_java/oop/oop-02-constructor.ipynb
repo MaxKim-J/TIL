{
 "cells": [
  {
   "cell_type": "markdown",
   "metadata": {},
   "source": [
    "# 생성자 + 참조 자료형\n",
    "2020.04.10"
   ]
  },
  {
   "cell_type": "markdown",
   "metadata": {},
   "source": [
    "## 생성자\n",
    "\n",
    "- 객체를 생성할 때 new와 함께 호출\n",
    "- 인스턴스를 초기화 하는 코드 구현, 멤버변수 초기화\n",
    "- 반환값이 없고 상속되지 않음\n",
    "\n",
    "\n",
    "### 기본 생성자\n",
    "- 하나의 클래스에는 반드시 하나 이상의 생성자를 존재\n",
    "- 프로그래머가 생성자를 구현하지 않으면 컴파일러가 생성자를 만들어줌(ㄷ - 프리컴파일 단계에서)\n",
    "- 기본 생성자는 매개변수가 없고, 구현부가 없음\n",
    "- 클래스에서 달느 생성자가 있으면 디폴트 생성자는 구현되지 않음"
   ]
  },
  {
   "cell_type": "code",
   "execution_count": 10,
   "metadata": {},
   "outputs": [],
   "source": [
    "public class Student {\n",
    "    // 멤버변수\n",
    "    public int studentID;\n",
    "    public String studentName;\n",
    "    public String address;\n",
    "    \n",
    "    // 기본 생성자 : 직접 구현 가능 == __init__\n",
    "    // 이럴 경우에는 인자를 넘겨줘야 인스턴스 만드는게 가능함\n",
    "    public Student(int id, String name) {\n",
    "        // 초기화를 안해주면 null로 초기화\n",
    "        studentID = id;\n",
    "        studentName = name;\n",
    "        address = \"주소 없음\";\n",
    "    }\n",
    "    \n",
    "    // 메서드\n",
    "    public void showStduentInfo() {\n",
    "        System.out.println(studentName+\",\"+address);\n",
    "    }\n",
    "    \n",
    "    public String getStudentName() {\n",
    "        return studentName;\n",
    "    }\n",
    "}"
   ]
  },
  {
   "cell_type": "code",
   "execution_count": 14,
   "metadata": {},
   "outputs": [
    {
     "name": "stdout",
     "output_type": "stream",
     "text": [
      "3\n",
      "이순신\n",
      "주소 없음\n"
     ]
    }
   ],
   "source": [
    "Student studentLee = new Student(3, \"이순신\");\n",
    "\n",
    "System.out.println(studentLee.studentID);\n",
    "System.out.println(studentLee.studentName);\n",
    "System.out.println(studentLee.address);"
   ]
  },
  {
   "cell_type": "markdown",
   "metadata": {},
   "source": [
    "### 생성자 오버로딩\n",
    "- 생성자를 두개 이상 구현하는 것\n",
    "- 필요에 따라 매개변수를 다르게 하여 다른 인스턴스를 구현해볼 수 있다\n",
    "\n",
    "### private vs public\n",
    "- private으로 정의된 메소드나 멤버변수는 클래스 밖에서 참조될 수 없다"
   ]
  },
  {
   "cell_type": "markdown",
   "metadata": {},
   "source": [
    "## 참조 자료형\n",
    "클래스형으로 변수를 선언해서 만들어 쓰는 새로운 자료형"
   ]
  },
  {
   "cell_type": "code",
   "execution_count": 19,
   "metadata": {},
   "outputs": [],
   "source": [
    "public class Subject {\n",
    "    String subjectName;\n",
    "    int score;\n",
    "    int subjectID;\n",
    "    \n",
    "    public Subject(int id) {\n",
    "        subjectID = id;\n",
    "    }\n",
    "    \n",
    "    public void setSubjectScore(int num) {\n",
    "        score = num;\n",
    "    }\n",
    "}"
   ]
  },
  {
   "cell_type": "code",
   "execution_count": 28,
   "metadata": {},
   "outputs": [],
   "source": [
    "public class Student {\n",
    "    int studentId;\n",
    "    String studentName;\n",
    "    \n",
    "    // 생성을 해서 쓰기\n",
    "    Subject korea;\n",
    "    Subject math;\n",
    "    \n",
    "    public Student(int id, String name) {\n",
    "        studentId = id;\n",
    "        studentName = name;\n",
    "        \n",
    "        korea = new Subject(0);\n",
    "        math = new Subject(1);\n",
    "    }\n",
    "    \n",
    "    public int getTotalScore() {\n",
    "        int total = korea.score + math.score;\n",
    "        return total;\n",
    "    }\n",
    "}"
   ]
  },
  {
   "cell_type": "code",
   "execution_count": 29,
   "metadata": {},
   "outputs": [],
   "source": [
    "Student studentKim = new Student(100, \"김종혁\");"
   ]
  },
  {
   "cell_type": "code",
   "execution_count": 30,
   "metadata": {},
   "outputs": [
    {
     "data": {
      "text/plain": [
       "60"
      ]
     },
     "execution_count": 30,
     "metadata": {},
     "output_type": "execute_result"
    }
   ],
   "source": [
    "studentKim.korea.setSubjectScore(60);\n",
    "studentKim.korea.score;"
   ]
  },
  {
   "cell_type": "code",
   "execution_count": 32,
   "metadata": {},
   "outputs": [
    {
     "data": {
      "text/plain": [
       "140"
      ]
     },
     "execution_count": 32,
     "metadata": {},
     "output_type": "execute_result"
    }
   ],
   "source": [
    "studentKim.math.setSubjectScore(80);\n",
    "studentKim.getTotalScore()"
   ]
  }
 ],
 "metadata": {
  "kernelspec": {
   "display_name": "Java",
   "language": "java",
   "name": "java"
  },
  "language_info": {
   "codemirror_mode": "java",
   "file_extension": ".jshell",
   "mimetype": "text/x-java-source",
   "name": "Java",
   "pygments_lexer": "java",
   "version": "13.0.2+8"
  }
 },
 "nbformat": 4,
 "nbformat_minor": 4
}
