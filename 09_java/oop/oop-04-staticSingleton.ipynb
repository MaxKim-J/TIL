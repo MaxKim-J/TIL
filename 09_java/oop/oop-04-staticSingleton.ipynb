{
 "cells": [
  {
   "cell_type": "markdown",
   "metadata": {},
   "source": [
    "# static + singleton\n",
    "2020.04.17  \n",
    "스태틱 키워드 활용, 싱글톤 패턴"
   ]
  },
  {
   "cell_type": "markdown",
   "metadata": {},
   "source": [
    "## static\n",
    "- 클래스 이름으로 access 가능 == 클래스 메서드, 정적 메서드\n",
    "- 여러 인스턴스가 하나의 값을 공유할 필요가 있음\n",
    "- 처음 프로그램이 로드될때 데이터 영역에 생성됨. 데이터 영역 메모리를 인스턴스들이 다 가리키고 있음\n",
    "- 인스턴스의 생성과 상관없이 사용할 수 있어 클래스 이름으로 참조. 생성자 사용 시 생기는게 아님\n",
    "- 클래스 변수, 정적 변수라고 함(자바스크립트에서도 구분되지,,, `prototype.`이냐 그냥`.`냐)"
   ]
  },
  {
   "cell_type": "markdown",
   "metadata": {},
   "source": [
    "### 예제"
   ]
  },
  {
   "cell_type": "code",
   "execution_count": 1,
   "metadata": {},
   "outputs": [],
   "source": [
    "// 학생 클래스\n",
    "\n",
    "public class Student {\n",
    "    \n",
    "    // 정적변수\n",
    "    public static int serialNum = 1000;\n",
    "    \n",
    "    // 프라이빗. 부를 수 없음 + get메소드 제공 + 클래스 안에서만 바꿀 수 있게 하는게 안전함\n",
    "    // public이면 클래스 밖, 인스턴스 없이도 값 수정 가능하니 위험\n",
    "    private int studentID;\n",
    "    public String studentName;\n",
    "    public String address;\n",
    "    \n",
    "    // 스태틱 값을 증가시켜 id값 부여\n",
    "    public Student(String name) {\n",
    "        this.studentName = name;\n",
    "        serialNum++;\n",
    "        studentID = serialNum;\n",
    "    }\n",
    "\n",
    "    public void showStudentInfo() {\n",
    "        System.out.println(studentName + \",\" + address);\n",
    "    }\n",
    "    \n",
    "    public String getStudentName() {\n",
    "        return this.studentName;\n",
    "    }\n",
    "    \n",
    "    public int getStudentId() {\n",
    "        return this.studentID;\n",
    "    }\n",
    "    \n",
    "    public static int getSerialNum() {\n",
    "        // 스태틱 안에서 인스턴스 변수 쓸 수 없음\n",
    "        // 인스턴스와 dependency가 없어야함 : 생성자가 생겨야 생기는 멤버변수는 쓸 수 없음\n",
    "        // 스태틱 변수는 프로그램이 로드될때 사용하니 ㄱㅊ\n",
    "        int i = 0;\n",
    "        return serialNum;\n",
    "    }\n",
    "}"
   ]
  },
  {
   "cell_type": "code",
   "execution_count": 2,
   "metadata": {},
   "outputs": [
    {
     "name": "stdout",
     "output_type": "stream",
     "text": [
      "1001\n"
     ]
    }
   ],
   "source": [
    "Student studentLee = new Student(\"lee\");\n",
    "System.out.println(studentLee.serialNum);"
   ]
  },
  {
   "cell_type": "code",
   "execution_count": 3,
   "metadata": {},
   "outputs": [
    {
     "name": "stdout",
     "output_type": "stream",
     "text": [
      "1002\n"
     ]
    }
   ],
   "source": [
    "// 다른 인스턴스에도 계속 같은 메모리 참조 가능\n",
    "\n",
    "Student studentKim = new Student(\"kim\");\n",
    "System.out.println(studentLee.serialNum);"
   ]
  },
  {
   "cell_type": "code",
   "execution_count": 4,
   "metadata": {},
   "outputs": [
    {
     "name": "stdout",
     "output_type": "stream",
     "text": [
      "1001\n"
     ]
    }
   ],
   "source": [
    "System.out.println(studentLee.getStudentId());"
   ]
  },
  {
   "cell_type": "code",
   "execution_count": 5,
   "metadata": {},
   "outputs": [
    {
     "name": "stdout",
     "output_type": "stream",
     "text": [
      "1002\n"
     ]
    }
   ],
   "source": [
    "System.out.println(studentKim.getStudentId());"
   ]
  },
  {
   "cell_type": "code",
   "execution_count": 6,
   "metadata": {},
   "outputs": [
    {
     "name": "stdout",
     "output_type": "stream",
     "text": [
      "1002\n"
     ]
    }
   ],
   "source": [
    "// 인스턴스의 생성과는 상관없이 클래스에서 참조 가능\n",
    "// 인스턴스에서 참조 가능하긴 함 + 주목적은 아님\n",
    "\n",
    "System.out.println(Student.serialNum);"
   ]
  },
  {
   "cell_type": "code",
   "execution_count": 7,
   "metadata": {},
   "outputs": [
    {
     "name": "stdout",
     "output_type": "stream",
     "text": [
      "1002\n"
     ]
    }
   ],
   "source": [
    "// 정적 메소드 클래스에서 참조\n",
    "\n",
    "System.out.println(Student.getSerialNum());"
   ]
  },
  {
   "cell_type": "markdown",
   "metadata": {},
   "source": [
    "### 변수 유형 정리\n",
    "\n",
    "\n",
    "|변수유형|선언위치|사용범위|메모리|생성소멸|\n",
    "|:-:|:-:|:-:|:-:|:-:|\n",
    "|**지역변수**|함수 내부에 선언|함수 내부에서만 사용|스택|함수가 호출될 때 생성되고 함수가 끝나면 소멸|\n",
    "|**멤버변수**|클래스 멤버 변수로 선언|클래스 내부에서 사용하고 private이 아니라면 참조 변수로 다른 클래스에서 사용 가능|힙|인스턴스가 생성될 때 힙에 생성되고 가비지 컬렉터가 메모리 수거할 때 소멸|\n",
    "|**정적변수**|static예약어 사용하여 클래스 내부에 선언|클래스 내부에서 사용하고 Private이 아니면 클래스 이름으로 다른 클래스에서 사용 가능|데이터 영역|프로그램이 처음 시작할때 상수와 함께 데이터 영역에 생성되고 프로그램이 끝나고 메모리를 해제할 때 소멸됨|\n",
    "\n"
   ]
  },
  {
   "cell_type": "markdown",
   "metadata": {},
   "source": [
    "## singleton pattern\n",
    "\n",
    "- 단 하나만 존재해야되는 인스턴스를 이용하는 방법\n",
    "- 클래스를 구현해놓고 생성자를 private화해서 잠근 후 메소드를 통해 클래스 안에서 만들어진 유일한 인스턴스를 클래스 자체 통해서 참조할 수 있게 하는 방법\n",
    "- 생성자는 private, static으로 유일한 객체 생성\n",
    "- 외부에서 유일한 객체를 참조할 수 있는 `public state get`"
   ]
  },
  {
   "cell_type": "code",
   "execution_count": 8,
   "metadata": {},
   "outputs": [],
   "source": [
    "public class Company {\n",
    "\n",
    "    // 클래스 안에 생성자, 인스턴스 자체를 클래스 안에 감춰버리기\n",
    "    // 인스턴스 하나를 멤버변수에 들고다님 \n",
    "    private static Company instance = new Company();\n",
    "    \n",
    "    // 기본 생성자 => private이라 생성자를 부를 수 없게 만들기\n",
    "    private Company() {}\n",
    "    \n",
    "    // 생성자 없이 클래스 메소드로 인스턴스 하나를 겟또할 수 있도록 함\n",
    "    public static Company getInstance() {\n",
    "        if (instance == null) {\n",
    "            instance = new Company();\n",
    "        } \n",
    "        return instance;\n",
    "    }\n",
    "    \n",
    "}"
   ]
  },
  {
   "cell_type": "code",
   "execution_count": 9,
   "metadata": {},
   "outputs": [
    {
     "name": "stdout",
     "output_type": "stream",
     "text": [
      "REPL.$JShell$21$Company@74cca918"
     ]
    }
   ],
   "source": [
    "Company company1 = Company.getInstance(); \n",
    "System.out.print(company1);"
   ]
  },
  {
   "cell_type": "code",
   "execution_count": 10,
   "metadata": {},
   "outputs": [
    {
     "name": "stdout",
     "output_type": "stream",
     "text": [
      "REPL.$JShell$21$Company@74cca918"
     ]
    }
   ],
   "source": [
    "Company company2 = Company.getInstance(); \n",
    "System.out.print(company2);"
   ]
  },
  {
   "cell_type": "code",
   "execution_count": 11,
   "metadata": {
    "scrolled": true
   },
   "outputs": [
    {
     "name": "stdout",
     "output_type": "stream",
     "text": [
      "true\n"
     ]
    }
   ],
   "source": [
    "// 두 변수 모두 같은 인스턴스를 참조함\n",
    "\n",
    "System.out.println(company1 == company2);"
   ]
  }
 ],
 "metadata": {
  "kernelspec": {
   "display_name": "Java",
   "language": "java",
   "name": "java"
  },
  "language_info": {
   "codemirror_mode": "java",
   "file_extension": ".jshell",
   "mimetype": "text/x-java-source",
   "name": "Java",
   "pygments_lexer": "java",
   "version": "13.0.2+8"
  }
 },
 "nbformat": 4,
 "nbformat_minor": 4
}
