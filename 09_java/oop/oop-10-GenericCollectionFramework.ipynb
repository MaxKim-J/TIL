{
 "cells": [
  {
   "cell_type": "markdown",
   "metadata": {},
   "source": [
    "# 10. 제네릭 프로그래밍 + 컬렉션 프레임워크\n"
   ]
  },
  {
   "cell_type": "markdown",
   "metadata": {},
   "source": [
    "## 제네릭 프로그래밍\n",
    "\n",
    "- 변수의 선언이나 메서드의 매개변수를 하나의 참조 자료형이 아니라 **여러 자료형**으로 변환될 수 있도록 하는 프로그래밍 방식\n",
    "- 실제 사용되는 참조 자료형으로의 변환은 컴파일러가 검증하므로 안정적인 프로그래밍 방식\n",
    "- T : 자료형 매개변수, type이라는 뜻, 반환형이든 매개변수든 다 가능"
   ]
  },
  {
   "cell_type": "code",
   "execution_count": 1,
   "metadata": {},
   "outputs": [],
   "source": [
    "public class Plastic {\n",
    "    public String toString() {\n",
    "        return \"재료는 플라스틱입니다\";\n",
    "    }\n",
    "}"
   ]
  },
  {
   "cell_type": "code",
   "execution_count": 2,
   "metadata": {},
   "outputs": [],
   "source": [
    "public class Powder {\n",
    "    public String toString() {\n",
    "        return \"재료는 파우더입니다\";\n",
    "    }\n",
    "}"
   ]
  },
  {
   "cell_type": "code",
   "execution_count": 3,
   "metadata": {},
   "outputs": [],
   "source": [
    "public class GenericPrinter<T> {\n",
    "    private T material;\n",
    "    public T getMaterial(){\n",
    "        return material;\n",
    "    }\n",
    "    \n",
    "    public void setMaterial(T material){\n",
    "        this.material = material;\n",
    "    }\n",
    "    \n",
    "    public String toString() {\n",
    "        return material.toString();\n",
    "    }\n",
    "}"
   ]
  },
  {
   "cell_type": "code",
   "execution_count": 4,
   "metadata": {},
   "outputs": [
    {
     "name": "stdout",
     "output_type": "stream",
     "text": [
      "재료는 파우더입니다\n"
     ]
    }
   ],
   "source": [
    "// 다이아몬드 연산자 안에 타입 넣어서 인스턴스 생성\n",
    "GenericPrinter<Powder> powderPrinter = new GenericPrinter<Powder>();\n",
    "\n",
    "// 생성자로 인스턴스만들때 명시된 타입에 해당하는 인스턴스를 넣어서 셋\n",
    "Powder powder = new Powder();\n",
    "powderPrinter.setMaterial(powder);\n",
    "\n",
    "System.out.println(powderPrinter);"
   ]
  },
  {
   "cell_type": "code",
   "execution_count": 5,
   "metadata": {},
   "outputs": [
    {
     "name": "stdout",
     "output_type": "stream",
     "text": [
      "재료는 플라스틱입니다\n"
     ]
    }
   ],
   "source": [
    "GenericPrinter<Plastic> plasticPrinter = new GenericPrinter<Plastic>();\n",
    "Plastic plastic = new Plastic();\n",
    "plasticPrinter.setMaterial(plastic);\n",
    "\n",
    "System.out.println(plasticPrinter);"
   ]
  },
  {
   "cell_type": "code",
   "execution_count": 6,
   "metadata": {},
   "outputs": [],
   "source": [
    "public abstract class Material {\n",
    "    public abstract void doPrinting();\n",
    "}\n",
    "\n",
    "\n",
    "\n",
    "// 매테리얼 클래스를 상속받은 클래스의 인스턴스만 들어올 수 있다\n",
    "public class GenericPrinter<T extends Material> {\n",
    "    private T material;\n",
    "    public T getMaterial(){\n",
    "        return material;\n",
    "    }\n",
    "    \n",
    "    public void setMaterial(T material){\n",
    "        this.material = material;\n",
    "    }\n",
    "    \n",
    "    public String toString() {\n",
    "        return material.toString();\n",
    "    }\n",
    "}"
   ]
  },
  {
   "cell_type": "markdown",
   "metadata": {},
   "source": [
    "### 제네릭 메소드\n",
    "- 메소드 내에서의 자료형 매개변수는 메서드 내에서만 유효\n",
    "- 일반 클래스의 메소드에서도 제네릭을 사용할 수 있더라"
   ]
  },
  {
   "cell_type": "markdown",
   "metadata": {},
   "source": [
    "## 컬렉션 프레임워크\n",
    "\n",
    "- 프로그램 구현에 필요한 자료구조와 알고리즘을 구현해놓은 라이브러리\n",
    "- java.util 패키지에 구현되어 있음\n",
    "- 개발에 소요되는 시간을 절약하고 최적화된 라이브러리를 사용할 수 있음\n",
    "- Collection 인터페이스와 Map 인터페이스로 구성되어있음\n",
    "- Collection : 하나의 객체 관리\n",
    "- Map : 쌍으로 이루어진 객체 관리\n",
    "- ArrayList, LinkedList, Vector, Stack, Queue, PriorityQueue, HashSet, HashMap, BinaryTree, BinarySearchTree"
   ]
  },
  {
   "cell_type": "markdown",
   "metadata": {},
   "source": [
    "### List 인터페이스\n",
    "- ArrayList, Vector(멀티 쓰레드 프로그램에서 동기화 지원)\n",
    "- ArrayList : 배열을 구현한 클래스로 논리적 순서와 물리적 순서가 동일(인덱스에 유리)\n",
    "- LinkedList : 논리적으로는 순차적인 구조지만 물리적으로는 순차적이지 않을 수 있음(수정 삭제에 유리)\n",
    "- **순서!!!**에 따라 저장"
   ]
  },
  {
   "cell_type": "code",
   "execution_count": 7,
   "metadata": {},
   "outputs": [],
   "source": [
    "// 비교를 위한 인터페이스 임플멘트\n",
    "\n",
    "public class Member implements Comparable<Member> {\n",
    "    private int memberId;\n",
    "    private String memberName;\n",
    "    \n",
    "    public Member(){}\n",
    "    public Member(int memberId, String memberName){\n",
    "        this.memberId = memberId;\n",
    "        this.memberName = memberName;\n",
    "    }\n",
    "    \n",
    "    public int getMemberId(){\n",
    "        return memberId;\n",
    "    }\n",
    "    \n",
    "    public void setMemberId(int memberId){\n",
    "        this.memberId = memberId;\n",
    "    }\n",
    "    \n",
    "    public String getMemberName() {\n",
    "        return memberName;\n",
    "    }\n",
    "    \n",
    "    public void setMemberName(String memberName){\n",
    "        this.memberName = memberName;\n",
    "    }\n",
    "    \n",
    "    public String toString(){\n",
    "        return memberName + \"회원님의 아이디는 \"+memberId + \"입니다.\";\n",
    "    }\n",
    "    \n",
    "    // 멤버아이디가 같을때 두 인스턴스를 동일하다고 처리한다\n",
    "    public boolean equals(Object obj) {\n",
    "        if(obj instanceof Member) {\n",
    "            Member member = (Member)obj;\n",
    "            return (this.memberId == member.memberId);\n",
    "        }\n",
    "        return false;\n",
    "    }\n",
    "    \n",
    "    public int hashCode() {\n",
    "        return memberId;\n",
    "    }\n",
    "    \n",
    "    // 트리셋을 위해 컴패러블 또는 compare로도 사용할 수 있음 (comparator)\n",
    "    // 양수를 반환하면 오름차순으로, 반대는 내림차순으로\n",
    "    public int compareTo(Member member) {\n",
    "        return (this.memberId - member.memberId);\n",
    "    }\n",
    "}"
   ]
  },
  {
   "cell_type": "code",
   "execution_count": 8,
   "metadata": {},
   "outputs": [],
   "source": [
    "import java.util.LinkedList;\n",
    "\n",
    "LinkedList<String> myList = new LinkedList<String>();"
   ]
  },
  {
   "cell_type": "code",
   "execution_count": 9,
   "metadata": {},
   "outputs": [
    {
     "data": {
      "text/plain": [
       "true"
      ]
     },
     "execution_count": 9,
     "metadata": {},
     "output_type": "execute_result"
    }
   ],
   "source": [
    "myList.add(\"a\");\n",
    "myList.add(\"b\");\n",
    "myList.add(\"c\");"
   ]
  },
  {
   "cell_type": "code",
   "execution_count": 10,
   "metadata": {
    "scrolled": true
   },
   "outputs": [
    {
     "name": "stdout",
     "output_type": "stream",
     "text": [
      "[a, b, c]\n"
     ]
    }
   ],
   "source": [
    "System.out.println(myList);"
   ]
  },
  {
   "cell_type": "code",
   "execution_count": 11,
   "metadata": {},
   "outputs": [
    {
     "name": "stdout",
     "output_type": "stream",
     "text": [
      "[a, d, b, c]\n"
     ]
    }
   ],
   "source": [
    "myList.add(1,\"d\");\n",
    "System.out.println(myList);"
   ]
  },
  {
   "cell_type": "code",
   "execution_count": 12,
   "metadata": {},
   "outputs": [
    {
     "data": {
      "text/plain": [
       "c"
      ]
     },
     "execution_count": 12,
     "metadata": {},
     "output_type": "execute_result"
    }
   ],
   "source": [
    "myList.removeLast();"
   ]
  },
  {
   "cell_type": "code",
   "execution_count": 13,
   "metadata": {},
   "outputs": [
    {
     "name": "stdout",
     "output_type": "stream",
     "text": [
      "[a, d, b]\n"
     ]
    }
   ],
   "source": [
    "System.out.println(myList);"
   ]
  },
  {
   "cell_type": "code",
   "execution_count": 14,
   "metadata": {},
   "outputs": [
    {
     "name": "stdout",
     "output_type": "stream",
     "text": [
      "a\n",
      "d\n",
      "b\n"
     ]
    }
   ],
   "source": [
    "for(int i=0;i<myList.size(); i++){\n",
    "    // 이런식으로 인덱싱 \n",
    "    String s = myList.get(i);\n",
    "    System.out.println(s);\n",
    "}"
   ]
  },
  {
   "cell_type": "markdown",
   "metadata": {},
   "source": [
    "### stack, queue\n"
   ]
  },
  {
   "cell_type": "code",
   "execution_count": 15,
   "metadata": {},
   "outputs": [],
   "source": [
    "// 스택 구현\n",
    "\n",
    "class MyStack {\n",
    "    private ArrayList<String> arrayStack = new ArrayList<String>();\n",
    "    public void push(String data){\n",
    "        arrayStack.add(data);\n",
    "    }\n",
    "    public String pop(){\n",
    "        int len = arrayStack.size();\n",
    "        if(len == 0){\n",
    "            System.out.println(\"스택이 비었습니다.\");\n",
    "            return null;\n",
    "        }\n",
    "        return arrayStack.remove(len-1);\n",
    "    }\n",
    "}"
   ]
  },
  {
   "cell_type": "code",
   "execution_count": 16,
   "metadata": {},
   "outputs": [],
   "source": [
    "MyStack stack = new MyStack();\n",
    "\n",
    "stack.push(\"a\");\n",
    "stack.push(\"b\");\n",
    "stack.push(\"c\");\n",
    "stack.push(\"d\");"
   ]
  },
  {
   "cell_type": "code",
   "execution_count": 17,
   "metadata": {
    "scrolled": true
   },
   "outputs": [
    {
     "name": "stdout",
     "output_type": "stream",
     "text": [
      "d\n"
     ]
    }
   ],
   "source": [
    "System.out.println(stack.pop())"
   ]
  },
  {
   "cell_type": "code",
   "execution_count": 18,
   "metadata": {},
   "outputs": [
    {
     "name": "stdout",
     "output_type": "stream",
     "text": [
      "c\n"
     ]
    }
   ],
   "source": [
    "System.out.println(stack.pop())"
   ]
  },
  {
   "cell_type": "markdown",
   "metadata": {},
   "source": [
    "### set\n",
    "\n",
    "- 셋은 순서를 보장하지 않기 때문에 순회할려면 이터레이터로 순회해야함\n",
    "- 중복을 해소하는 반복 가능 객체\n",
    "- HashSet 클래스를 사용한다\n",
    "- equals, hashcode 정의해야함"
   ]
  },
  {
   "cell_type": "code",
   "execution_count": 19,
   "metadata": {},
   "outputs": [
    {
     "name": "stdout",
     "output_type": "stream",
     "text": [
      "[김유신, 강감찬, 이순신]\n"
     ]
    }
   ],
   "source": [
    "HashSet<String> set = new HashSet<String>();\n",
    "set.add(\"이순신\");\n",
    "set.add(\"이순신\");\n",
    "set.add(\"김유신\");\n",
    "set.add(\"강감찬\");\n",
    "\n",
    "System.out.println(set);"
   ]
  },
  {
   "cell_type": "code",
   "execution_count": 20,
   "metadata": {},
   "outputs": [
    {
     "name": "stdout",
     "output_type": "stream",
     "text": [
      "[이순신, 이순신, 김유신, 강감찬]\n"
     ]
    }
   ],
   "source": [
    "ArrayList<String> arr = new ArrayList<String>();\n",
    "arr.add(\"이순신\");\n",
    "arr.add(\"이순신\");\n",
    "arr.add(\"김유신\");\n",
    "arr.add(\"강감찬\");\n",
    "\n",
    "System.out.println(arr);"
   ]
  },
  {
   "cell_type": "code",
   "execution_count": 21,
   "metadata": {},
   "outputs": [
    {
     "name": "stdout",
     "output_type": "stream",
     "text": [
      "김유신\n",
      "강감찬\n",
      "이순신\n"
     ]
    }
   ],
   "source": [
    "// 이터레이터 사용\n",
    "\n",
    "Iterator<String> ir = set.iterator();\n",
    "while(ir.hasNext()) {\n",
    "    String str = ir.next();\n",
    "    System.out.println(str);\n",
    "}"
   ]
  },
  {
   "cell_type": "code",
   "execution_count": 22,
   "metadata": {},
   "outputs": [],
   "source": [
    "// 해쉬셋으로 관리하는 멤버\n",
    "\n",
    "import java.util.HashSet;\n",
    "\n",
    "public class MemberHashSet{\n",
    "    private HashSet<Member> hashSet;\n",
    "    \n",
    "    // 생성자\n",
    "    public MemberHashSet() {\n",
    "        hashSet = new HashSet<Member>();\n",
    "    }\n",
    "    \n",
    "    // 멤버 추가\n",
    "    public void addMember(Member member) {\n",
    "        hashSet.add(member);\n",
    "    }\n",
    "    \n",
    "    // 멤버 삭제\n",
    "    public boolean removeMember(int memberId){\n",
    "        // 셋이터레이터 설정\n",
    "        Iterator<Member> ir = hashSet.iterator();\n",
    "        // 다음게 존재하면 계속 돌아감\n",
    "        while(ir.hasNext()){\n",
    "            // 다음거 검증\n",
    "            Member member = ir.next();\n",
    "            // 멤버의 아이디가 파라미터로 들어온 삭제할 멤버의 아이디와 같은지 검증\n",
    "            if(member.getMemberId() == memberId){\n",
    "                // 삭제하고 트루 리턴\n",
    "                hashSet.remove(member);\n",
    "                return true;            \n",
    "            }\n",
    "        }\n",
    "        // 삭제하지 않고 while루프가 끝나면 해당 Id가 존재하지 않는 것, false리턴\n",
    "        System.out.println(memberId + \"번호가 존재하지 않습니다.\");\n",
    "        return false;\n",
    "    }\n",
    "    \n",
    "    public void showAllMember() {\n",
    "        for(Member member: hashSet) {\n",
    "            System.out.println(member);\n",
    "        }\n",
    "        System.out.println();\n",
    "    }\n",
    "}"
   ]
  },
  {
   "cell_type": "code",
   "execution_count": 23,
   "metadata": {},
   "outputs": [
    {
     "name": "stdout",
     "output_type": "stream",
     "text": [
      "Lee회원님의 아이디는 100입니다.\n",
      "Kim회원님의 아이디는 200입니다.\n",
      "Park회원님의 아이디는 300입니다.\n",
      "\n"
     ]
    }
   ],
   "source": [
    "MemberHashSet manager = new MemberHashSet();\n",
    "\n",
    "Member memberLee = new Member(100, \"Lee\");\n",
    "Member memberKim = new Member(200, \"Kim\");\n",
    "Member memberPark = new Member(300, \"Park\");\n",
    "\n",
    "manager.addMember(memberLee);\n",
    "manager.addMember(memberKim);\n",
    "manager.addMember(memberPark);\n",
    "\n",
    "manager.showAllMember();"
   ]
  },
  {
   "cell_type": "code",
   "execution_count": 24,
   "metadata": {
    "scrolled": false
   },
   "outputs": [
    {
     "name": "stdout",
     "output_type": "stream",
     "text": [
      "Lee회원님의 아이디는 100입니다.\n",
      "Kim회원님의 아이디는 200입니다.\n",
      "Park회원님의 아이디는 300입니다.\n",
      "\n"
     ]
    }
   ],
   "source": [
    "// 아직 해쉬 셋에서 뭐가 같은지 논리적으로 구현되어있지 않기 때문에 두개가 들어가있음\n",
    "// equals, hashcode 재정의 필요 => 그제야 해쉬셋 제대로 동작\n",
    "\n",
    "Member memberPark2 = new Member(300, \"Park2\");\n",
    "manager.addMember(memberPark2);\n",
    "manager.showAllMember();"
   ]
  },
  {
   "cell_type": "markdown",
   "metadata": {},
   "source": [
    "### TreeSet\n",
    "\n",
    "- 앞에 트리가 앞에 붙으면 정렬을 위해서 쓰인다\n",
    "- 중복을 허용하지 않으면서 오름차순이나 내림차순으로 객체를 정렬함\n",
    "- 내부적으로 이진검색트리로 구현되어 있음\n",
    "- 이진검색트리에 자료가 저장될 때 비교하여 저장될 위치를 정함\n",
    "- 객체비교를 위해 Comparable, Comparator 인터페이스를 구현한다.\n",
    "- 숫자가 아니라면 비교를 위한 메서드를 구현해야한다\n",
    "- 이미 Comaprable이 구현되어있으면 Comparator을 이용해 다른 정렬방식 구현"
   ]
  },
  {
   "cell_type": "code",
   "execution_count": 25,
   "metadata": {},
   "outputs": [
    {
     "name": "stdout",
     "output_type": "stream",
     "text": [
      "강감찬\n",
      "이순신\n",
      "홍길동\n"
     ]
    }
   ],
   "source": [
    "import java.util.TreeSet;\n",
    "\n",
    "// 오름차순이 comparable의 디폴트\n",
    "TreeSet<String> treeSet = new TreeSet<String>();\n",
    "treeSet.add(\"홍길동\");\n",
    "treeSet.add(\"강감찬\");\n",
    "treeSet.add(\"이순신\");\n",
    "\n",
    "for (String str:treeSet) {\n",
    "    System.out.println(str);\n",
    "}"
   ]
  },
  {
   "cell_type": "code",
   "execution_count": 26,
   "metadata": {},
   "outputs": [],
   "source": [
    "// 그대로 트리셋으로\n",
    "\n",
    "import java.util.TreeSet;\n",
    "\n",
    "public class MemberTreeSet{\n",
    "    private TreeSet<Member> treeSet;\n",
    "    \n",
    "    public MemberTreeSet() {\n",
    "        // comparator을 사용한다면 new TreeSet의 인자로 comapare메소드가 존재하는 클래스를 넣어주면 됨 \n",
    "        treeSet = new TreeSet<Member>();\n",
    "    }\n",
    "    \n",
    "    public void addMember(Member member) {\n",
    "        treeSet.add(member);\n",
    "    }\n",
    "    \n",
    "    public boolean removeMember(int memberId){\n",
    "        Iterator<Member> ir =treeSet.iterator();\n",
    "        while(ir.hasNext()){\n",
    "            Member member = ir.next();\n",
    "            if(member.getMemberId() == memberId){\n",
    "                treeSet.remove(member);\n",
    "                return true;            \n",
    "            }\n",
    "        }\n",
    "        System.out.println(memberId + \"번호가 존재하지 않습니다.\");\n",
    "        return false;\n",
    "    }\n",
    "    \n",
    "    public void showAllMember() {\n",
    "        for(Member member: treeSet) {\n",
    "            System.out.println(member);\n",
    "        }\n",
    "        System.out.println();\n",
    "    }\n",
    "}"
   ]
  },
  {
   "cell_type": "code",
   "execution_count": 27,
   "metadata": {},
   "outputs": [
    {
     "name": "stdout",
     "output_type": "stream",
     "text": [
      "Lee회원님의 아이디는 100입니다.\n",
      "Kim회원님의 아이디는 200입니다.\n",
      "Park회원님의 아이디는 300입니다.\n",
      "\n"
     ]
    }
   ],
   "source": [
    "MemberTreeSet manager2 = new MemberTreeSet();\n",
    "\n",
    "// Comparable에 따라서 id를 기준으로 오름차순 정렬\n",
    "\n",
    "manager2.addMember(memberLee);\n",
    "manager2.addMember(memberKim);\n",
    "manager2.addMember(memberPark);\n",
    "\n",
    "manager2.showAllMember();"
   ]
  },
  {
   "cell_type": "markdown",
   "metadata": {},
   "source": [
    "### map\n",
    "- 키:값 쌍으로 생긴 자료구조\n",
    "- 해쉬맵 트리맵\n",
    "- 키는 유일해야함(내부적으로 hash방식으로 구현되어있음)\n",
    "- HashMap클래스를 자주 쓴다      \n"
   ]
  },
  {
   "cell_type": "code",
   "execution_count": 47,
   "metadata": {},
   "outputs": [],
   "source": [
    "import java.util.HashMap;\n",
    "\n",
    "public class MemberHashMap{\n",
    "    // 키-값 쌍의 타입을 제네릭으로 지정\n",
    "    private HashMap<Integer, Member> hashMap;\n",
    "    \n",
    "    public MemberHashMap() {\n",
    "        hashMap = new HashMap<Integer, Member>();\n",
    "    }\n",
    "    \n",
    "    public void addMember(Member member){\n",
    "        // put메소드로 hashMap에 삽입\n",
    "        hashMap.put(member.getMemberId(), member);\n",
    "    }\n",
    "    \n",
    "    public String getMember(int memberId){\n",
    "       Member member = hashMap.get(memberId);\n",
    "       return member.getMemberName();\n",
    "    }\n",
    "    \n",
    "    public boolean removeMember(int memberId){\n",
    "        if(hashMap.containsKey(memberId)) {\n",
    "            // 키값으로 멤버를 지울 수 있음\n",
    "            hashMap.remove(memberId);\n",
    "            return true;\n",
    "        }\n",
    "        System.out.println(\"회원 번호가 없습니다.\");\n",
    "        return false;\n",
    "    }\n",
    "    \n",
    "    // 순회\n",
    "    public void showAllMembers() {\n",
    "        // 모든 key객체를 한번에 반환\n",
    "        // values는 collection으로 반환\n",
    "        // key는 set으로 반환\n",
    "        Iterator<Integer> ir = hashMap.keySet().iterator();\n",
    "        while(ir.hasNext()){\n",
    "            int key = ir.next();\n",
    "            Member member = hashMap.get(key);\n",
    "            System.out.println(member);\n",
    "        }\n",
    "    }\n",
    "    \n",
    "}"
   ]
  },
  {
   "cell_type": "code",
   "execution_count": 49,
   "metadata": {
    "scrolled": true
   },
   "outputs": [
    {
     "name": "stdout",
     "output_type": "stream",
     "text": [
      "Lee회원님의 아이디는 100입니다.\n",
      "Kim회원님의 아이디는 200입니다.\n",
      "Park회원님의 아이디는 300입니다.\n"
     ]
    }
   ],
   "source": [
    "MemberHashMap manager3 = new MemberHashMap();\n",
    "\n",
    "\n",
    "manager3.addMember(memberLee);\n",
    "manager3.addMember(memberKim);\n",
    "manager3.addMember(memberPark);\n",
    "\n",
    "manager3.showAllMembers();"
   ]
  },
  {
   "cell_type": "code",
   "execution_count": 50,
   "metadata": {},
   "outputs": [
    {
     "name": "stdout",
     "output_type": "stream",
     "text": [
      "Park\n"
     ]
    }
   ],
   "source": [
    "System.out.println(manager3.getMember(300));"
   ]
  }
 ],
 "metadata": {
  "kernelspec": {
   "display_name": "Java",
   "language": "java",
   "name": "java"
  },
  "language_info": {
   "codemirror_mode": "java",
   "file_extension": ".jshell",
   "mimetype": "text/x-java-source",
   "name": "Java",
   "pygments_lexer": "java",
   "version": "13.0.2+8"
  }
 },
 "nbformat": 4,
 "nbformat_minor": 4
}
