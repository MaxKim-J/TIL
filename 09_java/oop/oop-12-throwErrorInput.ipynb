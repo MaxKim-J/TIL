{
 "cells": [
  {
   "cell_type": "markdown",
   "metadata": {},
   "source": [
    "# 12. 자바 예외처리 + 표준 입출력\n",
    "\n",
    "\n",
    "## 예외처리\n",
    "\n",
    "- 컴파일 오류 : 프로그램 코드 작성 중 발생하는 문법적 오류\n",
    "- 실행 오류 : 실행 중인 프로그램이 의도치않은 동작을 하거나 프로그램이 중지되는 오류\n",
    "- 자바는 예외처리를 통하여 프로그램의 비정상 종료를 막고 log를 남길 수 있음"
   ]
  },
  {
   "cell_type": "markdown",
   "metadata": {},
   "source": [
    "### 오류와 예외 클래스\n",
    "- 시스템 오류 : 가상 머신에서 발생, 프로그래머가 처리할 수 없음, 동적 메모리를 다 사용하거나 스택오버플로우가 발생했을 경우\n",
    "- 예외 : 프로그램에서 제어할 수 있는 오류, 읽으려는 파일이 없는 경우, 네트웍이나 소켓 연결 오류 등"
   ]
  },
  {
   "cell_type": "markdown",
   "metadata": {},
   "source": [
    "### Exception 클래스\n",
    "\n",
    "- 모든 예외 클래스의 최상위 클래스는 Exception 클래스임\n",
    "- try catch 문으로 예외를 잡아냄\n",
    "     - try : 예외가 발생할 수 있는 부분\n",
    "     - catch : 예외가 발생했을 때 실행할 부분\n",
    "     - finally : 리소스 해제, 예외가 발생했든 안했든 무조건 수행됨, 이 안에 새로운 try catch도 들어올 수 이씀\n",
    "     - 에러마다 다른 catch문을 사용할 수 있음 "
   ]
  },
  {
   "cell_type": "code",
   "execution_count": 1,
   "metadata": {},
   "outputs": [
    {
     "name": "stdout",
     "output_type": "stream",
     "text": [
      "0\n",
      "0\n",
      "0\n",
      "0\n",
      "0\n",
      "java.lang.ArrayIndexOutOfBoundsException: Index 5 out of bounds for length 5\n",
      "예외처리\n",
      "프로그램 종료\n"
     ]
    }
   ],
   "source": [
    "// 프로그램은 어떻게든 돌게 된다는게 중요하다\n",
    "\n",
    "int[] arr = new int[5];\n",
    "try {\n",
    "    for(int i=0;i<=5;i++){\n",
    "        System.out.println(arr[i]);\n",
    "    }\n",
    "}catch(ArrayIndexOutOfBoundsException e){\n",
    "    System.out.println(e);\n",
    "    System.out.println(\"예외처리\");\n",
    "    }\n",
    "System.out.println(\"프로그램 종료\");    \n"
   ]
  },
  {
   "cell_type": "markdown",
   "metadata": {},
   "source": [
    "### try-with-resources\n",
    "- 리소스를 자동으로 해제할 수 있게\n",
    "- 리소스가 AutoCloseable을 구현했다면 close()를 명시적으로 호출하지 않아도\n",
    "- try{}블록에서 오픈된 리소스가 정상적인 경우나 예외가 발생 한경우 모두 자동으로 리소스 해제됨"
   ]
  },
  {
   "cell_type": "code",
   "execution_count": 2,
   "metadata": {},
   "outputs": [],
   "source": [
    "// AutoCloaseable 구현\n",
    "// 음 그냥 finally를 클래스 안에다가 구현한거임\n",
    "\n",
    "public class AutoCloseObj implements AutoCloseable {\n",
    "    @Override\n",
    "    public void close() throws Exception{\n",
    "        System.out.println(\"Close가 호출되었고 얘는 종료\");\n",
    "    }\n",
    "}"
   ]
  },
  {
   "cell_type": "code",
   "execution_count": 3,
   "metadata": {},
   "outputs": [
    {
     "name": "stdout",
     "output_type": "stream",
     "text": [
      "실행\n",
      "Close가 호출되었고 얘는 종료\n",
      "에러\n"
     ]
    }
   ],
   "source": [
    "// 에러가 나든 안나든 close가 호출됨\n",
    "\n",
    "// try에다가 생성자 인자 넘겨줌\n",
    "// 자바 9부터는 try안에 변수만 넣어줘도 됨\n",
    "try(AutoCloseObj obj = new AutoCloseObj()) {\n",
    "    System.out.println(\"실행\");\n",
    "    throw new Exception();\n",
    "} catch(Exception e) {\n",
    "    System.out.println(\"에러\");\n",
    "}"
   ]
  },
  {
   "cell_type": "markdown",
   "metadata": {},
   "source": [
    "### 예외처리 미루기\n",
    "- try 안쓰고 메서드 선언부에 throws를 추가\n",
    "- 예외가 발생한 메서드에서 예외처리를 하지 않고 이 메소드를 호출한 곳에서 예외 처리한다"
   ]
  },
  {
   "cell_type": "code",
   "execution_count": 4,
   "metadata": {},
   "outputs": [],
   "source": [
    "public class ThrowsException{\n",
    "    // 메서드 선언부에 예외\n",
    "    // 원래는 메서드 안에서 try catch로 예외를 잡아내야했지만, 호출한 곳에서 처리하라는 것\n",
    "    public Class loadClass(String fileName, String className) throws FileNotFoundException, ClassNotFoundException{\n",
    "        FileInputStream fis = new FileInputStream(fileName);\n",
    "        Class c = Class.forName(className);\n",
    "        return c;\n",
    "    }\n",
    "}"
   ]
  },
  {
   "cell_type": "code",
   "execution_count": 5,
   "metadata": {},
   "outputs": [
    {
     "name": "stdout",
     "output_type": "stream",
     "text": [
      "java.io.FileNotFoundException: b.txt (No such file or directory)\n",
      "end\n"
     ]
    }
   ],
   "source": [
    "ThrowsException test = new ThrowsException();\n",
    "\n",
    "try {\n",
    "    test.loadClass(\"b.txt\", \"java.lang.string\");\n",
    "} catch (FileNotFoundException e) {\n",
    "    System.out.println(e);\n",
    "} catch (ClassNotFoundException e) {\n",
    "    System.out.println(e);\n",
    "} catch (Exception e) {\n",
    "    // 다중예외처리\n",
    "    // 최상위 클래스 exception : 모든 예외는 이걸로 업캐스팅됨\n",
    "    // 디폴트 exception : 무조건 맨 아래다가 넣어야함\n",
    "    System.out.println(e);\n",
    "}\n",
    "\n",
    "System.out.println(\"end\");"
   ]
  },
  {
   "cell_type": "markdown",
   "metadata": {},
   "source": [
    "### 예외 직접 만들기"
   ]
  },
  {
   "cell_type": "code",
   "execution_count": 6,
   "metadata": {},
   "outputs": [],
   "source": [
    "// Exception 클래스 상속받은 새로운 예외 클래스\n",
    "\n",
    "public class IDFormatException extends Exception {\n",
    "    public IDFormatException(String message) {\n",
    "        super(message);\n",
    "    }\n",
    "}"
   ]
  },
  {
   "cell_type": "code",
   "execution_count": 7,
   "metadata": {},
   "outputs": [],
   "source": [
    "public class IDFormatTest {\n",
    "    private String userId;\n",
    "    \n",
    "    public String getUserId(){\n",
    "        return userId;\n",
    "    }\n",
    "    \n",
    "    public void setUserId(String userId)throws IDFormatException{\n",
    "    \n",
    "        if (userId == null) {\n",
    "            throw new IDFormatException(\"아이디는 눌일수 없지렁\");\n",
    "        } else if(userId.length() < 8 || userId.length() > 20) {\n",
    "            throw new IDFormatException(\"아이디는 8자 이상 20자 이하로 쓰세영\");\n",
    "        }\n",
    "        this.userId = userId;\n",
    "    }\n",
    "}"
   ]
  },
  {
   "cell_type": "code",
   "execution_count": 8,
   "metadata": {},
   "outputs": [
    {
     "name": "stdout",
     "output_type": "stream",
     "text": [
      "REPL.$JShell$21$IDFormatException: 아이디는 눌일수 없지렁\n"
     ]
    }
   ],
   "source": [
    "IDFormatTest idTest = new IDFormatTest();\n",
    "\n",
    "String myId = null;\n",
    "try {\n",
    "    idTest.setUserId(myId);\n",
    "} catch(IDFormatException e) {\n",
    "    System.out.println(e);\n",
    "}\n"
   ]
  },
  {
   "cell_type": "code",
   "execution_count": 9,
   "metadata": {},
   "outputs": [
    {
     "name": "stdout",
     "output_type": "stream",
     "text": [
      "REPL.$JShell$21$IDFormatException: 아이디는 8자 이상 20자 이하로 쓰세영\n"
     ]
    }
   ],
   "source": [
    "String myId2 = \"23125\";\n",
    "\n",
    "try {\n",
    "    idTest.setUserId(myId2);\n",
    "} catch(IDFormatException e) {\n",
    "    System.out.println(e);\n",
    "}\n"
   ]
  },
  {
   "cell_type": "markdown",
   "metadata": {},
   "source": [
    "## 자바 입출력\n",
    "\n",
    "### 자바 입출력 스트림\n",
    "- 다양한 입출력 장치에 독립적으로 일관성있는 입출력 방식 제공\n",
    "- 입출력이 구현되는 곳에서는 모두 I/O 스트림을 사용\n",
    "- 입력 스트림 : 대상으로부터 자료를 읽어 들임\n",
    "- 출력 스트림 : 대상으로 자료를 출력함"
   ]
  },
  {
   "cell_type": "markdown",
   "metadata": {},
   "source": [
    "### 표준 입출력(Standard IO)\n",
    "- System 클래스의 표준 입출력 멤버들\n",
    "- 예외처리 해야댐\n",
    "```java\n",
    "public class System {\n",
    "    public static PrintStream out;\n",
    "    public static InputStream in;\n",
    "    public static PrintStream err;\n",
    "}\n",
    "```"
   ]
  },
  {
   "cell_type": "code",
   "execution_count": 6,
   "metadata": {},
   "outputs": [
    {
     "name": "stdout",
     "output_type": "stream",
     "text": [
      "입력: \n",
      "ssdfdgdg\n",
      "ssdfdgdg"
     ]
    }
   ],
   "source": [
    "System.out.println(\"입력: \");\n",
    "\n",
    "// 바이트 단위로 읽어 들이는 시스템\n",
    "// close 할필요 없음\n",
    "try {\n",
    "    int i;\n",
    "    while ((i = System.in.read()) != '\\n'){\n",
    "        System.out.print((char)i);\n",
    "    }\n",
    "   \n",
    "} catch(IOException e) {\n",
    "    e.printStackTrace();\n",
    "}\n"
   ]
  },
  {
   "cell_type": "code",
   "execution_count": 8,
   "metadata": {},
   "outputs": [
    {
     "name": "stdout",
     "output_type": "stream",
     "text": [
      "입력후 끝이라고 쓰셈: \n",
      "안녕나는max라네끝\n",
      "안녕나는max라네"
     ]
    }
   ],
   "source": [
    "// 한글의 경우\n",
    "// read는 1바이트씩 읽으니까(인풋스트림)\n",
    "// 2바이트씩 읽으려면 보조스트림이 필요한거임\n",
    "System.out.println(\"입력후 끝이라고 쓰셈: \");\n",
    "\n",
    "// 바이트 단위로 읽어 들이는 시스템\n",
    "// close 할필요 없음\n",
    "try {\n",
    "    int i;\n",
    "    // isr이 여기서 보조스트림\n",
    "    InputStreamReader isr = new InputStreamReader(System.in);\n",
    "    while ((i = isr.read()) != '끝'){\n",
    "        System.out.print((char)i);\n",
    "    }\n",
    "   \n",
    "} catch(IOException e) {\n",
    "    e.printStackTrace();\n",
    "}\n",
    "\n"
   ]
  },
  {
   "cell_type": "markdown",
   "metadata": {},
   "source": [
    "### Scanner\n",
    "- java.util 패키지의 입력 클래스\n",
    "- 문자뿐 아니라 정수 실수등 다양한 자료형을 읽음"
   ]
  },
  {
   "cell_type": "markdown",
   "metadata": {},
   "source": [
    "### Console\n",
    "- System.in 말구 콘솔에서 표준 입출력 가능하게 하는 클래스\n",
    "- 콘솔에서만 들어감"
   ]
  },
  {
   "cell_type": "code",
   "execution_count": 10,
   "metadata": {},
   "outputs": [
    {
     "name": "stdout",
     "output_type": "stream",
     "text": [
      "이름: \n"
     ]
    },
    {
     "ename": "EvalException",
     "evalue": "null",
     "output_type": "error",
     "traceback": [
      "\u001b[1m\u001b[31m---------------------------------------------------------------------------\u001b[0m",
      "\u001b[1m\u001b[31mjava.lang.NullPointerException: null\u001b[0m",
      "\u001b[1m\u001b[31m\tat .(#31:1)\u001b[0m"
     ]
    }
   ],
   "source": [
    "import java.io.Console;\n",
    "\n",
    "Console console = System.console();\n",
    "System.out.println(\"이름: \");\n",
    "String name = console.readLine();\n",
    "System.out.println(\"비번: \");\n",
    "// 이것도 바이트로 가져오나보넹\n",
    "char[] password = console.readPassword()\n",
    "\n",
    "System.out.println(name);\n",
    "System.out.println(password);"
   ]
  }
 ],
 "metadata": {
  "kernelspec": {
   "display_name": "Java",
   "language": "java",
   "name": "java"
  },
  "language_info": {
   "codemirror_mode": "java",
   "file_extension": ".jshell",
   "mimetype": "text/x-java-source",
   "name": "Java",
   "pygments_lexer": "java",
   "version": "13.0.2+8"
  }
 },
 "nbformat": 4,
 "nbformat_minor": 4
}
