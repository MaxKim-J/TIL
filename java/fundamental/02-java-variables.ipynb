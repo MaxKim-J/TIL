{
 "cells": [
  {
   "cell_type": "markdown",
   "metadata": {},
   "source": [
    "# 자바 프로그래밍 변수\n",
    "2020.04.02-04.10  \n",
    "컴퓨터 프로그래밍 4강"
   ]
  },
  {
   "cell_type": "markdown",
   "metadata": {},
   "source": [
    "## 자료형\n",
    "C언어랑 비슷한데 문자열은 약간 동적언어같이생김  \n",
    "물론 메모리 빣빣관리하기 좋음\n",
    "\n",
    "#### 정수형\n",
    "\n",
    "1. byte : 1바이트, 아주 작은 정수, -127~128\n",
    "2. short : 2바이트, 작은 정수, -32768~32767\n",
    "3. int : 4바이트, 정수형, -21억~ 21억\n",
    "4. long : 8바이트, 큰 정수형, -900경~900경\n",
    "\n",
    "#### 실수형\n",
    "1. float : 4바이트, 실수형, 실수형인 float에 대입할 때는 숫자 맨 뒤에 `f`붙여야댐\n",
    "2. double : 8바이트, 큰 실수형, 자바는 double을 기본 실수형으로 취급함 그래서 f안붙이면 더블로 인식\n",
    "\n",
    "\n",
    "- double은 부동소수점수 연산 소수점 아래 15자리까지의 정밀도 표현\n",
    "\n",
    "\n",
    "- 정수정수 연산은 정수인데 정수랑 실수랑 연산하면 실수가됨\n",
    "- 정수정수 연산의 결과물을 실수 변수에 저장해도 실수가됨(그런데 일단 정수정수 연산의 결과 자체가 정수인지 소수인지 생각해봐야댐)\n",
    "\n",
    "#### 문자\n",
    "1. char : 한 문자를 표현, 2바이트/물론 2바이트 크기의 정수형으로 취급해도 된다\n",
    "\n",
    "#### 불리언\n",
    "1. boolean : 1바이트, 참/거짓을 저장\n",
    "\n",
    "#### 문자열\n",
    "1. String : 입력한 글자수의 *2 바이트(오 동적언어같네;;)"
   ]
  },
  {
   "cell_type": "markdown",
   "metadata": {},
   "source": [
    "## 변수 선언 방법\n",
    "- 변수의 종류가 같은 경우에는 각각의 변수를 개별적으로 선언 또는 쉼표를 사용하여 연속적으로 선언(그 경우에만 가능)\n",
    "- (파이썬과 같이) 예약어는 변수로 선언할 수 없음\n",
    "- 변수 이름의 길이에는 제한이 없음\n",
    "- 문자, 언더바(_) 달러사인($) 중 하나로 시작해야함\n",
    "- 대소문자 구분함\n",
    "- 첫 글자에 숫자가 올 수 없음\n",
    "- 빈칸 안됨\n",
    "- 한글을 사용해도 문제는 없지만 영어를 쓰는게 좋겟져"
   ]
  },
  {
   "cell_type": "code",
   "execution_count": 1,
   "metadata": {},
   "outputs": [],
   "source": [
    "// 변수만 선언\n",
    "int a; \n",
    "\n",
    "// 변수를 선언하고 동시에 초기값 대입\n",
    "int b = 1; \n",
    "\n",
    "// 동일 자료형 변수를 한번에 선언\n",
    "int c,d,e; \n",
    "\n",
    "// 맨 끝 변수만 초기화하고 다른건 대입 안됨\n",
    "//int f,g,h, = 2; \n",
    "\n",
    "// 동일 자료형 변수를 한번에 선언하면서 서로 다른 값으로 초기값 대입\n",
    "int i=1,j=2,k=3 "
   ]
  },
  {
   "cell_type": "code",
   "execution_count": 2,
   "metadata": {},
   "outputs": [],
   "source": [
    "int a = 3;\n",
    "\n",
    "// 실수형 뒤에 f\n",
    "float b = 3.5f;\n",
    "\n",
    "char c = 'c';\n",
    "\n",
    "boolean d = true;\n",
    "\n",
    "String e = \"eeeee\";"
   ]
  },
  {
   "cell_type": "markdown",
   "metadata": {},
   "source": [
    "## 변수 초기화\n",
    "\n",
    "- 변수에 최초로 값이 저장될 때 메모리에 변수가 생성\n",
    "- 이것을 변수 초기화라고 하고, 이때의 값을 초기화라고 함\n",
    "- 초기화를 하지 않으면 메모리에서 값을 읽을수가 없음(c언어처럼 딱히 값을 할당하지 않을 때는 0이 들어가는듯)"
   ]
  },
  {
   "cell_type": "code",
   "execution_count": 8,
   "metadata": {},
   "outputs": [],
   "source": [
    "int value;\n",
    "int result = value + 10;"
   ]
  },
  {
   "cell_type": "code",
   "execution_count": 10,
   "metadata": {},
   "outputs": [
    {
     "name": "stdout",
     "output_type": "stream",
     "text": [
      "10"
     ]
    }
   ],
   "source": [
    "System.out.print(result);"
   ]
  },
  {
   "cell_type": "code",
   "execution_count": 9,
   "metadata": {},
   "outputs": [],
   "source": [
    "int value2 = 30;\n",
    "int result2 = value2 + 10;"
   ]
  },
  {
   "cell_type": "code",
   "execution_count": 11,
   "metadata": {},
   "outputs": [
    {
     "name": "stdout",
     "output_type": "stream",
     "text": [
      "40"
     ]
    }
   ],
   "source": [
    "System.out.print(result2);"
   ]
  },
  {
   "cell_type": "markdown",
   "metadata": {},
   "source": [
    "## 상수와 리터럴\n",
    "- 상수 : 변하지 않는 수\n",
    "- 리터럴 : 프로그래밍에서 사용하는 모든 숫자, 값, 논리값 == 프로그래머에 의해 직접 입력된 값\n",
    "- 모든 리터럴은 상수 풀에 저장되어 있음. 정수는 `int`, 실수는 `double`"
   ]
  },
  {
   "cell_type": "markdown",
   "metadata": {},
   "source": [
    "#### 형변환\n",
    "- 묵시적 형변환 : 작은 수에서 큰 수로 덜 정밀한 수에서 더 정밀한 수로 대입되는 경우\n",
    "- 명시적 형변환 : 변환되는 자료형을 명시, 자료의 손실이 발생할 수 있음\n",
    "- btye < short | char < int < long < float < double"
   ]
  },
  {
   "cell_type": "code",
   "execution_count": 3,
   "metadata": {},
   "outputs": [],
   "source": [
    "// byte(1)를 int(4)로 (묵시적)\n",
    "\n",
    "byte bNum = 10;\n",
    "int iNum = bNum;"
   ]
  },
  {
   "cell_type": "code",
   "execution_count": 4,
   "metadata": {},
   "outputs": [],
   "source": [
    "// int(4)를 float(4)으로 (묵시적)\n",
    "\n",
    "int iNum2 = 20;\n",
    "float fNum = iNum2;"
   ]
  },
  {
   "cell_type": "code",
   "execution_count": 5,
   "metadata": {},
   "outputs": [],
   "source": [
    "// double(8)를 int(4)로 (묵시적)\n",
    "\n",
    "double dNum;\n",
    "dNum = fNum + iNum"
   ]
  },
  {
   "cell_type": "code",
   "execution_count": 6,
   "metadata": {},
   "outputs": [
    {
     "name": "stdout",
     "output_type": "stream",
     "text": [
      "-24\n"
     ]
    }
   ],
   "source": [
    "// int를 byte로 (명시적 - 데이터 손실 발생)\n",
    "\n",
    "int i =1000;\n",
    "byte bNum = (byte)i;\n",
    "System.out.println(bNum);"
   ]
  },
  {
   "cell_type": "code",
   "execution_count": 7,
   "metadata": {},
   "outputs": [
    {
     "name": "stdout",
     "output_type": "stream",
     "text": [
      "1\n",
      "2\n"
     ]
    }
   ],
   "source": [
    "// double(8), float(4)을 int(4)로 (명시적+묵시적)\n",
    "double dNum1 = 1.2;\n",
    "float fNum = 0.9F;\n",
    "\n",
    "// 1+0(실수 => 정수로가면 소수점이 짤리는 방식으로 데이터 유실)\n",
    "int iNum1 = (int)dNum1 + (int)fNum;\n",
    "\n",
    "// (int)2.1\n",
    "int iNum2 = (int)(dNum1 + fNum);\n",
    "\n",
    "System.out.println(iNum1);\n",
    "System.out.println(iNum2);"
   ]
  },
  {
   "cell_type": "markdown",
   "metadata": {},
   "source": [
    "#### 무슨 자료형인지 알기\n",
    "자스에서 쓰는 `typeOf`같은거 없음\n",
    "1. 자료형 검사하는 클래스를 만든다(;;)\n",
    "2. instanceof 함수를 사용한다(참조변수인경우에만가능?)"
   ]
  },
  {
   "cell_type": "markdown",
   "metadata": {},
   "source": [
    "## 로컬 변수\n",
    "- 메소드 블록 내에서 선언된 변수\n",
    "- 로컬 변수는 메소드 블록 내에서만 사용되고 메소드 실행이 끝나면 자동 삭제됨(블록 레벨 스코프)\n",
    "- 자바는 그냥 싸그리 블록레벨스코프, 클래스블록, 메소드블록과 덧붙여서 if문이나 for문에도 적용"
   ]
  },
  {
   "cell_type": "code",
   "execution_count": 16,
   "metadata": {},
   "outputs": [],
   "source": [
    "// 클래스 블록 범위\n",
    "public class VariableExample{\n",
    "    // 메소드 블록 범위\n",
    "    public static void main(String[] args){\n",
    "        int value = 10;\n",
    "        int sum = value + 20;\n",
    "        System.out.println(sum);\n",
    "    }\n",
    "}"
   ]
  },
  {
   "cell_type": "markdown",
   "metadata": {},
   "source": [
    "## var - 자료형 없는 변수 사용\n",
    "\n",
    "### 지역 변수 자료형 추론\n",
    "- 변수에 대입되는 값을 보고 컴파일러가 추론\n",
    "- 한번 선언한 자료형 변수를 다른 자료형 변수로 사용할 수 없음\n",
    "- var로 자료형 없이 변수를 선언하는 방법은 지역변수만 가능함\n",
    "- 지역변수는 블록레벨스코프 안의 변수\n",
    "- 동적언어로써의 면모도 갖추고 있군!"
   ]
  },
  {
   "cell_type": "code",
   "execution_count": 21,
   "metadata": {},
   "outputs": [
    {
     "name": "stdout",
     "output_type": "stream",
     "text": [
      "10\n",
      "10.0\n",
      "hello\n"
     ]
    }
   ],
   "source": [
    "var j = 10;\n",
    "var i = 10.0;\n",
    "var str = \"hello\";\n",
    "\n",
    "System.out.println(j);\n",
    "System.out.println(i);\n",
    "System.out.println(str);"
   ]
  },
  {
   "cell_type": "markdown",
   "metadata": {},
   "source": [
    "## 진수표현\n",
    "- 2진수 : 0b\n",
    "- 8진수 : 0(특이하네)\n",
    "- 16진수 : 0x"
   ]
  },
  {
   "cell_type": "code",
   "execution_count": 24,
   "metadata": {},
   "outputs": [
    {
     "name": "stdout",
     "output_type": "stream",
     "text": [
      "6\n",
      "8\n",
      "16\n"
     ]
    }
   ],
   "source": [
    "int a = 0b0110;\n",
    "int b = 00010;\n",
    "int c = 0x0010;\n",
    "\n",
    "System.out.println(a);\n",
    "System.out.println(b);\n",
    "System.out.println(c);"
   ]
  }
 ],
 "metadata": {
  "kernelspec": {
   "display_name": "Java",
   "language": "java",
   "name": "java"
  },
  "language_info": {
   "codemirror_mode": "java",
   "file_extension": ".jshell",
   "mimetype": "text/x-java-source",
   "name": "Java",
   "pygments_lexer": "java",
   "version": "13.0.2+8"
  }
 },
 "nbformat": 4,
 "nbformat_minor": 4
}
