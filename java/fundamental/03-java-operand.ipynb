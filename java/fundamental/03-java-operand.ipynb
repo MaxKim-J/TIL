{
 "cells": [
  {
   "cell_type": "markdown",
   "metadata": {},
   "source": [
    "# 자바 프로그래밍 연산자\n",
    "2020.04.10  \n",
    "차이점 위주로 살짝 정리"
   ]
  },
  {
   "cell_type": "markdown",
   "metadata": {},
   "source": [
    "## 대입연산자\n",
    "- 가장 우선순위가 낮다, 단항연산자는 높다\n",
    "- 변수를 복사할때는 얕은복사가 됨"
   ]
  },
  {
   "cell_type": "code",
   "execution_count": 2,
   "metadata": {},
   "outputs": [
    {
     "name": "stdout",
     "output_type": "stream",
     "text": [
      "3"
     ]
    }
   ],
   "source": [
    "int x = 3;\n",
    "int y;\n",
    "\n",
    "y = x;\n",
    "System.out.print(y);"
   ]
  },
  {
   "cell_type": "markdown",
   "metadata": {},
   "source": [
    "## 산술연산자\n",
    "- 파이썬과는 다르게 //가 없음 /해서 형변환해야함\n",
    "- 자바스크립트와는 다르게 증감연산자를 사용할 수 있음 +=,-=,*=,%=\n"
   ]
  },
  {
   "cell_type": "markdown",
   "metadata": {},
   "source": [
    "## 증감, 감소\n",
    "- c언어처럼 선위 후위 차이가 있음\n",
    "- 전위 : statement 끝나기 전에 증감\n",
    "- 후위 : statement 끝나고 증감"
   ]
  },
  {
   "cell_type": "markdown",
   "metadata": {},
   "source": [
    "## 비교/논리연산자\n",
    "- 일단 비교연산자는 파이썬 생각하면 됨, 불리언으로 반환\n",
    "- 논리연산자는 자바스크립트 생각하면 됨(&&, ||, !)\n",
    "\n",
    "### 단락회로평가\n",
    "- 논리곱은 두항이 모두 true일때 true, 앞에 false면 뒤에 평가 안함\n",
    "- 논리합은 두항이 모두 false일때 false, 앞에 트루면 뒤에 평가 안함\n",
    "- 참값 거짓값으로 다른 자료형을 논리연산할 수 있는 자바스크립트에서도 단락회로평가를 적용한다 "
   ]
  },
  {
   "cell_type": "code",
   "execution_count": 10,
   "metadata": {},
   "outputs": [
    {
     "name": "stdout",
     "output_type": "stream",
     "text": [
      "true\n"
     ]
    }
   ],
   "source": [
    "boolean result = (5>3)||(5<3);\n",
    "\n",
    "System.out.println(result);"
   ]
  },
  {
   "cell_type": "code",
   "execution_count": 11,
   "metadata": {},
   "outputs": [
    {
     "ename": "CompilationException",
     "evalue": "",
     "output_type": "error",
     "traceback": [
      "\u001b[1m\u001b[30m|   \u001b[1m\u001b[30mboolean nullResult = \u001b[0m\u001b[1m\u001b[30m\u001b[41m3 && 0\u001b[0m\u001b[1m\u001b[30m;\u001b[0m",
      "\u001b[1m\u001b[31mbad operand types for binary operator '&&'\u001b[0m",
      "\u001b[1m\u001b[31m  first type:  int\u001b[0m",
      "\u001b[1m\u001b[31m  second type: int\u001b[0m",
      ""
     ]
    }
   ],
   "source": [
    "// 자바스크립트와는 다르게 거짓값 참값이란 개념은 없는거 같다. 불리언만 비교연산자를 사용할 수 있는듯함\n",
    "\n",
    "boolean nullResult = 3 && 0;\n",
    "System.out.println(nullResult);"
   ]
  },
  {
   "cell_type": "markdown",
   "metadata": {},
   "source": [
    "## 삼항연산자\n",
    "- 간단한 조건문 대신 사용 가능\n",
    "- 자바스크립트 생각하면 됨"
   ]
  },
  {
   "cell_type": "code",
   "execution_count": 3,
   "metadata": {},
   "outputs": [
    {
     "name": "stdout",
     "output_type": "stream",
     "text": [
      "10"
     ]
    }
   ],
   "source": [
    "int num = (5>3) ? 10:20;\n",
    "System.out.print(num);"
   ]
  },
  {
   "cell_type": "markdown",
   "metadata": {},
   "source": [
    "## 비트연산자\n",
    "- 물론 속도가 빠르다\n",
    "- 파이썬 생각하면 댄다(~:not, &:and, |:or, ^:xor)\n",
    "- 시프트 연산자의 경우 (<<, >>, >>>(채워지는 비트가 부호와 상관없이 0))"
   ]
  }
 ],
 "metadata": {
  "kernelspec": {
   "display_name": "Java",
   "language": "java",
   "name": "java"
  },
  "language_info": {
   "codemirror_mode": "java",
   "file_extension": ".jshell",
   "mimetype": "text/x-java-source",
   "name": "Java",
   "pygments_lexer": "java",
   "version": "13.0.2+8"
  }
 },
 "nbformat": 4,
 "nbformat_minor": 4
}
