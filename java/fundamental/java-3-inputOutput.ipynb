{
 "cells": [
  {
   "cell_type": "markdown",
   "metadata": {},
   "source": [
    "# 자바 프로그래밍 3차시\n",
    "2020.04.02  \n",
    "컴퓨터 프로그래밍 3강"
   ]
  },
  {
   "cell_type": "markdown",
   "metadata": {},
   "source": [
    "## 자료형\n",
    "C언어랑 비슷한데 문자열은 약간 동적언어같이생김\n",
    "\n",
    "#### 정수형\n",
    "1. byte : 1바이트, 아주 작은 정수\n",
    "2. short : 2바이트, 작은 정수\n",
    "3. int : 4바이트, 정수형\n",
    "4. long : 8바이트, 큰 정수형\n",
    "\n",
    "#### 실수형\n",
    "1. float : 4바이트, 실수형\n",
    "2. double : 8바이트, 큰 실수형\n",
    "\n",
    "#### 문자\n",
    "1. char : 한 문자를 표현, 2바이트/물론 2바이트 크기의 정수형으로 취급해도 된다\n",
    "\n",
    "#### 불리언\n",
    "1. boolean : 1바이트, 참/거짓을 저장\n",
    "\n",
    "#### 문자열\n",
    "1. String : 입력한 글자수의 *2 바이트(오 동적언어같네;;)"
   ]
  },
  {
   "cell_type": "code",
   "execution_count": 27,
   "metadata": {},
   "outputs": [],
   "source": [
    "int a = 3;\n",
    "\n",
    "// 실수형 뒤에 f\n",
    "float b = 3.5f;\n",
    "\n",
    "char c = 'c';\n",
    "\n",
    "boolean d = true;\n",
    "\n",
    "String e = \"eeeee\";"
   ]
  },
  {
   "cell_type": "markdown",
   "metadata": {},
   "source": [
    "## 상수와 리터럴\n",
    "- 상수 : 변하지 않는 수\n",
    "- 리터럴 : 프로그래에서 사용하는 모든 숫자, 값, 논리값\n",
    "- 모든 리터럴은 상수 풀에 저장되어 있음. 정수는 `int`, 실수는 `double`"
   ]
  },
  {
   "cell_type": "markdown",
   "metadata": {},
   "source": [
    "#### 형변환\n",
    "- 묵시적 형변환 : 작은 수에서 큰 수로 덜 정밀한 수에서 더 정밀한 수로 대입되는 경우\n",
    "- 명시적 형변환 : 변환되는 자료형을 명시, 자료의 손실이 발생할 수 있음\n",
    "- btye < short | char < int < long < float < double"
   ]
  },
  {
   "cell_type": "code",
   "execution_count": 28,
   "metadata": {},
   "outputs": [],
   "source": [
    "// byte(1)를 int(4)로 (묵시적)\n",
    "\n",
    "byte bNum = 10;\n",
    "int iNum = bNum;"
   ]
  },
  {
   "cell_type": "code",
   "execution_count": 29,
   "metadata": {},
   "outputs": [],
   "source": [
    "// int(4)를 float(4)으로 (묵시적)\n",
    "\n",
    "int iNum2 = 20;\n",
    "float fNum = iNum2;"
   ]
  },
  {
   "cell_type": "code",
   "execution_count": 30,
   "metadata": {},
   "outputs": [],
   "source": [
    "// double(8)를 int(4)로 (묵시적)\n",
    "\n",
    "double dNum;\n",
    "dNum = fNum + iNum"
   ]
  },
  {
   "cell_type": "code",
   "execution_count": 38,
   "metadata": {},
   "outputs": [
    {
     "name": "stdout",
     "output_type": "stream",
     "text": [
      "-24\n"
     ]
    }
   ],
   "source": [
    "// int를 byte로 (명시적 - 데이터 손실 발생)\n",
    "\n",
    "int i =1000;\n",
    "byte bNum = (byte)i;\n",
    "System.out.println(bNum);"
   ]
  },
  {
   "cell_type": "code",
   "execution_count": 44,
   "metadata": {},
   "outputs": [
    {
     "name": "stdout",
     "output_type": "stream",
     "text": [
      "1\n",
      "2\n"
     ]
    }
   ],
   "source": [
    "// double(8), float(4)을 int(4)로 (명시적+묵시적)\n",
    "double dNum1 = 1.2;\n",
    "float fNum = 0.9F;\n",
    "\n",
    "// 1+0(실수 => 정수로가면 소수점이 짤리는 방식으로 데이터 유실)\n",
    "int iNum1 = (int)dNum1 + (int)fNum;\n",
    "\n",
    "// (int)2.1\n",
    "int iNum2 = (int)(dNum1 + fNum);\n",
    "\n",
    "System.out.println(iNum1);\n",
    "System.out.println(iNum2);"
   ]
  },
  {
   "cell_type": "markdown",
   "metadata": {},
   "source": [
    "#### 무슨 자료형인지 알기\n",
    "자스에서 쓰는 `typeOf`같은거 없음\n",
    "1. 자료형 검사하는 클래스를 만든다(;;)\n",
    "2. instanceof 함수를 사용한다(참조변수인경우에만가능?)"
   ]
  },
  {
   "cell_type": "markdown",
   "metadata": {},
   "source": [
    "## 표준 입출력\n",
    "표준입력 :  키보드에서 입력된 내용을 변수에 저장하는 것"
   ]
  },
  {
   "cell_type": "markdown",
   "metadata": {},
   "source": [
    "### 입력\n",
    "\n",
    "System(시스템에서) + in(입력장치) + read(키코드 읽어라)  \n",
    "\n",
    "`System.in.read()` : 키보드의 문자 한개 입력받음 => read()메소드에서 1바이트 문자 읽음, 한글 입력 불가  \n",
    "`Scanner` : 2개 이상 키가 조합된 한글 읽을 수 없는 단점 보완, 변수에 통 문자열을 넣음, 한글은 2바이트라 이거쓰게댐\n",
    "\n",
    "#### 간단한 원리 \n",
    "- 엔터가 입력될때까지 대기상태\n",
    "- 엔터키가 입력되면 입력된 키들에 대한 키코드를 하나씩 읽음\n",
    "- 엔터 키는 캐리지 리턴 + 라인피드로 구성된 두가지 키코드가 입력됨\n",
    "- 하나씩 입력"
   ]
  },
  {
   "cell_type": "code",
   "execution_count": 51,
   "metadata": {},
   "outputs": [
    {
     "name": "stdout",
     "output_type": "stream",
     "text": [
      "이름 ===>hanbit\n",
      "hanbit\n"
     ]
    },
    {
     "ename": "EvaluationInterruptedException",
     "evalue": "Evaluator was interrupted while executing: 'try {\n    System.out.print(\"이름 ===>\");\n    \n    // read 메소드로 하나 이상의 문자 읽어들여 문자열로 변환 \n    // 엔터 == 아스키코드값 13, 무한반복\n    while ((key = System.in.read())!=13){\n        // 아스키코드 문자열로 변경?\n        input += Character.toString((char)key);\n    }\n    if(userName == input) {\n            System.out.println(input + \"님 어서오셈\");\n        } else {\n            System.out.println(input + \"님은 등록이 안됐음\");\n        }\n} catch(IOException e) {\n    e.printStackTrace();\n}'",
     "output_type": "error",
     "traceback": [
      "\u001b[1m\u001b[30m|   \u001b[1m\u001b[30mtry {\u001b[0m",
      "\u001b[1m\u001b[30m|   \u001b[1m\u001b[30m    System.out.print(\"이름 ===>\");\u001b[0m",
      "\u001b[1m\u001b[30m|   \u001b[1m\u001b[30m    \u001b[0m",
      "\u001b[1m\u001b[30m|   \u001b[1m\u001b[30m    // read 메소드로 하나 이상의 문자 읽어들여 문자열로 변환 \u001b[0m",
      "\u001b[1m\u001b[30m|   \u001b[1m\u001b[30m    // 엔터 == 아스키코드값 13, 무한반복\u001b[0m",
      "\u001b[1m\u001b[30m|   \u001b[1m\u001b[30m    while ((key = System.in.read())!=13){\u001b[0m",
      "\u001b[1m\u001b[30m|   \u001b[1m\u001b[30m        // 아스키코드 문자열로 변경?\u001b[0m",
      "\u001b[1m\u001b[30m|   \u001b[1m\u001b[30m        input += Character.toString((char)key);\u001b[0m",
      "\u001b[1m\u001b[30m|   \u001b[1m\u001b[30m    }\u001b[0m",
      "\u001b[1m\u001b[30m|   \u001b[1m\u001b[30m    if(userName == input) {\u001b[0m",
      "\u001b[1m\u001b[30m|   \u001b[1m\u001b[30m            System.out.println(input + \"님 어서오셈\");\u001b[0m",
      "\u001b[1m\u001b[30m|   \u001b[1m\u001b[30m        } else {\u001b[0m",
      "\u001b[1m\u001b[30m|   \u001b[1m\u001b[30m            System.out.println(input + \"님은 등록이 안됐음\");\u001b[0m",
      "\u001b[1m\u001b[30m|   \u001b[1m\u001b[30m        }\u001b[0m",
      "\u001b[1m\u001b[30m|   \u001b[1m\u001b[30m} catch(IOException e) {\u001b[0m",
      "\u001b[1m\u001b[30m|   \u001b[1m\u001b[30m    e.printStackTrace();\u001b[0m",
      "\u001b[1m\u001b[30m|   \u001b[1m\u001b[30m}\u001b[0m",
      "\u001b[1m\u001b[31mEvaluation interrupted.\u001b[0m"
     ]
    }
   ],
   "source": [
    "String userName = \"hanbit\";\n",
    "String input = \"\";\n",
    "int key;\n",
    "\n",
    "try {\n",
    "    System.out.print(\"이름 ===>\");\n",
    "    \n",
    "    // read 메소드로 하나 이상의 문자 읽어들여 문자열로 변환 \n",
    "    // 엔터 == 아스키코드값 13, 무한반복\n",
    "    while ((key = System.in.read())!=13){\n",
    "        // 아스키코드 문자열로 변경?\n",
    "        input += Character.toString((char)key);\n",
    "    }\n",
    "    if(userName == input) {\n",
    "            System.out.println(input + \"님 어서오셈\");\n",
    "        } else {\n",
    "            System.out.println(input + \"님은 등록이 안됐음\");\n",
    "        }\n",
    "} catch(IOException e) {\n",
    "    e.printStackTrace();\n",
    "}"
   ]
  },
  {
   "cell_type": "code",
   "execution_count": 1,
   "metadata": {},
   "outputs": [
    {
     "name": "stdout",
     "output_type": "stream",
     "text": [
      "2\n"
     ]
    }
   ],
   "source": [
    "int keycode = System.in.read();"
   ]
  },
  {
   "cell_type": "code",
   "execution_count": 4,
   "metadata": {},
   "outputs": [
    {
     "name": "stdout",
     "output_type": "stream",
     "text": [
      "안뇽나는종혁\n"
     ]
    }
   ],
   "source": [
    "// 생성된 scanner을 변수에 저장함 + 시스템 입력 장치로부터 읽는 scanner 생성\n",
    "\n",
    "Scanner s = new Scanner(System.in);\n",
    "String stri = s.next();"
   ]
  },
  {
   "cell_type": "markdown",
   "metadata": {},
   "source": [
    "#### Scanner 메소드 정리\n",
    "\n",
    "![스캐너메소드](img/scannerMethod.png)  \n",
    "- `next()`를 만나면 `enter`을 입력할 때까지 입력한 내용을 버퍼에 저장"
   ]
  },
  {
   "cell_type": "code",
   "execution_count": null,
   "metadata": {},
   "outputs": [],
   "source": [
    "Scanner scanner = new Scanner(System.in);\n",
    "String inputData;\n",
    "\n",
    "while(true){\n",
    "    inputData = scanner.nextLine();\n",
    "    System.out.println(\"입력된 문자열 : \" + inputData);\n",
    "    if (inputData.equals(\"q\")) {\n",
    "        break;\n",
    "    }\n",
    "}\n",
    "scanner.close();\n",
    "System.out.println(\"종료\");"
   ]
  },
  {
   "cell_type": "markdown",
   "metadata": {},
   "source": [
    "### 출력\n",
    "`System.out.printf()` : 서식 지정자 사용한 출력  \n",
    "`System.out.println()` : 자동 줄바꿈 출력  \n",
    "`System.out.print()` : 줄바꿈 무시되고 계속 출력  "
   ]
  },
  {
   "cell_type": "markdown",
   "metadata": {},
   "source": [
    "#### System.out.printf()\n",
    "서식 지정자"
   ]
  },
  {
   "cell_type": "markdown",
   "metadata": {},
   "source": [
    "![이미지](img/format.png)  \n",
    "- %d, %x, %o - 10,16,8진수\n",
    "- %c - 문자열 한글자\n",
    "- %e - 공학용 표기, 컴퓨터식 지수표현(1.0000e+02 막 이런식)\n",
    "- 실수형 서식에서 칸수는 `.`까지 추가한 것"
   ]
  },
  {
   "cell_type": "code",
   "execution_count": 5,
   "metadata": {},
   "outputs": [
    {
     "name": "stdout",
     "output_type": "stream",
     "text": [
      "100"
     ]
    },
    {
     "data": {
      "text/plain": [
       "java.io.PrintStream@564fbc61"
      ]
     },
     "execution_count": 5,
     "metadata": {},
     "output_type": "execute_result"
    }
   ],
   "source": [
    "System.out.printf(\"%d\", 100)"
   ]
  },
  {
   "cell_type": "code",
   "execution_count": 8,
   "metadata": {},
   "outputs": [
    {
     "name": "stdout",
     "output_type": "stream",
     "text": [
      "00020"
     ]
    },
    {
     "data": {
      "text/plain": [
       "java.io.PrintStream@7dda3bd7"
      ]
     },
     "execution_count": 8,
     "metadata": {},
     "output_type": "execute_result"
    }
   ],
   "source": [
    "// 이 상황에서는 0만 됨\n",
    "\n",
    "System.out.printf(\"%05d\", 20)"
   ]
  },
  {
   "cell_type": "code",
   "execution_count": 6,
   "metadata": {},
   "outputs": [
    {
     "name": "stdout",
     "output_type": "stream",
     "text": [
      "안녕"
     ]
    },
    {
     "data": {
      "text/plain": [
       "java.io.PrintStream@564fbc61"
      ]
     },
     "execution_count": 6,
     "metadata": {},
     "output_type": "execute_result"
    }
   ],
   "source": [
    "System.out.printf(\"%s\", \"안녕\")"
   ]
  },
  {
   "cell_type": "code",
   "execution_count": 9,
   "metadata": {},
   "outputs": [
    {
     "name": "stdout",
     "output_type": "stream",
     "text": [
      "100+100\n",
      "200\n"
     ]
    },
    {
     "data": {
      "text/plain": [
       "java.io.PrintStream@7dda3bd7"
      ]
     },
     "execution_count": 9,
     "metadata": {},
     "output_type": "execute_result"
    }
   ],
   "source": [
    "System.out.printf(\"100+100\");\n",
    "System.out.printf(\"\\n\");\n",
    "System.out.printf(\"%d\", 100+100);\n",
    "System.out.printf(\"\\n\");"
   ]
  },
  {
   "cell_type": "code",
   "execution_count": 11,
   "metadata": {},
   "outputs": [
    {
     "name": "stdout",
     "output_type": "stream",
     "text": [
      "100"
     ]
    },
    {
     "data": {
      "text/plain": [
       "java.io.PrintStream@7dda3bd7"
      ]
     },
     "execution_count": 11,
     "metadata": {},
     "output_type": "execute_result"
    }
   ],
   "source": [
    "// 서식 지정자 개수랑 값 개수가 맞아야함 => 어;; 여기는 오류가안남;\n",
    "\n",
    "System.out.printf(\"%d\",100,100);"
   ]
  },
  {
   "cell_type": "code",
   "execution_count": 13,
   "metadata": {},
   "outputs": [
    {
     "ename": "EvalException",
     "evalue": "d != java.lang.Double",
     "output_type": "error",
     "traceback": [
      "\u001b[1m\u001b[31m---------------------------------------------------------------------------\u001b[0m",
      "\u001b[1m\u001b[31mjava.util.IllegalFormatConversionException: d != java.lang.Double\u001b[0m",
      "\u001b[1m\u001b[31m\tat java.base/java.util.Formatter$FormatSpecifier.failConversion(Formatter.java:4426)\u001b[0m",
      "\u001b[1m\u001b[31m\tat java.base/java.util.Formatter$FormatSpecifier.printInteger(Formatter.java:2938)\u001b[0m",
      "\u001b[1m\u001b[31m\tat java.base/java.util.Formatter$FormatSpecifier.print(Formatter.java:2892)\u001b[0m",
      "\u001b[1m\u001b[31m\tat java.base/java.util.Formatter.format(Formatter.java:2673)\u001b[0m",
      "\u001b[1m\u001b[31m\tat java.base/java.io.PrintStream.format(PrintStream.java:1139)\u001b[0m",
      "\u001b[1m\u001b[31m\tat java.base/java.io.PrintStream.printf(PrintStream.java:1035)\u001b[0m",
      "\u001b[1m\u001b[31m\tat .(#27:3)\u001b[0m"
     ]
    }
   ],
   "source": [
    "// 당연하지만 자료형도 맞아야\n",
    "\n",
    "System.out.printf(\"%d\", 0.4)"
   ]
  },
  {
   "cell_type": "code",
   "execution_count": 25,
   "metadata": {},
   "outputs": [
    {
     "name": "stdout",
     "output_type": "stream",
     "text": [
      "7.400000\n",
      "7.400000\n",
      "     7.40\n",
      "7.400000095\n"
     ]
    },
    {
     "data": {
      "text/plain": [
       "java.io.PrintStream@7dda3bd7"
      ]
     },
     "execution_count": 25,
     "metadata": {},
     "output_type": "execute_result"
    }
   ],
   "source": [
    "// 실수 좀 헷갈리게 생겻음\n",
    "\n",
    "float num = 7.4f;\n",
    "System.out.printf(\"%5f\\n\", num);\n",
    "System.out.printf(\"%3f\\n\", num);\n",
    "System.out.printf(\"%9.2f\\n\", num);\n",
    "System.out.printf(\"%-4.9f\\n\", num);"
   ]
  },
  {
   "cell_type": "markdown",
   "metadata": {},
   "source": [
    "#### 이스케이프 문자\n",
    "- \\를 통해 문자 이스케이프 : \\\", \\', \\\\\n",
    "- 줄바꿈 : \\n\n",
    "- 탭 : \\t\n",
    "- 공백 : \\b\n",
    "- 줄의 맨 앞으로 이동(?) : \\r"
   ]
  }
 ],
 "metadata": {
  "kernelspec": {
   "display_name": "Java",
   "language": "java",
   "name": "java"
  },
  "language_info": {
   "codemirror_mode": "java",
   "file_extension": ".jshell",
   "mimetype": "text/x-java-source",
   "name": "Java",
   "pygments_lexer": "java",
   "version": "13.0.2+8"
  }
 },
 "nbformat": 4,
 "nbformat_minor": 4
}
