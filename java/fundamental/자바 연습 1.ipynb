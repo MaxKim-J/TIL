{
 "cells": [
  {
   "cell_type": "markdown",
   "metadata": {},
   "source": [
    "# Java 강의\n",
    "\n"
   ]
  },
  {
   "cell_type": "code",
   "execution_count": null,
   "metadata": {},
   "outputs": [],
   "source": []
  },
  {
   "cell_type": "markdown",
   "metadata": {},
   "source": [
    "## 요런 느낌\n",
    "요런 느낌이다. 범용성이 넓은 언어중에 하나."
   ]
  },
  {
   "cell_type": "code",
   "execution_count": 1,
   "metadata": {},
   "outputs": [
    {
     "name": "stdout",
     "output_type": "stream",
     "text": [
      "hello world\n"
     ]
    }
   ],
   "source": [
    "System.out.println(\"hello world\")"
   ]
  },
  {
   "cell_type": "code",
   "execution_count": 6,
   "metadata": {},
   "outputs": [],
   "source": [
    "// 시언어가 함수 절차언어였듯, 자바는 클래스를 단위로 하는 언어\n",
    "\n",
    "public class HelloJava {\n",
    "    public static void main (String[] args){\n",
    "        System.out.println(\"안녕자바\");\n",
    "    }\n",
    "}"
   ]
  },
  {
   "cell_type": "code",
   "execution_count": 7,
   "metadata": {},
   "outputs": [],
   "source": [
    "// 큰 브라켓은 클래스의 범위\n",
    "public class Ex02 {\n",
    "    // 메인 메소드\n",
    "    public static void main(String[] args){\n",
    "        int a,b;\n",
    "        int result;\n",
    "        \n",
    "        a = 100;\n",
    "        b = 50;\n",
    "        \n",
    "        result = a+b;\n",
    "        System.out.println(a + \"+\" + b + \"=\" + result);\n",
    "    }\n",
    "}"
   ]
  },
  {
   "cell_type": "code",
   "execution_count": 10,
   "metadata": {},
   "outputs": [
    {
     "name": "stdout",
     "output_type": "stream",
     "text": [
      "100+50=150\n"
     ]
    }
   ],
   "source": [
    "int a,b;\n",
    "int result;\n",
    "\n",
    "a = 100;\n",
    "b = 50;\n",
    "\n",
    "result = a+b;\n",
    "\n",
    "System.out.println(a + \"+\" + b + \"=\" + result);"
   ]
  },
  {
   "cell_type": "code",
   "execution_count": 11,
   "metadata": {},
   "outputs": [
    {
     "name": "stdout",
     "output_type": "stream",
     "text": [
      "5\n",
      "3\n",
      "5+3=8\n"
     ]
    }
   ],
   "source": [
    "import java.util.Scanner;\n",
    "\n",
    "int a,b;\n",
    "int result;\n",
    "\n",
    "Scanner s = new Scanner(System.in);\n",
    "a = s.nextInt();\n",
    "b = s.nextInt();\n",
    "\n",
    "result = a + b;\n",
    "System.out.println(a + \"+\" + b + \"=\" + result);"
   ]
  },
  {
   "cell_type": "code",
   "execution_count": 16,
   "metadata": {},
   "outputs": [
    {
     "name": "stdout",
     "output_type": "stream",
     "text": [
      "첫 값 입력\n",
      "4\n",
      "두번째 값 입력\n",
      "2\n",
      "4+2=6\n"
     ]
    }
   ],
   "source": [
    "import java.util.Scanner;\n",
    "\n",
    "int a,b;\n",
    "int result;\n",
    "\n",
    "Scanner s = new Scanner(System.in);\n",
    "System.out.println(\"첫 값 입력\");\n",
    "a = s.nextInt();\n",
    "System.out.println(\"두번째 값 입력\");\n",
    "b = s.nextInt();\n",
    "\n",
    "result = a + b;\n",
    "System.out.println(a + \"+\" + b + \"=\" + result);"
   ]
  },
  {
   "cell_type": "markdown",
   "metadata": {},
   "source": [
    "## System.out\n",
    "지정된 서식으로 화면에 보여주는 역할을 한다  \n",
    "system.out은 클래스 변수, print()등은 이에 포함된 메소드"
   ]
  },
  {
   "cell_type": "markdown",
   "metadata": {},
   "source": [
    "**메소드** : 자바에서 특정 기능을 처리하며, 다른 프로그래밍 언어에서는 함수 또는 멤버 변수라고 부름  \n",
    "**필드** : 객체의 상태를 나타내는 것으로 속성이라고도 부름. 주로 **클래스변수이름.속성** 형식으로 사용"
   ]
  },
  {
   "cell_type": "code",
   "execution_count": 19,
   "metadata": {},
   "outputs": [
    {
     "name": "stdout",
     "output_type": "stream",
     "text": [
      "안녕하세요?\n",
      "자바입니다\n"
     ]
    }
   ],
   "source": [
    "// 행을 넘긴다\n",
    "\n",
    "System.out.println(\"안녕하세요?\");\n",
    "System.out.println(\"자바입니다\");"
   ]
  },
  {
   "cell_type": "code",
   "execution_count": 20,
   "metadata": {},
   "outputs": [
    {
     "name": "stdout",
     "output_type": "stream",
     "text": [
      "안녕하세요?자바입니다"
     ]
    }
   ],
   "source": [
    "// 행을 넘기지 않고 이어서 출력한다\n",
    "\n",
    "System.out.print(\"안녕하세요?\");\n",
    "System.out.print(\"자바입니다\");"
   ]
  },
  {
   "cell_type": "code",
   "execution_count": 22,
   "metadata": {},
   "outputs": [
    {
     "name": "stdout",
     "output_type": "stream",
     "text": [
      "200"
     ]
    },
    {
     "data": {
      "text/plain": [
       "java.io.PrintStream@3e4186b5"
      ]
     },
     "execution_count": 22,
     "metadata": {},
     "output_type": "execute_result"
    }
   ],
   "source": [
    "// 문자열 포매팅 방식\n",
    "\n",
    "System.out.printf(\"%d\", 200)"
   ]
  },
  {
   "cell_type": "code",
   "execution_count": 25,
   "metadata": {},
   "outputs": [
    {
     "name": "stdout",
     "output_type": "stream",
     "text": [
      "100 + 100\n",
      "200\n"
     ]
    },
    {
     "data": {
      "text/plain": [
       "java.io.PrintStream@3e4186b5"
      ]
     },
     "execution_count": 25,
     "metadata": {},
     "output_type": "execute_result"
    }
   ],
   "source": [
    "System.out.printf(\"100 + 100\");\n",
    "System.out.printf(\"\\n\"); // 줄띄기\n",
    "System.out.printf(\"%d\", 100 + 100);\n",
    "System.out.printf(\"\\n\");"
   ]
  },
  {
   "cell_type": "code",
   "execution_count": 27,
   "metadata": {},
   "outputs": [
    {
     "name": "stdout",
     "output_type": "stream",
     "text": [
      "바나나를 500원에 샀다"
     ]
    },
    {
     "data": {
      "text/plain": [
       "java.io.PrintStream@3e4186b5"
      ]
     },
     "execution_count": 27,
     "metadata": {},
     "output_type": "execute_result"
    }
   ],
   "source": [
    "System.out.printf(\"%s를 %d원에 샀다\", \"바나나\", 500);"
   ]
  },
  {
   "cell_type": "markdown",
   "metadata": {},
   "source": [
    "### 서식 표현\n",
    "- %d,%s,%o : 정수(10진수, 16진수, 8진수)\n",
    "- %f : 실수\n",
    "- %c : 문자, 반드시 한글자이고 작은따옴표로\n",
    "- %s : 문자열, 반드시 한글자 이상이고 큰따옴표로"
   ]
  },
  {
   "cell_type": "code",
   "execution_count": 30,
   "metadata": {},
   "outputs": [
    {
     "name": "stdout",
     "output_type": "stream",
     "text": [
      "100/200 = 0.500000\n",
      "j h\n",
      "itcookbook java\n"
     ]
    },
    {
     "data": {
      "text/plain": [
       "java.io.PrintStream@3e4186b5"
      ]
     },
     "execution_count": 30,
     "metadata": {},
     "output_type": "execute_result"
    }
   ],
   "source": [
    "System.out.printf(\"%d/%d = %f\\n\", 100, 200, 0.5);\n",
    "System.out.printf(\"%c %c\\n\", 'j', 'h');\n",
    "System.out.printf(\"%s %s\\n\", \"itcookbook\", \"java\");"
   ]
  },
  {
   "cell_type": "markdown",
   "metadata": {},
   "source": [
    "### 숫자 서식"
   ]
  },
  {
   "cell_type": "code",
   "execution_count": 31,
   "metadata": {},
   "outputs": [
    {
     "name": "stdout",
     "output_type": "stream",
     "text": [
      "123\n",
      "  123\n",
      "00123\n"
     ]
    },
    {
     "data": {
      "text/plain": [
       "java.io.PrintStream@3e4186b5"
      ]
     },
     "execution_count": 31,
     "metadata": {},
     "output_type": "execute_result"
    }
   ],
   "source": [
    "// 정수형\n",
    "\n",
    "System.out.printf(\"%d\\n\", 123);\n",
    "System.out.printf(\"%5d\\n\", 123);\n",
    "System.out.printf(\"%05d\\n\", 123);"
   ]
  },
  {
   "cell_type": "code",
   "execution_count": 32,
   "metadata": {},
   "outputs": [
    {
     "name": "stdout",
     "output_type": "stream",
     "text": [
      "123.450000\n",
      "  123.3\n",
      "123.290\n"
     ]
    },
    {
     "data": {
      "text/plain": [
       "java.io.PrintStream@3e4186b5"
      ]
     },
     "execution_count": 32,
     "metadata": {},
     "output_type": "execute_result"
    }
   ],
   "source": [
    "// 실수형\n",
    "\n",
    "System.out.printf(\"%f\\n\", 123.45);\n",
    "System.out.printf(\"%7.1f\\n\", 123.34);\n",
    "System.out.printf(\"%7.3f\\n\", 123.29);"
   ]
  },
  {
   "cell_type": "markdown",
   "metadata": {},
   "source": [
    "### 자료형\n",
    "\n",
    "C언어랑 거의 비슷하다\n",
    "\n",
    "#### 정수형\n",
    "1. byte : 1바이트, 아주 작은 정수\n",
    "2. short : 2바이트, 작은 정수\n",
    "3. int : 4바이트, 정수형\n",
    "4. long : 8바이트, 큰 정수형\n",
    "\n",
    "#### 실수형\n",
    "1. float : 4바이트, 실수형\n",
    "2. double : 8바이트, 큰 실수형\n",
    "\n",
    "#### 문자\n",
    "1. char : 한 문자를 표현, 2바이트/물론 2바이트 크기의 정수형으로 취급해도 된다\n",
    "\n",
    "#### 불리언\n",
    "1. boolean : 1바이트, 참/거짓을 저장\n",
    "\n",
    "#### 문자열\n",
    "1. String : 입력한 글자수의 *2 바이트(오 동적언어같네;;)"
   ]
  },
  {
   "cell_type": "code",
   "execution_count": 38,
   "metadata": {},
   "outputs": [
    {
     "name": "stdout",
     "output_type": "stream",
     "text": [
      "3\n",
      "3.5\n",
      "c\n",
      "true\n",
      "eeeee\n"
     ]
    }
   ],
   "source": [
    "int a = 3;\n",
    "float b = 3.5f;\n",
    "char c = 'c';\n",
    "boolean d = true;\n",
    "String e = \"eeeee\";\n",
    "\n",
    "System.out.println(a);\n",
    "System.out.println(b);\n",
    "System.out.println(c);\n",
    "System.out.println(d);\n",
    "System.out.println(e);"
   ]
  },
  {
   "cell_type": "code",
   "execution_count": 40,
   "metadata": {},
   "outputs": [],
   "source": [
    "// 따라쳐보기\n",
    "\n",
    "import java.util.Scanner;\n",
    "\n",
    "public class Problem_05{\n",
    "    public static void main(String[] args) {\n",
    "    // 요거머지\n",
    "        Scanner s = new Scanner(System.in);\n",
    "        int type, data = 0;\n",
    "        String strl;\n",
    "        \n",
    "        System.out.printf(\"입력 진수 결정\");\n",
    "        type = s.nextInt();\n",
    "        \n",
    "        System.out.printf(\"값 입력 : \");\n",
    "        \n",
    "        if(type == 1){\n",
    "            str = s.next();\n",
    "            data = Integer.parseInt(str,10);\n",
    "        }\n",
    "        \n",
    "        if(type == 2){\n",
    "            str = s.next();\n",
    "            data = Integer.parseInt(str, 16);\n",
    "        }\n",
    "        if(type == 3){\n",
    "            str = s.next();\n",
    "            data = Integer.parseInt(str, 8);\n",
    "        }\n",
    "        System.out.printf(\"10진수 ==> %d\\n\", data);\n",
    "        System.out.printf(\"8진수 ==> %o\\n\", data);\n",
    "        System.out.printf(\"16진수 ==> %X\\n\", data);\n",
    "    }\n",
    "}"
   ]
  },
  {
   "cell_type": "code",
   "execution_count": null,
   "metadata": {},
   "outputs": [],
   "source": []
  },
  {
   "cell_type": "code",
   "execution_count": null,
   "metadata": {},
   "outputs": [],
   "source": []
  },
  {
   "cell_type": "code",
   "execution_count": null,
   "metadata": {},
   "outputs": [],
   "source": []
  },
  {
   "cell_type": "code",
   "execution_count": null,
   "metadata": {},
   "outputs": [],
   "source": []
  },
  {
   "cell_type": "code",
   "execution_count": null,
   "metadata": {},
   "outputs": [],
   "source": []
  },
  {
   "cell_type": "code",
   "execution_count": null,
   "metadata": {},
   "outputs": [],
   "source": []
  },
  {
   "cell_type": "code",
   "execution_count": null,
   "metadata": {},
   "outputs": [],
   "source": []
  },
  {
   "cell_type": "code",
   "execution_count": null,
   "metadata": {},
   "outputs": [],
   "source": []
  },
  {
   "cell_type": "code",
   "execution_count": null,
   "metadata": {},
   "outputs": [],
   "source": []
  },
  {
   "cell_type": "code",
   "execution_count": null,
   "metadata": {},
   "outputs": [],
   "source": []
  },
  {
   "cell_type": "code",
   "execution_count": null,
   "metadata": {},
   "outputs": [],
   "source": []
  },
  {
   "cell_type": "code",
   "execution_count": null,
   "metadata": {},
   "outputs": [],
   "source": []
  },
  {
   "cell_type": "code",
   "execution_count": null,
   "metadata": {},
   "outputs": [],
   "source": []
  }
 ],
 "metadata": {
  "kernelspec": {
   "display_name": "Java",
   "language": "java",
   "name": "java"
  },
  "language_info": {
   "codemirror_mode": "java",
   "file_extension": ".jshell",
   "mimetype": "text/x-java-source",
   "name": "Java",
   "pygments_lexer": "java",
   "version": "13.0.2+8"
  }
 },
 "nbformat": 4,
 "nbformat_minor": 4
}
