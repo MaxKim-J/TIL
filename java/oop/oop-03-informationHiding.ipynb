{
 "cells": [
  {
   "cell_type": "markdown",
   "metadata": {},
   "source": [
    "# 정보 은닉 + this\n",
    "2020.04.10  \n",
    "\n",
    "`public` vs `private`"
   ]
  },
  {
   "cell_type": "markdown",
   "metadata": {},
   "source": [
    "## 접근제어자\n",
    "\n",
    "- 변수 메서드 생성자에 대한 접근 권한 지정\n",
    "- `public`, `private`, `protected`, 아무것도 안쓰는 경우\n",
    "- `private` 사용하면 클래스 외부에서는 접근할 수 없음\n",
    "- `public`은 정말 아무곳에서나 접근 가능\n",
    "- 아무것도 안쓰면 같은 패키지 내에서만 참조할 수 있음\n",
    "- public메서드를 제공하면 private 변수를 외부에서 접근할 수 있게 하긴 함(제한적으로 접근)"
   ]
  },
  {
   "cell_type": "code",
   "execution_count": 1,
   "metadata": {},
   "outputs": [],
   "source": [
    "public class MyDate {\n",
    "    public int year;\n",
    "    public int month;\n",
    "    public int day;\n",
    "    private String goal = \"금연\";\n",
    "    \n",
    "    public void showDate() {\n",
    "        System.out.println(year+\"년 \"+month+\"월 \"+day+\"일 \");\n",
    "    }\n",
    "    \n",
    "    public void setGoal(String goal){\n",
    "        // this는 멤버변수임을 표시해주기 위해 사용\n",
    "        // 멤버변수의 메모리를 가리킴\n",
    "        this.goal = goal;\n",
    "    }\n",
    "    \n",
    "    public String getGoal(){\n",
    "        return goal;\n",
    "    }\n",
    "}"
   ]
  },
  {
   "cell_type": "code",
   "execution_count": 2,
   "metadata": {},
   "outputs": [
    {
     "data": {
      "text/plain": [
       "2020"
      ]
     },
     "execution_count": 2,
     "metadata": {},
     "output_type": "execute_result"
    }
   ],
   "source": [
    "MyDate date = new MyDate();\n",
    "\n",
    "date.day = 10;\n",
    "date.month = 4;\n",
    "date.year = 2020;"
   ]
  },
  {
   "cell_type": "code",
   "execution_count": 3,
   "metadata": {},
   "outputs": [
    {
     "name": "stdout",
     "output_type": "stream",
     "text": [
      "2020년 4월 10일 \n"
     ]
    }
   ],
   "source": [
    "date.showDate()"
   ]
  },
  {
   "cell_type": "markdown",
   "metadata": {},
   "source": [
    "## private 쓰임새\n",
    "\n",
    "- 멤버변수를 가져올수는 있지만 수정할 수 없게끔 만들 수 있음(private 멤버변수 + get 메서드)\n",
    "- 정보를 보호할 수 있음. 기본적으로 모든 메서드나 변수를 private으로 하도록 권장하기도 하지만 뭐 꼭 그럴 필욘 없다"
   ]
  },
  {
   "cell_type": "code",
   "execution_count": 4,
   "metadata": {},
   "outputs": [
    {
     "data": {
      "text/plain": [
       "금연"
      ]
     },
     "execution_count": 4,
     "metadata": {},
     "output_type": "execute_result"
    }
   ],
   "source": [
    "date.getGoal()"
   ]
  },
  {
   "cell_type": "code",
   "execution_count": 5,
   "metadata": {},
   "outputs": [
    {
     "data": {
      "text/plain": [
       "취직"
      ]
     },
     "execution_count": 5,
     "metadata": {},
     "output_type": "execute_result"
    }
   ],
   "source": [
    "// 셋 메서드가 있기 때문에 private 변수를 바꿀수는 있지만 없다고 생각하면 못바꿈\n",
    "\n",
    "date.setGoal(\"취직\");\n",
    "date.getGoal()"
   ]
  },
  {
   "cell_type": "markdown",
   "metadata": {},
   "source": [
    "## this\n",
    "\n",
    "- 자신의 메모리를 가리킴\n",
    "- 생성자에서 다른 생성자를 호출함(생성자 오버로딩)\n",
    "- 인스턴스 자신의 주소를 반환\n",
    "- super은 상위클래스의 생성자를 부를 수 있음"
   ]
  },
  {
   "cell_type": "code",
   "execution_count": 6,
   "metadata": {},
   "outputs": [],
   "source": [
    "// 생성자 오버로딩\n",
    "public class Person {\n",
    "    String name;\n",
    "    int age;\n",
    "    \n",
    "    public Person() {\n",
    "        // 다른 생성자를 부름\n",
    "        // 생성자함수, this를 부르는 statement는 맨 위에 와야함\n",
    "        this(\"이름 없음\", 0);\n",
    "    }\n",
    "    \n",
    "    public Person(String name, int age) {\n",
    "        this.name = name;\n",
    "        this.age = age;\n",
    "    }\n",
    "    \n",
    "    public void showInfo() {\n",
    "        System.out.println(name+\",\"+age);\n",
    "    }\n",
    "    \n",
    "    // 인스턴스 자신의 this가 가리키는 메모리 주소를 반환하는 메소드\n",
    "    public Person getSelf() {\n",
    "        return this;\n",
    "    }\n",
    "}"
   ]
  },
  {
   "cell_type": "code",
   "execution_count": 7,
   "metadata": {},
   "outputs": [
    {
     "name": "stdout",
     "output_type": "stream",
     "text": [
      "이름 없음,0\n"
     ]
    }
   ],
   "source": [
    "Person personNoname = new Person();\n",
    "personNoname.showInfo();"
   ]
  },
  {
   "cell_type": "code",
   "execution_count": 8,
   "metadata": {},
   "outputs": [
    {
     "name": "stdout",
     "output_type": "stream",
     "text": [
      "kim,25\n"
     ]
    }
   ],
   "source": [
    "Person personKim = new Person(\"kim\", 25);\n",
    "personKim.showInfo();"
   ]
  },
  {
   "cell_type": "code",
   "execution_count": 9,
   "metadata": {},
   "outputs": [
    {
     "data": {
      "text/plain": [
       "REPL.$JShell$21$Person@1cc1dcac"
      ]
     },
     "execution_count": 9,
     "metadata": {},
     "output_type": "execute_result"
    }
   ],
   "source": [
    "// 메모리 주소\n",
    "personKim.getSelf()"
   ]
  },
  {
   "cell_type": "markdown",
   "metadata": {},
   "source": [
    "## 객체간 협력(예제)\n",
    "- 객체를 정의하고 객체간의 협력을 구현한 프로그램\n",
    "- 버스에 학생을 태우는 클래스간 협력 구현\n",
    "- 버스 클래스와 학생 클래스 만듦"
   ]
  },
  {
   "cell_type": "markdown",
   "metadata": {},
   "source": [
    "### 버스 클래스"
   ]
  },
  {
   "cell_type": "code",
   "execution_count": 10,
   "metadata": {},
   "outputs": [],
   "source": [
    "public class Bus {\n",
    "    int busNumber;\n",
    "    int passengerCount;\n",
    "    int money;\n",
    "    \n",
    "    public Bus(int busNumber) {\n",
    "        this.busNumber = busNumber;\n",
    "    }\n",
    "    \n",
    "    public void take(int money) { //승차\n",
    "        this.money += money;\n",
    "        this.passengerCount++;\n",
    "    }\n",
    "    \n",
    "    public void showBusInfo() {\n",
    "        System.out.println(busNumber + \"번 버스의 승객은 \" + passengerCount + \"명이고, 수입은 \" + money + \"입니다\");\n",
    "    }\n",
    "}"
   ]
  },
  {
   "cell_type": "markdown",
   "metadata": {},
   "source": [
    "### 지하철 클래스"
   ]
  },
  {
   "cell_type": "code",
   "execution_count": 11,
   "metadata": {},
   "outputs": [],
   "source": [
    "public class Subway {\n",
    "    int lineNumber;\n",
    "    int passengerCount;\n",
    "    int money;\n",
    "    \n",
    "    public Subway(int lineNumber) {\n",
    "        this.lineNumber = lineNumber;\n",
    "    }\n",
    "    \n",
    "    public void take(int money) {\n",
    "        this.money += money;\n",
    "        this.passengerCount++;\n",
    "    }\n",
    "    \n",
    "    public void showSubwayInfo() {\n",
    "        System.out.println(lineNumber + \"번 지하철의 승객은 \" + passengerCount + \"명이고, 수입은 \" + money + \"입니다\");\n",
    "    }\n",
    "}"
   ]
  },
  {
   "cell_type": "markdown",
   "metadata": {},
   "source": [
    "### 학생 클래스"
   ]
  },
  {
   "cell_type": "code",
   "execution_count": 12,
   "metadata": {},
   "outputs": [],
   "source": [
    "public class Student { \n",
    "    String studentName;\n",
    "    int grade;\n",
    "    int money;\n",
    "    \n",
    "    public Student(String studentName, int money) {\n",
    "        this.studentName = studentName;\n",
    "        this.money = money;\n",
    "    }\n",
    "    \n",
    "    // 클래스 만든 타입형 앞에다 써주기\n",
    "    public void takeBus(Bus bus) {\n",
    "        bus.take(1000);\n",
    "        this.money -= 1000;\n",
    "    }\n",
    "    \n",
    "    public void takeSubway(Subway subway){\n",
    "        subway.take(1200);\n",
    "        this.money -= 1200;\n",
    "    }\n",
    "    \n",
    "    public void showInfo() {\n",
    "        System.out.println(studentName + \"님의 남은 돈은\" + money + \"원 입니다\");\n",
    "    }\n",
    "}"
   ]
  },
  {
   "cell_type": "markdown",
   "metadata": {},
   "source": [
    "### 실행"
   ]
  },
  {
   "cell_type": "code",
   "execution_count": 13,
   "metadata": {},
   "outputs": [],
   "source": [
    "Student studentJ = new Student(\"james\", 5000);\n",
    "Student studentT = new Student(\"thomas\", 10000);\n",
    "\n",
    "Bus bus100 = new Bus(100);\n",
    "Bus bus500 = new Bus(500);\n",
    "\n",
    "Subway subwayGreen = new Subway(2);\n",
    "Subway subwayBlue = new Subway(4);"
   ]
  },
  {
   "cell_type": "code",
   "execution_count": 14,
   "metadata": {},
   "outputs": [],
   "source": [
    "studentJ.takeBus(bus100);\n",
    "studentT.takeSubway(subwayGreen);"
   ]
  },
  {
   "cell_type": "code",
   "execution_count": 15,
   "metadata": {},
   "outputs": [
    {
     "name": "stdout",
     "output_type": "stream",
     "text": [
      "james님의 남은 돈은4000원 입니다\n"
     ]
    }
   ],
   "source": [
    "studentJ.showInfo(); // 5000-1000"
   ]
  },
  {
   "cell_type": "code",
   "execution_count": 16,
   "metadata": {},
   "outputs": [
    {
     "name": "stdout",
     "output_type": "stream",
     "text": [
      "thomas님의 남은 돈은8800원 입니다\n"
     ]
    }
   ],
   "source": [
    "studentT.showInfo(); // 10000-1200"
   ]
  },
  {
   "cell_type": "code",
   "execution_count": 17,
   "metadata": {},
   "outputs": [
    {
     "name": "stdout",
     "output_type": "stream",
     "text": [
      "100번 버스의 승객은 1명이고, 수입은 1000입니다\n"
     ]
    }
   ],
   "source": [
    "bus100.showBusInfo();"
   ]
  },
  {
   "cell_type": "code",
   "execution_count": 18,
   "metadata": {},
   "outputs": [
    {
     "name": "stdout",
     "output_type": "stream",
     "text": [
      "500번 버스의 승객은 0명이고, 수입은 0입니다\n"
     ]
    }
   ],
   "source": [
    "bus500.showBusInfo();"
   ]
  },
  {
   "cell_type": "code",
   "execution_count": 19,
   "metadata": {},
   "outputs": [
    {
     "name": "stdout",
     "output_type": "stream",
     "text": [
      "2번 지하철의 승객은 1명이고, 수입은 1200입니다\n"
     ]
    }
   ],
   "source": [
    "subwayGreen.showSubwayInfo();"
   ]
  }
 ],
 "metadata": {
  "kernelspec": {
   "display_name": "Java",
   "language": "java",
   "name": "java"
  },
  "language_info": {
   "codemirror_mode": "java",
   "file_extension": ".jshell",
   "mimetype": "text/x-java-source",
   "name": "Java",
   "pygments_lexer": "java",
   "version": "13.0.2+8"
  }
 },
 "nbformat": 4,
 "nbformat_minor": 4
}
