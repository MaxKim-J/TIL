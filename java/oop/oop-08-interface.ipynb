{
 "cells": [
  {
   "cell_type": "markdown",
   "metadata": {},
   "source": [
    "# 8. 인터페이스\n",
    "\n",
    "## 인터페이스란?\n",
    "- 이딴 메서드가 들어갈 것이다~ 라고 클래스의 프로퍼티를 선언하는 것  \n",
    "- 모두 추상메서드로만 이루어져 있고, 모두 상수고, \n",
    "- 어떤 오브젝트에 대한 명제, 어떤 역할을 하는 객체다(설명서)\n",
    "- 인터페이스를 구현한 클래스는 인터페이스 타입으로 변수를 선언하여 인스턴스를 생성할 수 있음\n",
    "- 인터페이스는 구현 코드가 없기 때문에 타입 상속이라고도 함\n",
    "\n",
    "## 인터페이스 요소\n",
    "1. 추상메서드\n",
    "2. 상수\n",
    "3. 디폴트 메서드\n",
    "4. 정적 메서드\n",
    "5. private 메서드"
   ]
  },
  {
   "cell_type": "code",
   "execution_count": 1,
   "metadata": {},
   "outputs": [],
   "source": [
    "public interface Calc {\n",
    "    // (프리컴파일 단계에서)상수가 된다\n",
    "    double PI = 3.14;\n",
    "    int ERROR = -999999;\n",
    "    \n",
    "    // 구현할 메서드의 반환값, 파라미터 선언\n",
    "    int add(int num1, int num2);\n",
    "    int sub(int num1, int num2);\n",
    "    int times(int num1, int num2);\n",
    "    int divide(int num1, int num2);\n",
    "    \n",
    "    // 함수 시그니쳐(어떤 파람을 받아서 어떤걸 뱉아줄 것인지) 대략의 그림\n",
    "    // public String stringAdd(String s1, String s2);\n",
    "}"
   ]
  },
  {
   "cell_type": "code",
   "execution_count": 2,
   "metadata": {},
   "outputs": [],
   "source": [
    "// implements키워드로 클래스에 인터페이스 적용시킴\n",
    "\n",
    "public class Calculator implements Calc{\n",
    "    public int add(int num1, int num2){\n",
    "        return num1+num2;\n",
    "    }\n",
    "    \n",
    "     public int sub(int num1, int num2){\n",
    "        return num1-num2;\n",
    "    }\n",
    "    \n",
    "     public int times(int num1, int num2){\n",
    "        return num1*num2;\n",
    "    }\n",
    "    \n",
    "     public int divide(int num1, int num2){\n",
    "        return num1/num2;\n",
    "    }\n",
    "    \n",
    "    public void showInfo(){\n",
    "        System.out.println(\"구현끗\");\n",
    "    }\n",
    "}"
   ]
  },
  {
   "cell_type": "code",
   "execution_count": 3,
   "metadata": {},
   "outputs": [],
   "source": [
    "// 변수의 타입이 인터페이스 : 인터페이스에 정의된 메소드만 사용 가능\n",
    "// 다른 메소드 쓰려면 다운캐스팅이 필요하다\n",
    "\n",
    "Calc cal = new Calculator();"
   ]
  },
  {
   "cell_type": "code",
   "execution_count": 4,
   "metadata": {
    "scrolled": true
   },
   "outputs": [
    {
     "name": "stdout",
     "output_type": "stream",
     "text": [
      "8\n"
     ]
    }
   ],
   "source": [
    "System.out.println(cal.add(3,5))"
   ]
  },
  {
   "cell_type": "markdown",
   "metadata": {},
   "source": [
    "## 인터페이스 다형성 구현\n",
    "- 클라이언트 프로그램에 어떤 메서드를 제공하는지 알려주는 명세, 약속\n",
    "- 한 객체가 어떤 인터페이스의 타입이라 함은 그 인터페이스의 메서드를 구현했다는 의미\n",
    "- 클라이언트 프로그램은 실제 구현내용을 몰라도 인터페이스의 정의만 알면 그 객체 사용 가능\n",
    "- 인터페이스를 구현해놓은 다양한 객체를 사용함 - 다형성\n",
    "- 서비스를 제공하는 쪽이 서버, 쓰는 쪽이 클라이언트 => 클라이언트 입장에서는 설명서가 됨\n",
    "- jdbc : 자바 서버에서 디비랑 연결할 때, 인터페이스로만 존재하구 Db마다 다르게하면 되는 것 => 인터페이스를 구현해놓은 객체를 사용"
   ]
  },
  {
   "cell_type": "markdown",
   "metadata": {},
   "source": [
    "### 예제(상담원 - strategy pattern)\n",
    "- 상담원을 배정하는 메소드, 전화를 연결하는 메소드는 일단 다 정해놓기\n",
    "- 그 방법을 어떻게 할지를 인터페이스 implements해서 구현(strategy pattern)\n",
    "- strategy pattern은 다양한 정책이나 알고리즘을 프로그램의 큰 수정 없이 적용 수정 가능"
   ]
  },
  {
   "cell_type": "code",
   "execution_count": 5,
   "metadata": {},
   "outputs": [],
   "source": [
    "// 속속들이 볼필요가 없음, 인터페이스 정의해놓고 정의된 인터페이스 가져다가 쓸 수도\n",
    "\n",
    "public interface Scheduler {\n",
    "    public void getNextCall();\n",
    "    public void sendCallToAgent();\n",
    "}"
   ]
  },
  {
   "cell_type": "code",
   "execution_count": 6,
   "metadata": {},
   "outputs": [],
   "source": [
    "public class RoundRobin implements Scheduler {\n",
    "    public void getNextCall(){\n",
    "        System.out.println(\"상담 전화를 순서대로 가져옵니다\");\n",
    "    }\n",
    "    public void sendCallToAgent(){\n",
    "        System.out.println(\"다른 순서의 상담원에게 배분합니다\");\n",
    "    }\n",
    "}"
   ]
  },
  {
   "cell_type": "code",
   "execution_count": 7,
   "metadata": {},
   "outputs": [],
   "source": [
    "public class LeastJob implements Scheduler {\n",
    "    public void getNextCall(){\n",
    "        System.out.println(\"상담 전화를 순서대로 가져옵니다\");\n",
    "    }\n",
    "    public void sendCallToAgent(){\n",
    "        System.out.println(\"현재 상담업무가 없거나 상담대기가 가장 적은 상담원에게 할당합니다.\");\n",
    "    }\n",
    "}"
   ]
  },
  {
   "cell_type": "code",
   "execution_count": 8,
   "metadata": {},
   "outputs": [
    {
     "name": "stdout",
     "output_type": "stream",
     "text": [
      "전화 상담원 할당 방식을 선택하세요\n",
      "R:한명씩 차례대로\n",
      "L:대기가 적은 상담원 우선\n",
      "r\n",
      "상담 전화를 순서대로 가져옵니다\n",
      "다른 순서의 상담원에게 배분합니다\n"
     ]
    }
   ],
   "source": [
    "System.out.println(\"전화 상담원 할당 방식을 선택하세요\");\n",
    "System.out.println(\"R:한명씩 차례대로\");\n",
    "System.out.println(\"L:대기가 적은 상담원 우선\");\n",
    "\n",
    "int ch = System.in.read();\n",
    "Scheduler scheduler = null;\n",
    "\n",
    "// 정책 선택\n",
    "if (ch == 'r') {\n",
    "    scheduler = new RoundRobin();\n",
    "} else {\n",
    "    scheduler = new LeastJob();\n",
    "}\n",
    "\n",
    "scheduler.getNextCall();\n",
    "scheduler.sendCallToAgent();"
   ]
  },
  {
   "cell_type": "markdown",
   "metadata": {},
   "source": [
    "### 인터페이스 요소 자세히\n",
    "- 상수 : 선언된 모든 변수는 상수를 처리\n",
    "- 매서드 : 모든 메서드는 추상 메서드\n",
    "- 디폴트 메서드 : 기본 구현을 가지는 메서드, 구현하는 클래스에서 재정의 가능\n",
    "- 정적 메서드 : 인스턴스 생성과 상관없이 인터페이스 타입으로 호출하는 메서드\n",
    "- private : 인터페이스 내부에서 사용하기 위해 구현한 메서드\n",
    "- 하나의 클래스가 여러 인터페이스를 구현(implement)할 수 있음\n",
    "- 인터페이스 끼리 상속도 가능함 : 구현이 없으므로 extends뒤에 여러개 올 수 있음, 타입 상속\n",
    "- 하나의 클래스를 상속 받으면서, 여러개의 인터페이스를 implement받는 모습 꽤 볼 수 있음"
   ]
  },
  {
   "cell_type": "code",
   "execution_count": 31,
   "metadata": {},
   "outputs": [],
   "source": [
    "public interface MyCalc {\n",
    "\n",
    "    double PI = 3.14;\n",
    "    int ERROR = -999999;\n",
    "    \n",
    " \n",
    "    int add(int num1, int num2);\n",
    "    int sub(int num1, int num2);\n",
    "    int times(int num1, int num2);\n",
    "    int divide(int num1, int num2);\n",
    "    \n",
    "    // 이건 추상 메소드 => 인터페이스 구현된 클래스에서 구현\n",
    "    void description();\n",
    "    \n",
    "    // default 메소드 => 구현 아니구 오버라이딩 가능\n",
    "    default void descriptionDefault(){\n",
    "        System.out.println(\"이것은 계산기입니다\");\n",
    "        // 프라이빗 메소드 사용\n",
    "        myPrivateMethod();\n",
    "    }\n",
    "    \n",
    "    // 정적 메소드 => 인스턴스 없이 클래스 이름만으로 메소드 사용 가능\n",
    "    static int total(int[] arr){\n",
    "        int total = 0;\n",
    "        for(int i:arr){\n",
    "            total += i;\n",
    "        }\n",
    "        return total;\n",
    "    }\n",
    "    \n",
    "    // 메소드 안의 프라이빗 메소드\n",
    "    private void myPrivateMethod() {\n",
    "        System.out.println(\"Private Method\");\n",
    "    }\n",
    "    \n",
    "    // 정적 메소드안의 프라이빗 정적 메소드\n",
    "    private static void myStaticPrivateMethod() {\n",
    "        System.out.println(\"Private static Method\");\n",
    "    }\n",
    "}"
   ]
  },
  {
   "cell_type": "code",
   "execution_count": 12,
   "metadata": {},
   "outputs": [],
   "source": [
    "public class SuperCalc implements MyCalc {\n",
    "    public int add(int num1, int num2){\n",
    "        return num1+num2;\n",
    "    } \n",
    "    public int sub(int num1, int num2){\n",
    "        return num1-num2;\n",
    "    } \n",
    "    public int times(int num1, int num2){\n",
    "        return num1*num2;\n",
    "    } \n",
    "    public int divide(int num1, int num2){\n",
    "        return num1/num2;\n",
    "    } \n",
    "    public void description() {\n",
    "        System.out.println(\"이것은 슈퍼계산기\");\n",
    "    }\n",
    "}"
   ]
  },
  {
   "cell_type": "code",
   "execution_count": 19,
   "metadata": {},
   "outputs": [],
   "source": [
    "int[] myArr = {1,2,3,4,5};"
   ]
  },
  {
   "cell_type": "code",
   "execution_count": 28,
   "metadata": {},
   "outputs": [],
   "source": [
    "// 클래스가 아니라 인터페이스에서 정적 메소드를 바로 부른다\n",
    "\n",
    "int sum = MyCalc.total(myArr);"
   ]
  },
  {
   "cell_type": "code",
   "execution_count": 29,
   "metadata": {},
   "outputs": [
    {
     "name": "stdout",
     "output_type": "stream",
     "text": [
      "15\n"
     ]
    }
   ],
   "source": [
    "System.out.println(sum);"
   ]
  },
  {
   "cell_type": "code",
   "execution_count": 36,
   "metadata": {},
   "outputs": [],
   "source": [
    "// 인터페이스 두개이상 적용하기\n",
    "\n",
    "public interface Sell{\n",
    "\n",
    "    void sell();\n",
    "    default void order() {\n",
    "        System.out.println(\"팝니다\");\n",
    "    }\n",
    "}\n",
    "\n",
    "public interface Buy{\n",
    "\n",
    "    void buy();\n",
    "    default void order() {\n",
    "        System.out.println(\"삽니다\");\n",
    "    }\n",
    "}"
   ]
  },
  {
   "cell_type": "code",
   "execution_count": 38,
   "metadata": {},
   "outputs": [],
   "source": [
    "public class Customer implements Buy,Sell {\n",
    "    public void sell(){\n",
    "        System.out.println(\"커스토머가 팔아여\");\n",
    "    }\n",
    "    \n",
    "    public void buy(){\n",
    "        System.out.println(\"커스토머가 사여\");\n",
    "    }\n",
    "    \n",
    "    public void order(){\n",
    "        System.out.println(\"커스토머는 살수도 있고 팔수도 있어여\");\n",
    "    }\n",
    "    public void sayHello(){\n",
    "        System.out.println(\"안뇽\");\n",
    "    }\n",
    "}"
   ]
  },
  {
   "cell_type": "code",
   "execution_count": 39,
   "metadata": {},
   "outputs": [
    {
     "name": "stdout",
     "output_type": "stream",
     "text": [
      "커스토머가 사여\n",
      "커스토머가 팔아여\n",
      "커스토머는 살수도 있고 팔수도 있어여\n",
      "안뇽\n"
     ]
    }
   ],
   "source": [
    "Customer customer = new Customer();\n",
    "\n",
    "customer.buy();\n",
    "customer.sell();\n",
    "customer.order();\n",
    "customer.sayHello();"
   ]
  },
  {
   "cell_type": "code",
   "execution_count": 40,
   "metadata": {
    "scrolled": true
   },
   "outputs": [
    {
     "name": "stdout",
     "output_type": "stream",
     "text": [
      "커스토머가 사여\n",
      "커스토머는 살수도 있고 팔수도 있어여\n"
     ]
    }
   ],
   "source": [
    "// 묵시적 형변환(업캐스팅)\n",
    "\n",
    "Buy buyer = customer;\n",
    "buyer.buy();\n",
    "\n",
    "// 가상 메서드 - 인스턴스 기준\n",
    "buyer.order();"
   ]
  },
  {
   "cell_type": "code",
   "execution_count": 41,
   "metadata": {
    "scrolled": true
   },
   "outputs": [
    {
     "name": "stdout",
     "output_type": "stream",
     "text": [
      "커스토머가 팔아여\n",
      "커스토머는 살수도 있고 팔수도 있어여\n"
     ]
    }
   ],
   "source": [
    "Sell seller = customer;\n",
    "seller.sell();\n",
    "seller.order();"
   ]
  },
  {
   "cell_type": "code",
   "execution_count": 42,
   "metadata": {},
   "outputs": [
    {
     "name": "stdout",
     "output_type": "stream",
     "text": [
      "커스토머는 살수도 있고 팔수도 있어여\n",
      "커스토머가 사여\n"
     ]
    }
   ],
   "source": [
    "// 다운캐스팅\n",
    "Customer customerFromBuyer = (Customer)buyer;\n",
    "customerFromBuyer.order();\n",
    "customerFromBuyer.buy();"
   ]
  },
  {
   "cell_type": "markdown",
   "metadata": {},
   "source": [
    "### 인터페이스 상속"
   ]
  },
  {
   "cell_type": "markdown",
   "metadata": {},
   "source": [
    "x타입이기도 하고 y타입이기도 함  \n",
    "\n",
    "```java\n",
    "public interface MyInterface extends X,Y {\n",
    "    void myMethod();\n",
    "}\n",
    "```"
   ]
  },
  {
   "cell_type": "markdown",
   "metadata": {},
   "source": [
    "### 클래스 상속과 인터페이스 동시에"
   ]
  },
  {
   "cell_type": "code",
   "execution_count": 2,
   "metadata": {},
   "outputs": [],
   "source": [
    "// 인터페이스 구현과 클래스 상속 함께 사용 예제\n",
    "\n",
    "import java.util.ArrayList;\n",
    "\n",
    "public class Shelf { \n",
    "    // 상속시에만 쓸 수 있는 멤버변수\n",
    "    protected ArrayList<String> shelf;\n",
    "    \n",
    "    public Shelf(){\n",
    "        shelf = new ArrayList<String>();\n",
    "    }\n",
    "    \n",
    "    public ArrayList<String> getShelf(){\n",
    "        return shelf;\n",
    "    }\n",
    "    \n",
    "    public int getCount() {\n",
    "        return shelf.size();\n",
    "    }\n",
    "}"
   ]
  },
  {
   "cell_type": "code",
   "execution_count": 3,
   "metadata": {},
   "outputs": [],
   "source": [
    "// 큐 만들기\n",
    "\n",
    "public interface Queue {\n",
    "    void enQueue(String title);\n",
    "    String deQueue();\n",
    "    int getSize();\n",
    "}"
   ]
  },
  {
   "cell_type": "code",
   "execution_count": 5,
   "metadata": {},
   "outputs": [],
   "source": [
    "// 클래스 상속받고 이를 인터페이스의 틀에 맞게 구현\n",
    "\n",
    "public class BookShelf extends Shelf implements Queue{\n",
    "\n",
    "    public void enQueue(String title){\n",
    "        shelf.add(title);\n",
    "    }\n",
    "    \n",
    "    public String deQueue() {\n",
    "        return shelf.remove(0);\n",
    "    }\n",
    "    \n",
    "    public int getSize(){\n",
    "        return getCount();\n",
    "    }\n",
    "}"
   ]
  },
  {
   "cell_type": "code",
   "execution_count": 6,
   "metadata": {},
   "outputs": [],
   "source": [
    "// 인터페이스 타입 변수\n",
    "Queue bookQueue = new BookShelf();"
   ]
  },
  {
   "cell_type": "code",
   "execution_count": 8,
   "metadata": {},
   "outputs": [],
   "source": [
    "bookQueue.enQueue(\"태백산맥1\");\n",
    "bookQueue.enQueue(\"태백산맥2\");\n",
    "bookQueue.enQueue(\"태백산맥3\");"
   ]
  },
  {
   "cell_type": "code",
   "execution_count": 9,
   "metadata": {},
   "outputs": [
    {
     "name": "stdout",
     "output_type": "stream",
     "text": [
      "태백산맥1\n"
     ]
    }
   ],
   "source": [
    "System.out.println(bookQueue.deQueue());"
   ]
  },
  {
   "cell_type": "code",
   "execution_count": 10,
   "metadata": {},
   "outputs": [
    {
     "name": "stdout",
     "output_type": "stream",
     "text": [
      "태백산맥2\n"
     ]
    }
   ],
   "source": [
    "System.out.println(bookQueue.deQueue());"
   ]
  },
  {
   "cell_type": "code",
   "execution_count": 11,
   "metadata": {},
   "outputs": [
    {
     "name": "stdout",
     "output_type": "stream",
     "text": [
      "태백산맥3\n"
     ]
    }
   ],
   "source": [
    "System.out.println(bookQueue.deQueue());"
   ]
  }
 ],
 "metadata": {
  "kernelspec": {
   "display_name": "Java",
   "language": "java",
   "name": "java"
  },
  "language_info": {
   "codemirror_mode": "java",
   "file_extension": ".jshell",
   "mimetype": "text/x-java-source",
   "name": "Java",
   "pygments_lexer": "java",
   "version": "13.0.2+8"
  }
 },
 "nbformat": 4,
 "nbformat_minor": 4
}
