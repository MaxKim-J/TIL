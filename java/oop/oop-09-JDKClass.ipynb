{
 "cells": [
  {
   "cell_type": "markdown",
   "metadata": {},
   "source": [
    "# 9. JDK 클래스\n",
    "jdk가 제공하는 기본 클래스들 "
   ]
  },
  {
   "cell_type": "markdown",
   "metadata": {},
   "source": [
    "## Object 클래스\n",
    "\n",
    "- 모든 클래스의 최상위 클래스\n",
    "- java.lang.Object 클래스\n",
    "- 모든 클래스는 오브젝트 클래스에서 상속을 받음 => 모든 클래스 뒤에 컴파일러가 extends Object 붙임\n",
    "- 모든 클래스는 오브젝트 클래스의 메소드를 사용할수 있음\n",
    "- 모든 클래스는 오브젝트 클래스의 일부 메소드를 재정의하여 사용할 수 있음(final 제외)\n",
    "- 오브젝트가 상위클래스니까 모든 인스턴스는 오브젝트로 변수선언도 가능하고 다운캐스팅도 가능\n",
    "- **파이썬의 특별 메소드**"
   ]
  },
  {
   "cell_type": "markdown",
   "metadata": {},
   "source": [
    "### toString()\n",
    "\n",
    "- 프린트 했을때 나오는 값 재조정\n",
    "- 파이썬 특별 매소드중에 `__str__`"
   ]
  },
  {
   "cell_type": "code",
   "execution_count": 11,
   "metadata": {},
   "outputs": [],
   "source": [
    "class Book {\n",
    "    String title;\n",
    "    String author;\n",
    "    \n",
    "    public Book(String title, String author){\n",
    "        this.title = title;\n",
    "        this.author = author;\n",
    "    }\n",
    "    \n",
    "}"
   ]
  },
  {
   "cell_type": "code",
   "execution_count": 12,
   "metadata": {},
   "outputs": [
    {
     "name": "stdout",
     "output_type": "stream",
     "text": [
      "REPL.$JShell$12$Book@7e80da01\n"
     ]
    }
   ],
   "source": [
    "// 일반적으로 인스턴스를 프린트하면 메모리 주소가 나온다\n",
    "\n",
    "Book book = new Book(\"토지\", \"박경리\");\n",
    "System.out.println(book);"
   ]
  },
  {
   "cell_type": "code",
   "execution_count": 13,
   "metadata": {
    "scrolled": true
   },
   "outputs": [
    {
     "name": "stdout",
     "output_type": "stream",
     "text": [
      "토지\n"
     ]
    }
   ],
   "source": [
    "// 이경우에는 print했을때 메모리 주소가 아니라 문자열이 나오는데\n",
    "// 프린트 안에 toString이 내장되있어서 그렇다\n",
    "\n",
    "String str = new String(\"토지\");\n",
    "System.out.println(str.toString());"
   ]
  },
  {
   "cell_type": "markdown",
   "metadata": {},
   "source": [
    "### equals()\n",
    "\n",
    "- 두 객체의 동일함을 논리적으로 재정의할 수 있음(논리적 동일함을)\n",
    "    - 물리적 동일함 : 같은 주소를 가지는 객체 \n",
    "    - 논리적 동일함 : 같은 학번의 학생, 같은 번호의 주문\n",
    "- 물리적으로 다른 메모리에 위치한 객체러도 논리적으로 동일함을 구현하기 위해 사용한다"
   ]
  },
  {
   "cell_type": "code",
   "execution_count": 14,
   "metadata": {},
   "outputs": [
    {
     "name": "stdout",
     "output_type": "stream",
     "text": [
      "false\n"
     ]
    }
   ],
   "source": [
    "String str1 = new String(\"abc\");\n",
    "String str2 = new String(\"abc\");\n",
    "\n",
    "// 두 인스턴스는 다른 메모리에 위치해있기 때문에 물리적으로 동일하지 않음 == false\n",
    "System.out.println(str1 == str2);"
   ]
  },
  {
   "cell_type": "code",
   "execution_count": 15,
   "metadata": {},
   "outputs": [
    {
     "name": "stdout",
     "output_type": "stream",
     "text": [
      "true\n"
     ]
    }
   ],
   "source": [
    "// string에서 equal 오버라이딩 => 내용이 같은 경우 논리적 동일함\n",
    "\n",
    "System.out.println(str1.equals(str2));"
   ]
  },
  {
   "cell_type": "code",
   "execution_count": 4,
   "metadata": {},
   "outputs": [],
   "source": [
    "class Student {\n",
    "    int studentNum;\n",
    "    String studentName;\n",
    "    \n",
    "    public Student(int studentNum, String studentName) {\n",
    "        this.studentNum = studentNum;\n",
    "        this.studentName = studentName;\n",
    "    }\n",
    "    \n",
    "    @Override\n",
    "    public boolean equals(Object obj) {\n",
    "        if(obj instanceof Student) {\n",
    "            Student std = (Student)obj;\n",
    "            return (this.studentNum == std.studentNum);\n",
    "        }\n",
    "        return false;\n",
    "    }\n",
    "}"
   ]
  },
  {
   "cell_type": "code",
   "execution_count": 5,
   "metadata": {},
   "outputs": [],
   "source": [
    "Student Lee = new Student(100,\"이나경\");\n",
    "Student Lee2 = Lee;\n",
    "Student Shin = new Student(100, \"신세경\");"
   ]
  },
  {
   "cell_type": "code",
   "execution_count": 6,
   "metadata": {},
   "outputs": [
    {
     "name": "stdout",
     "output_type": "stream",
     "text": [
      "false\n"
     ]
    }
   ],
   "source": [
    "System.out.println(Lee == Shin);"
   ]
  },
  {
   "cell_type": "code",
   "execution_count": 7,
   "metadata": {
    "scrolled": true
   },
   "outputs": [
    {
     "name": "stdout",
     "output_type": "stream",
     "text": [
      "true\n"
     ]
    }
   ],
   "source": [
    "System.out.println(Lee.equals(Shin));"
   ]
  },
  {
   "cell_type": "markdown",
   "metadata": {},
   "source": [
    "### hashCode()\n",
    "- 인스턴스가 저장된 가상머신의 주소를 10진수로 반환\n",
    "- 자바에서 동일함에 대한 정의\n",
    "    - equals 값의 true 여부\n",
    "    - 동일한 hashCode값 => 실제 메모리 위치는 다름\n",
    "- equals 오버라이딩시 hashCode도 같이 오버라이딩함"
   ]
  },
  {
   "cell_type": "code",
   "execution_count": 10,
   "metadata": {},
   "outputs": [],
   "source": [
    "class Student {\n",
    "    int studentNum;\n",
    "    String studentName;\n",
    "    \n",
    "    public Student(int studentNum, String studentName) {\n",
    "        this.studentNum = studentNum;\n",
    "        this.studentName = studentName;\n",
    "    }\n",
    "    \n",
    "    @Override\n",
    "    public boolean equals(Object obj) {\n",
    "        if(obj instanceof Student) {\n",
    "            Student std = (Student)obj;\n",
    "            return (this.studentNum == std.studentNum);\n",
    "        }\n",
    "        return false;\n",
    "    }\n",
    "    \n",
    "    @Override\n",
    "    public int hashCode() {\n",
    "        return studentNum;\n",
    "    }\n",
    "}"
   ]
  },
  {
   "cell_type": "code",
   "execution_count": 12,
   "metadata": {},
   "outputs": [],
   "source": [
    "Integer i1 = new Integer(100);\n",
    "Integer i2 = new Integer(100);"
   ]
  },
  {
   "cell_type": "code",
   "execution_count": 13,
   "metadata": {},
   "outputs": [
    {
     "name": "stdout",
     "output_type": "stream",
     "text": [
      "true\n"
     ]
    }
   ],
   "source": [
    "System.out.println(i1.equals(i2));"
   ]
  },
  {
   "cell_type": "code",
   "execution_count": 15,
   "metadata": {},
   "outputs": [
    {
     "name": "stdout",
     "output_type": "stream",
     "text": [
      "100\n",
      "100\n"
     ]
    }
   ],
   "source": [
    "// 인티저의 해쉬코드 => 결국 이게 같으면 같은거임\n",
    "\n",
    "System.out.println(i1.hashCode(i2));\n",
    "System.out.println(i1.hashCode(i1));"
   ]
  },
  {
   "cell_type": "code",
   "execution_count": 18,
   "metadata": {
    "scrolled": true
   },
   "outputs": [
    {
     "name": "stdout",
     "output_type": "stream",
     "text": [
      "2108761422\n",
      "1937163400\n"
     ]
    }
   ],
   "source": [
    "// 실제 메모리 해쉬코드\n",
    "\n",
    "System.out.println(System.identityHashCode(i1));\n",
    "System.out.println(System.identityHashCode(i2));"
   ]
  },
  {
   "cell_type": "markdown",
   "metadata": {},
   "source": [
    "### clone() 메서드\n",
    "\n",
    "- 객체의 복사본을 만듬. 기본 틀으로부터 같은 속성값을 가진 객체의 복사본을 생성\n",
    "- 객체지향 프로그래밍의 정보은닉의 위배되는 가능성이 있어서 `cloneable`임을 인터페이스에서 명시해야함"
   ]
  },
  {
   "cell_type": "code",
   "execution_count": 25,
   "metadata": {},
   "outputs": [],
   "source": [
    "// cloneable은 구현 안해도 됨, 마크 인터페이스라고 함\n",
    "\n",
    "class Book implements Cloneable {\n",
    "    String title;\n",
    "    String author;\n",
    "    \n",
    "    public Book(String title, String author){\n",
    "        this.title = title;\n",
    "        this.author = author;\n",
    "    }\n",
    "    \n",
    "    @Override\n",
    "    public String toString() {\n",
    "        return author+\", \"+title;\n",
    "    }\n",
    "    \n",
    "    @Override\n",
    "    protected Object clone() throws CloneNotSupportedException {\n",
    "        return super.clone();\n",
    "    }\n",
    "    \n",
    "}"
   ]
  },
  {
   "cell_type": "code",
   "execution_count": 26,
   "metadata": {},
   "outputs": [],
   "source": [
    "Book book = new Book(\"토지\", \"박경리\");\n",
    "Book book2 = (Book)book.clone();"
   ]
  },
  {
   "cell_type": "code",
   "execution_count": 27,
   "metadata": {},
   "outputs": [
    {
     "name": "stdout",
     "output_type": "stream",
     "text": [
      "박경리, 토지\n"
     ]
    }
   ],
   "source": [
    "System.out.println(book2);"
   ]
  },
  {
   "cell_type": "markdown",
   "metadata": {},
   "source": [
    "### finalize()\n",
    "- 가비지콜렉터가 gc를 수행할때 같이 수행하는 동작을 정의\n",
    "- 리소스의 해제, 안닫힌 소켓을 닫거나 하는\n",
    "- 직접 메소드를 부를 수 없고 가비지컬렉터에 의해 메모리에서 사라질때 수행되는 기능"
   ]
  },
  {
   "cell_type": "markdown",
   "metadata": {},
   "source": [
    "## Class 클래스\n",
    "- 자바의 모든 클래스와 인터페이스는 컴파일 후에 class 파일로 생성됨\n",
    "- class 파일에는 객체의 정보가 포함되어 있음(멤버변수, 메서드, 생성자)\n",
    "- class 클래스는 컴파일된 class 파일에서 객체의 정보를 가져올 수 있음\n",
    "- 사용하는 경우가 많이 없음. 모듈로 자료형을 꺼내 쓰지 클래스의 클래스 클래스를 사용하지는 않아서"
   ]
  },
  {
   "cell_type": "code",
   "execution_count": 28,
   "metadata": {},
   "outputs": [],
   "source": [
    "String s = new String();\n",
    "Class c = s.getClass();"
   ]
  },
  {
   "cell_type": "code",
   "execution_count": 33,
   "metadata": {},
   "outputs": [],
   "source": [
    "// 동적로딩 => 런타임때 바인딩됨\n",
    "// require같은 동적 임포팅\n",
    "// 못찾으면 ClassNotFoundException 에러\n",
    "\n",
    "Class d = Class.forName(\"java.lang.String\");"
   ]
  },
  {
   "cell_type": "markdown",
   "metadata": {},
   "source": [
    "### reflection 프로그래밍\n",
    "\n",
    "- 클래스로부터 객체의 정보를 가져와 프로그래밍 하는 방식(typeof...등)\n",
    "- 로컬에 객체가 없고 자료형을 알수 없는 경우 유용\n",
    "- 그때그때 다른 클래스로 변수를 갈아치울 수 있다\n",
    "- java.lang.reflection\n",
    "\n",
    "### 동적로딩 \n",
    "- Class의 static 메서드(밑에 forname)\n",
    "- 동적로딩 : 컴파일 시에 데이터 타입이 모두 바인딩되어 자료형이 로딩되는것 실행중에 데이터타입을 알고 바인딩되는 방식\n",
    "- 정적로딩 : 컴파일 시작하기전에 데이터 타입을 모두 로드해놓는거\n",
    "- 동적로딩은 실행시에 로딩되므로 경우에 따라 다른 클래스가 사용될수 있어서 유용하다\n",
    "- 컴파일 타임에 체크할수 없으므로 해당문자열에 대한 클래스가 없는 경우 `classNotFoundException`이 발생한다"
   ]
  },
  {
   "cell_type": "code",
   "execution_count": 43,
   "metadata": {},
   "outputs": [
    {
     "name": "stdout",
     "output_type": "stream",
     "text": [
      "public java.lang.String(byte[])\n",
      "public java.lang.String(byte[],int,int)\n",
      "public java.lang.String(byte[],java.nio.charset.Charset)\n",
      "public java.lang.String(byte[],java.lang.String) throws java.io.UnsupportedEncodingException\n",
      "public java.lang.String(byte[],int,int,java.nio.charset.Charset)\n",
      "public java.lang.String(java.lang.StringBuilder)\n",
      "public java.lang.String(java.lang.StringBuffer)\n",
      "public java.lang.String(char[],int,int)\n",
      "public java.lang.String(char[])\n",
      "public java.lang.String(java.lang.String)\n",
      "public java.lang.String()\n",
      "public java.lang.String(byte[],int,int,java.lang.String) throws java.io.UnsupportedEncodingException\n",
      "public java.lang.String(byte[],int)\n",
      "public java.lang.String(byte[],int,int,int)\n",
      "public java.lang.String(int[],int,int)\n"
     ]
    }
   ],
   "source": [
    "import java.lang.reflect.Constructor;\n",
    "\n",
    "Class s = Class.forName(\"java.lang.String\");\n",
    "\n",
    "// String 클래스의 컨스트럭터 모두 출력\n",
    "// 내가 데이터 타입에 대한 정보를 잘 모를때 유용할듯\n",
    "Constructor[] cons = s.getConstructors();\n",
    "for(Constructor con:cons){\n",
    "    System.out.println(con);\n",
    "}"
   ]
  },
  {
   "cell_type": "code",
   "execution_count": 46,
   "metadata": {
    "scrolled": true
   },
   "outputs": [
    {
     "name": "stdout",
     "output_type": "stream",
     "text": [
      "public boolean java.lang.String.equals(java.lang.Object)\n",
      "public int java.lang.String.length()\n",
      "public java.lang.String java.lang.String.toString()\n",
      "public int java.lang.String.hashCode()\n",
      "public void java.lang.String.getChars(int,int,char[],int)\n",
      "public int java.lang.String.compareTo(java.lang.Object)\n",
      "public int java.lang.String.compareTo(java.lang.String)\n",
      "public int java.lang.String.indexOf(int,int)\n",
      "public int java.lang.String.indexOf(java.lang.String)\n",
      "public int java.lang.String.indexOf(java.lang.String,int)\n",
      "public int java.lang.String.indexOf(int)\n",
      "public static java.lang.String java.lang.String.valueOf(char[])\n",
      "public static java.lang.String java.lang.String.valueOf(java.lang.Object)\n",
      "public static java.lang.String java.lang.String.valueOf(long)\n",
      "public static java.lang.String java.lang.String.valueOf(char[],int,int)\n",
      "public static java.lang.String java.lang.String.valueOf(int)\n",
      "public static java.lang.String java.lang.String.valueOf(char)\n",
      "public static java.lang.String java.lang.String.valueOf(double)\n",
      "public static java.lang.String java.lang.String.valueOf(float)\n",
      "public static java.lang.String java.lang.String.valueOf(boolean)\n",
      "public char java.lang.String.charAt(int)\n",
      "public int java.lang.String.codePointAt(int)\n",
      "public int java.lang.String.codePointBefore(int)\n",
      "public int java.lang.String.codePointCount(int,int)\n",
      "public int java.lang.String.offsetByCodePoints(int,int)\n",
      "public byte[] java.lang.String.getBytes(java.lang.String) throws java.io.UnsupportedEncodingException\n",
      "public byte[] java.lang.String.getBytes()\n",
      "public void java.lang.String.getBytes(int,int,byte[],int)\n",
      "public byte[] java.lang.String.getBytes(java.nio.charset.Charset)\n",
      "public boolean java.lang.String.contentEquals(java.lang.StringBuffer)\n",
      "public boolean java.lang.String.contentEquals(java.lang.CharSequence)\n",
      "public boolean java.lang.String.regionMatches(int,java.lang.String,int,int)\n",
      "public boolean java.lang.String.regionMatches(boolean,int,java.lang.String,int,int)\n",
      "public boolean java.lang.String.startsWith(java.lang.String,int)\n",
      "public boolean java.lang.String.startsWith(java.lang.String)\n",
      "public int java.lang.String.lastIndexOf(java.lang.String)\n",
      "public int java.lang.String.lastIndexOf(int)\n",
      "public int java.lang.String.lastIndexOf(int,int)\n",
      "public int java.lang.String.lastIndexOf(java.lang.String,int)\n",
      "public java.lang.String java.lang.String.substring(int,int)\n",
      "public java.lang.String java.lang.String.substring(int)\n",
      "public boolean java.lang.String.isEmpty()\n",
      "public java.lang.String java.lang.String.replace(char,char)\n",
      "public java.lang.String java.lang.String.replace(java.lang.CharSequence,java.lang.CharSequence)\n",
      "public boolean java.lang.String.matches(java.lang.String)\n",
      "public java.lang.String java.lang.String.replaceFirst(java.lang.String,java.lang.String)\n",
      "public java.lang.String java.lang.String.replaceAll(java.lang.String,java.lang.String)\n",
      "public java.lang.String[] java.lang.String.split(java.lang.String,int)\n",
      "public java.lang.String[] java.lang.String.split(java.lang.String)\n",
      "public java.lang.String java.lang.String.toLowerCase()\n",
      "public java.lang.String java.lang.String.toLowerCase(java.util.Locale)\n",
      "public java.lang.String java.lang.String.toUpperCase()\n",
      "public java.lang.String java.lang.String.toUpperCase(java.util.Locale)\n",
      "public java.lang.String java.lang.String.trim()\n",
      "public java.lang.String java.lang.String.strip()\n",
      "public java.lang.String java.lang.String.stripLeading()\n",
      "public java.lang.String java.lang.String.stripTrailing()\n",
      "public java.util.stream.Stream java.lang.String.lines()\n",
      "public java.lang.String java.lang.String.repeat(int)\n",
      "public boolean java.lang.String.isBlank()\n",
      "public char[] java.lang.String.toCharArray()\n",
      "public static java.lang.String java.lang.String.format(java.util.Locale,java.lang.String,java.lang.Object[])\n",
      "public static java.lang.String java.lang.String.format(java.lang.String,java.lang.Object[])\n",
      "public java.lang.String java.lang.String.resolveConstantDesc(java.lang.invoke.MethodHandles$Lookup)\n",
      "public java.lang.Object java.lang.String.resolveConstantDesc(java.lang.invoke.MethodHandles$Lookup) throws java.lang.ReflectiveOperationException\n",
      "public java.util.stream.IntStream java.lang.String.codePoints()\n",
      "public boolean java.lang.String.equalsIgnoreCase(java.lang.String)\n",
      "public int java.lang.String.compareToIgnoreCase(java.lang.String)\n",
      "public boolean java.lang.String.endsWith(java.lang.String)\n",
      "public java.lang.CharSequence java.lang.String.subSequence(int,int)\n",
      "public java.lang.String java.lang.String.concat(java.lang.String)\n",
      "public boolean java.lang.String.contains(java.lang.CharSequence)\n",
      "public static java.lang.String java.lang.String.join(java.lang.CharSequence,java.lang.CharSequence[])\n",
      "public static java.lang.String java.lang.String.join(java.lang.CharSequence,java.lang.Iterable)\n",
      "public java.lang.String java.lang.String.indent(int)\n",
      "public java.lang.String java.lang.String.stripIndent()\n",
      "public java.lang.String java.lang.String.translateEscapes()\n",
      "public java.util.stream.IntStream java.lang.String.chars()\n",
      "public java.lang.Object java.lang.String.transform(java.util.function.Function)\n",
      "public java.lang.String java.lang.String.formatted(java.lang.Object[])\n",
      "public static java.lang.String java.lang.String.copyValueOf(char[],int,int)\n",
      "public static java.lang.String java.lang.String.copyValueOf(char[])\n",
      "public native java.lang.String java.lang.String.intern()\n",
      "public java.util.Optional java.lang.String.describeConstable()\n",
      "public final native void java.lang.Object.wait(long) throws java.lang.InterruptedException\n",
      "public final void java.lang.Object.wait(long,int) throws java.lang.InterruptedException\n",
      "public final void java.lang.Object.wait() throws java.lang.InterruptedException\n",
      "public final native java.lang.Class java.lang.Object.getClass()\n",
      "public final native void java.lang.Object.notify()\n",
      "public final native void java.lang.Object.notifyAll()\n"
     ]
    }
   ],
   "source": [
    "import java.lang.reflect.Method;\n",
    "\n",
    "// 모든 메소드 출력\n",
    "Method[] methods = s.getMethods();\n",
    "for(Method met:methods){\n",
    "    System.out.println(met);\n",
    "}"
   ]
  },
  {
   "cell_type": "code",
   "execution_count": 49,
   "metadata": {},
   "outputs": [],
   "source": [
    "// 파라미터로 특정 생성자 가져오기\n",
    "// 컨스트럭터에는 newInstance() 메소드 사용해 인스턴스 만들수있음\n",
    "\n",
    "Class[] parameterTypes = {String.class};\n",
    "Constructor cons = s.getConstructor(parameterTypes);"
   ]
  },
  {
   "cell_type": "markdown",
   "metadata": {},
   "source": [
    "## String 클래스\n",
    "- new 로 선언 : 인스턴스로 생성(힙메모리에)\n",
    "- 그냥 \"\" : 상수풀에 있는 문자열을 가리킴\n",
    "- 한번 생성된 문자열은 변경할 수 없다 = 이뮤터블\n",
    "- 변경을 막 하는것처럼 보여도 그 문자열은 새로 만들어진 것이다(원래 만들었던건 그대로 있음)"
   ]
  },
  {
   "cell_type": "code",
   "execution_count": 51,
   "metadata": {},
   "outputs": [],
   "source": [
    "// 힙메모리에 인스턴스로 생성\n",
    "String str1 = new String(\"abc\");\n",
    "String str2 = new String(\"abc\");\n",
    "\n",
    "// 상수풀에서 가져옴\n",
    "String str3 = \"abc\";\n",
    "String str4 = \"abc\";"
   ]
  },
  {
   "cell_type": "code",
   "execution_count": 53,
   "metadata": {},
   "outputs": [
    {
     "name": "stdout",
     "output_type": "stream",
     "text": [
      "false\n",
      "true\n"
     ]
    }
   ],
   "source": [
    "System.out.println(str1 == str2);\n",
    "System.out.println(str3 == str4);"
   ]
  },
  {
   "cell_type": "markdown",
   "metadata": {},
   "source": [
    "### StringBuffer\n",
    "- 문자열을 계속 붙여도 새로운 메모리가 생기지 않는다\n",
    "- 대충 보면 문자열을 가변값으로 관리하는거 => 실제로는 배열을 통해 한글자씩 메모리에 넣는다\n",
    "- 가변적인 char 배열을 멤버변수로 가지고 있어서 계속 문자열이 붙을 경우 배열로 처리한다\n",
    "- toString 메소드로 String을 반환한다"
   ]
  },
  {
   "cell_type": "code",
   "execution_count": 59,
   "metadata": {},
   "outputs": [
    {
     "name": "stdout",
     "output_type": "stream",
     "text": [
      "1912951414\n",
      "1912951414\n"
     ]
    }
   ],
   "source": [
    "String java = new String(\"java\");\n",
    "String android = new String(\"android\");\n",
    "\n",
    "StringBuilder buffer = new StringBuilder(java);\n",
    "System.out.println(System.identityHashCode(buffer));\n",
    "buffer.append(\"android\");\n",
    "\n",
    "// 메모리값은 같다 => 배열로 문자열을 관리하기 때문에\n",
    "System.out.println(System.identityHashCode(buffer));"
   ]
  },
  {
   "cell_type": "code",
   "execution_count": 61,
   "metadata": {},
   "outputs": [
    {
     "name": "stdout",
     "output_type": "stream",
     "text": [
      "javaandroid\n"
     ]
    }
   ],
   "source": [
    "//toString\n",
    "\n",
    "System.out.println(buffer);"
   ]
  },
  {
   "cell_type": "markdown",
   "metadata": {},
   "source": [
    "## Wrapper 클래스\n",
    "\n",
    "- 막 자료형 다른거 같다 이어붙이거나 할때 자동으로 형변환시켜주는\n",
    "\n",
    "### 자바의 원시 자료형에 대한 클래스\n",
    "- boolean\n",
    "- byte\n",
    "- char\n",
    "- int\n",
    "- short\n",
    "- long\n",
    "- float\n",
    "- double"
   ]
  }
 ],
 "metadata": {
  "kernelspec": {
   "display_name": "Java",
   "language": "java",
   "name": "java"
  },
  "language_info": {
   "codemirror_mode": "java",
   "file_extension": ".jshell",
   "mimetype": "text/x-java-source",
   "name": "Java",
   "pygments_lexer": "java",
   "version": "13.0.2+8"
  }
 },
 "nbformat": 4,
 "nbformat_minor": 4
}
