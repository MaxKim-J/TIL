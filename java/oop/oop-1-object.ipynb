{
 "cells": [
  {
   "cell_type": "markdown",
   "metadata": {},
   "source": [
    "# 1. 객체 + 클래스\n",
    "2020.04.03  \n",
    "\n",
    "## 객체 \n",
    "\n",
    "- 의사나 행위가 미치는 대상\n",
    "- 구체적, 추상적 데이터의 단위\n",
    "- oop : 객체를 정의하고 객체의 기능을 구현하며 객체간의 협력을 구현\n",
    "- 절차지향프로그램 : 시간에 따라서\n"
   ]
  },
  {
   "cell_type": "markdown",
   "metadata": {},
   "source": [
    "## 객체지향과 클래스\n",
    "\n",
    "- 절차지향 : 일어난다 => 씻는다 => 버스탄다 => 요금지불한다 => 학교도착\n",
    "- 객체지향 : 학생과 버스 사이에 탄다는 관계, 학생과 학교 사이의 간다라는 관계"
   ]
  },
  {
   "cell_type": "markdown",
   "metadata": {},
   "source": [
    "### 클래스\n",
    "- 객체를 코드로 구현 한것\n",
    "- 객체 지향 프로그래밍의 가장 기본 요소\n",
    "- 객체의 청사진 \n",
    "\n",
    "### 멤버변수, 메서드\n",
    "- 멤버변수 : 객체가 가지는 속성을 변수로 표현, 클래스의 멤버변수, 프로퍼티, 어트리뷰트\n",
    "- 메서드 : 객체의 기능을 구현\n",
    "\n",
    "### 학생 클래스 구현"
   ]
  },
  {
   "cell_type": "code",
   "execution_count": 23,
   "metadata": {},
   "outputs": [],
   "source": [
    "// 학생 클래스 구현하기\n",
    "// 자바 파일에 퍼블릭 클래스 하나, 이름이 똑같아야 함\n",
    "// public : 접근제어자(access modifier)\n",
    "\n",
    "public class Student {\n",
    "    \n",
    "    // 멤버변수\n",
    "    public int studentID;\n",
    "    public String studentName;\n",
    "    public String address;\n",
    "    \n",
    "    // 메서드\n",
    "    // void - 여기오는 데이터타입은 반환하는 값의 자료형\n",
    "    public void showStudentInfo() {\n",
    "        System.out.println(studentName + \",\" + address);\n",
    "    }\n",
    "    \n",
    "}"
   ]
  },
  {
   "cell_type": "code",
   "execution_count": 19,
   "metadata": {},
   "outputs": [],
   "source": [
    "// public static void main안에서\n",
    "\n",
    "// 생성자\n",
    "Student studentLee = new Student();"
   ]
  },
  {
   "cell_type": "code",
   "execution_count": 21,
   "metadata": {},
   "outputs": [
    {
     "data": {
      "text/plain": [
       "김종혁"
      ]
     },
     "execution_count": 21,
     "metadata": {},
     "output_type": "execute_result"
    }
   ],
   "source": [
    "studentLee.studentName = \"김종혁\";"
   ]
  },
  {
   "cell_type": "code",
   "execution_count": 22,
   "metadata": {},
   "outputs": [
    {
     "data": {
      "text/plain": [
       "서울"
      ]
     },
     "execution_count": 22,
     "metadata": {},
     "output_type": "execute_result"
    }
   ],
   "source": [
    "studentLee.address = \"서울\"; "
   ]
  },
  {
   "cell_type": "markdown",
   "metadata": {},
   "source": [
    "## 함수와 메서드\n",
    "\n",
    "### 자바의 함수 \n",
    "\n",
    "- 함수 :  하나의 기능을 수행하는 일련의 코드\n",
    "- 함수는 호출하여 사용하고 기능이 수행된 후 값을 반환\n",
    "- 함수로 구현된 기능은 여러 곳에서 호출되어 사용할 수 있음\n",
    "- 함수는 스택 메모리와 연관이 있음 : 호출하면 쌓이고, 지역변수는 호출한 시점에 스택 안에 생성, 칸이 사라지면 접근불가"
   ]
  },
  {
   "cell_type": "code",
   "execution_count": 24,
   "metadata": {},
   "outputs": [],
   "source": [
    "// 함수의 리턴값의 자료형(파라미터 자료형 변수, 파라미터 자료형 변수){}\n",
    "// void로 두면 리턴값 없는 함수 : 변수에 할당할 수 없다(리턴값을)\n",
    "\n",
    "int add(int num1, int num2){\n",
    "    int result;\n",
    "    result = num1 + num2;\n",
    "    return result;\n",
    "}"
   ]
  },
  {
   "cell_type": "code",
   "execution_count": 25,
   "metadata": {},
   "outputs": [
    {
     "name": "stdout",
     "output_type": "stream",
     "text": [
      "9"
     ]
    }
   ],
   "source": [
    "System.out.print(add(5,4))"
   ]
  },
  {
   "cell_type": "code",
   "execution_count": 28,
   "metadata": {},
   "outputs": [],
   "source": [
    "// 클라이언트 입장에서 코드를 만들자\n",
    "// 클래스는 대문자 시작, 패키지는 소문자 시작, 변수는 카멜케이스\n",
    "\n",
    "public class Realstudent {\n",
    "    \n",
    "    // 멤버변수\n",
    "    public int studentID;\n",
    "    public String studentName;\n",
    "    public String address;\n",
    "    \n",
    "    // 메서드\n",
    "    public void showStudentInfo() {\n",
    "        System.out.println(studentName + \",\" + address);\n",
    "    }\n",
    "    \n",
    "    public String getStudentName() {\n",
    "        return studentName;\n",
    "    }\n",
    "    \n",
    "}"
   ]
  },
  {
   "cell_type": "markdown",
   "metadata": {},
   "source": [
    "## 인스턴스\n",
    "\n",
    "- 클래스로부터 생성된 객체, 힙 메모리에 멤버 변수의 크기에 따라 메모리가 생성  \n",
    "- 클래스 기반으로 new 키워드 이용하여 여러개의 인스턴스 생성\n",
    "- 인스턴스가 생성될 때 힙 메모리(동적 메모리)안에 new 생성자를 사용해 멤버변수 만들어짐\n",
    "- 클래스가 힙 메모리에 있는 인스턴스를 가리킨다(메서드는 힙메모리말고 또 다른 공간에 위치)\n",
    "- 힙 메모리에 있는 얘들 : 인스턴스, 각각의 인스턴스는 별개의 메모리를 갖는다\n",
    "\n",
    "### GC\n",
    "- 가비지콜렉터라는 스레드가 따로 존재하고 쓰지 않는 메모리들을 수거한다\n",
    "- 프로그래머가 메모리를 수거할 필요가 없다(엌 넘 옛날 갬성)"
   ]
  },
  {
   "cell_type": "code",
   "execution_count": 33,
   "metadata": {},
   "outputs": [],
   "source": [
    "Realstudent studentKim = new Realstudent();"
   ]
  },
  {
   "cell_type": "code",
   "execution_count": 35,
   "metadata": {},
   "outputs": [
    {
     "data": {
      "text/plain": [
       "광주"
      ]
     },
     "execution_count": 35,
     "metadata": {},
     "output_type": "execute_result"
    }
   ],
   "source": [
    "studentKim.studentName = \"김종혁\";\n",
    "studentKim.address = \"광주\";"
   ]
  },
  {
   "cell_type": "code",
   "execution_count": 36,
   "metadata": {},
   "outputs": [
    {
     "data": {
      "text/plain": [
       "김종혁"
      ]
     },
     "execution_count": 36,
     "metadata": {},
     "output_type": "execute_result"
    }
   ],
   "source": [
    "studentKim.getStudentName();"
   ]
  },
  {
   "cell_type": "code",
   "execution_count": 39,
   "metadata": {},
   "outputs": [
    {
     "data": {
      "text/plain": [
       "REPL.$JShell$33$Realstudent@20d3b55d"
      ]
     },
     "execution_count": 39,
     "metadata": {},
     "output_type": "execute_result"
    }
   ],
   "source": [
    "// 참조변수가 가지고 있는 어드레스 출력(참조 값)\n",
    "// 참조변수가 가지고 있는 참조 값 확인\n",
    "\n",
    "studentKim"
   ]
  },
  {
   "cell_type": "markdown",
   "metadata": {},
   "source": [
    "## 예제"
   ]
  },
  {
   "cell_type": "code",
   "execution_count": 40,
   "metadata": {},
   "outputs": [],
   "source": [
    "// 제임스 클래스\n",
    "\n",
    "public class Person{\n",
    "    int age;\n",
    "    String name;\n",
    "    boolean isMarried;\n",
    "    int numberOfChildren;\n",
    "}"
   ]
  },
  {
   "cell_type": "code",
   "execution_count": 41,
   "metadata": {},
   "outputs": [
    {
     "name": "stdout",
     "output_type": "stream",
     "text": [
      "나이 :40\n"
     ]
    }
   ],
   "source": [
    "Person person = new Person();\n",
    "person.age = 40;\n",
    "person.isMarried = true;\n",
    "person.name = \"James\";\n",
    "person.numberOfChildren = 3;\n",
    "\n",
    "System.out.println(\"나이 :\" + person.age);"
   ]
  }
 ],
 "metadata": {
  "kernelspec": {
   "display_name": "Java",
   "language": "java",
   "name": "java"
  },
  "language_info": {
   "codemirror_mode": "java",
   "file_extension": ".jshell",
   "mimetype": "text/x-java-source",
   "name": "Java",
   "pygments_lexer": "java",
   "version": "13.0.2+8"
  }
 },
 "nbformat": 4,
 "nbformat_minor": 4
}
