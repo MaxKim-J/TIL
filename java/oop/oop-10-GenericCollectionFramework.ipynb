{
 "cells": [
  {
   "cell_type": "markdown",
   "metadata": {},
   "source": [
    "# 10. 제네릭 프로그래밍 + 컬렉션 프레임워크\n"
   ]
  },
  {
   "cell_type": "markdown",
   "metadata": {},
   "source": [
    "## 제네릭 프로그래밍\n",
    "\n",
    "- 변수의 선언이나 메서드의 매개변수를 하나의 참조 자료형이 아니라 **여러 자료형**으로 변환될 수 있도록 하는 프로그래밍 방식\n",
    "- 실제 사용되는 참조 자료형으로의 변환은 컴파일러가 검증하므로 안정적인 프로그래밍 방식\n",
    "- T : 자료형 매개변수, type이라는 뜻, 반환형이든 매개변수든 다 가능"
   ]
  },
  {
   "cell_type": "code",
   "execution_count": 1,
   "metadata": {},
   "outputs": [],
   "source": [
    "public class Plastic {\n",
    "    public String toString() {\n",
    "        return \"재료는 플라스틱입니다\";\n",
    "    }\n",
    "}"
   ]
  },
  {
   "cell_type": "code",
   "execution_count": 2,
   "metadata": {},
   "outputs": [],
   "source": [
    "public class Powder {\n",
    "    public String toString() {\n",
    "        return \"재료는 파우더입니다\";\n",
    "    }\n",
    "}"
   ]
  },
  {
   "cell_type": "code",
   "execution_count": 4,
   "metadata": {},
   "outputs": [],
   "source": [
    "public class GenericPrinter<T> {\n",
    "    private T material;\n",
    "    public T getMaterial(){\n",
    "        return material;\n",
    "    }\n",
    "    \n",
    "    public void setMaterial(T material){\n",
    "        this.material = material;\n",
    "    }\n",
    "    \n",
    "    public String toString() {\n",
    "        return material.toString();\n",
    "    }\n",
    "}"
   ]
  },
  {
   "cell_type": "code",
   "execution_count": 8,
   "metadata": {},
   "outputs": [
    {
     "name": "stdout",
     "output_type": "stream",
     "text": [
      "재료는 파우더입니다\n"
     ]
    }
   ],
   "source": [
    "// 다이아몬드 연산자 안에 타입 넣어서 인스턴스 생성\n",
    "GenericPrinter<Powder> powderPrinter = new GenericPrinter<Powder>();\n",
    "\n",
    "// 생성자로 인스턴스만들때 명시된 타입에 해당하는 인스턴스를 넣어서 셋\n",
    "Powder powder = new Powder();\n",
    "powderPrinter.setMaterial(powder);\n",
    "\n",
    "System.out.println(powderPrinter);"
   ]
  },
  {
   "cell_type": "code",
   "execution_count": 10,
   "metadata": {},
   "outputs": [
    {
     "name": "stdout",
     "output_type": "stream",
     "text": [
      "재료는 플라스틱입니다\n"
     ]
    }
   ],
   "source": [
    "GenericPrinter<Plastic> plasticPrinter = new GenericPrinter<Plastic>();\n",
    "Plastic plastic = new Plastic();\n",
    "plasticPrinter.setMaterial(plastic);\n",
    "\n",
    "System.out.println(plasticPrinter);"
   ]
  },
  {
   "cell_type": "code",
   "execution_count": 12,
   "metadata": {},
   "outputs": [],
   "source": [
    "public abstract class Material {\n",
    "    public abstract void doPrinting();\n",
    "}\n",
    "\n",
    "\n",
    "\n",
    "// 매테리얼 클래스를 상속받은 클래스의 인스턴스만 들어올 수 있다\n",
    "public class GenericPrinter<T extends Material> {\n",
    "    private T material;\n",
    "    public T getMaterial(){\n",
    "        return material;\n",
    "    }\n",
    "    \n",
    "    public void setMaterial(T material){\n",
    "        this.material = material;\n",
    "    }\n",
    "    \n",
    "    public String toString() {\n",
    "        return material.toString();\n",
    "    }\n",
    "}"
   ]
  },
  {
   "cell_type": "markdown",
   "metadata": {},
   "source": [
    "### 제네릭 메소드\n",
    "- 메소드 내에서의 자료형 매개변수는 메서드 내에서만 유효\n",
    "- 일반 클래스의 메소드에서도 제네릭을 사용할 수 있더라"
   ]
  },
  {
   "cell_type": "markdown",
   "metadata": {},
   "source": [
    "## 컬렉션 프레임워크\n",
    "\n",
    "- 프로그램 구현에 필요한 자료구조와 알고리즘을 구현해놓은 라이브러리\n",
    "- java.util 패키지에 구현되어 있음\n",
    "- 개발에 소요되는 시간을 절약하고 최적화된 라이브러리를 사용할 수 있음\n",
    "- Collection 인터페이스와 Map 인터페이스로 구성되어있음\n",
    "- Collection : 하나의 객체 관리\n",
    "- Map : 쌍으로 이루어진 객체 관리\n",
    "- ArrayList, LinkedList, Vector, Stack, Queue, PriorityQueue, HashSet, HashMap, BinaryTree, BinarySearchTree"
   ]
  },
  {
   "cell_type": "markdown",
   "metadata": {},
   "source": []
  }
 ],
 "metadata": {
  "kernelspec": {
   "display_name": "Java",
   "language": "java",
   "name": "java"
  },
  "language_info": {
   "codemirror_mode": "java",
   "file_extension": ".jshell",
   "mimetype": "text/x-java-source",
   "name": "Java",
   "pygments_lexer": "java",
   "version": "13.0.2+8"
  }
 },
 "nbformat": 4,
 "nbformat_minor": 4
}
