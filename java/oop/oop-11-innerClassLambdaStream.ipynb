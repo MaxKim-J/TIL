{
 "cells": [
  {
   "cell_type": "markdown",
   "metadata": {},
   "source": [
    "# 11. 내부 클래스 + 람다식 + 스트림 \n"
   ]
  },
  {
   "cell_type": "markdown",
   "metadata": {},
   "source": [
    "## 내부 클래스\n",
    "- 클래스 내부에 구현된 클래스(중첩된 클래스)\n",
    "- 클래스 내부에서 사용하기 위해 선언하구 구현하는 클래스 \n",
    "- 주로 외부 클래스 생성자에서 내부 클래스를 생성\n",
    "- 인스턴스 내부 클래스, 정적 내부 클래스, 지역 내부 클래스, 익명 내부 클래스 등으로 나눠짐\n",
    "- 익명 내부 클래스가 가장 많이 쓰인다\n",
    "- static은 인스턴스 생성과 상관 없이 쓸 수 있다 어짜피 클래스로 불리기 때문에\n",
    "\n",
    "### 인스턴스 내부 클래스, 정적 내부 클래스"
   ]
  },
  {
   "cell_type": "code",
   "execution_count": 1,
   "metadata": {},
   "outputs": [],
   "source": [
    "class OutClass{\n",
    "    private int num = 10;\n",
    "    private static int sNum = 20;\n",
    "    private InClass inClass;\n",
    "    \n",
    "    public OutClass() {\n",
    "        // 바깥 클래스 생성자로 인스턴스 생성하면 새로운 안 클래스 인스턴스 생성\n",
    "        inClass = new InClass();\n",
    "    }\n",
    "    \n",
    "    // static으로 선언하면 바깥 클래스 생성자에서 못쓴다\n",
    "    // 정적 클래스는 바깥 클래스와 아무 상관 없이 그냥 쓸수 있음\n",
    "    // 인스턴스 내부 클래스\n",
    "    class InClass{\n",
    "        int iNum = 100;\n",
    "        \n",
    "        void inTest() {\n",
    "            System.out.println(num);\n",
    "            System.out.println(sNum);\n",
    "        }\n",
    "    }\n",
    "    \n",
    "    public void usingInner() {\n",
    "        inClass.inTest();\n",
    "    }\n",
    "    \n",
    "    // 스태틱 내부 클래스의 경우 스태틱 메소드도 생성 가능함\n",
    "    // 정적 내부 클래스\n",
    "    static class InStaticClass{\n",
    "        int inNum = 100;\n",
    "        static int sInNum = 200;\n",
    "        \n",
    "        void inTest() {\n",
    "            System.out.println(inNum);\n",
    "            System.out.println(sInNum);\n",
    "            System.out.println(sNum);\n",
    "        }\n",
    "        \n",
    "        // 요 정적 클래스의 생성과 상관없이 접근할 수 있는 클래스이므로\n",
    "        // inNum에 접근할 수 없음\n",
    "        // static으로 선언한 다른 변수는 접근 가능함\n",
    "        static void sTest() {\n",
    "            System.out.println(sInNum);\n",
    "            System.out.println(sNum);\n",
    "        }\n",
    "    }\n",
    "}"
   ]
  },
  {
   "cell_type": "code",
   "execution_count": 2,
   "metadata": {},
   "outputs": [
    {
     "name": "stdout",
     "output_type": "stream",
     "text": [
      "10\n",
      "20\n"
     ]
    }
   ],
   "source": [
    "OutClass outClass = new OutClass();\n",
    "outClass.usingInner();"
   ]
  },
  {
   "cell_type": "code",
   "execution_count": 3,
   "metadata": {
    "scrolled": true
   },
   "outputs": [
    {
     "name": "stdout",
     "output_type": "stream",
     "text": [
      "10\n",
      "20\n"
     ]
    }
   ],
   "source": [
    "// 참조변수 사용해서 안에서 선언한 클래스 꺼내쓸 수 있다\n",
    "// Private으로 만들면 안되긴함\n",
    "\n",
    "OutClass.InClass myInClass = outClass.new InClass();\n",
    "myInClass.inTest();"
   ]
  },
  {
   "cell_type": "markdown",
   "metadata": {},
   "source": [
    "### 지역 내부 클래스, 익명 내부 클래스"
   ]
  },
  {
   "cell_type": "code",
   "execution_count": 4,
   "metadata": {},
   "outputs": [],
   "source": [
    "class Outer{\n",
    "    int outNum = 100;\n",
    "    static int sNum = 200;\n",
    "    \n",
    "    // 메소드 안에서의 클래스 선언\n",
    "    // 인자 받은 상태이며 지역변수 값은 modify가능\n",
    "    // 지역변수 유효 => 메서드가 호출되어 끝날때까지 유효\n",
    "    // 메소드 안의 내부 클래스는 상위 메소드의 변수에 접근할 수 없다(변수의 상수화) 밖이 더 오래 살아있기 때문에???정확히 잘 모르겟음\n",
    "    Runnable getRunnable(int i) {\n",
    "        int num = 100;\n",
    "        // 바로 클래스를 반환해버릴수도 있음 => return new Runnable(int i){}\n",
    "        // 이게 익명 내부 클래스(이름이 없는 익명 클래스)\n",
    "        class MyRunnable implements Runnable{\n",
    "            public void run() {\n",
    "                // 상위 클래스에 접근 가능\n",
    "                System.out.println(num);\n",
    "                System.out.println(i);\n",
    "                System.out.println(outNum);\n",
    "                System.out.println(Outer.sNum);\n",
    "            }\n",
    "        }\n",
    "        return new MyRunnable();\n",
    "    }\n",
    "}"
   ]
  },
  {
   "cell_type": "code",
   "execution_count": 5,
   "metadata": {
    "scrolled": true
   },
   "outputs": [
    {
     "name": "stdout",
     "output_type": "stream",
     "text": [
      "100\n",
      "50\n",
      "100\n",
      "200\n"
     ]
    }
   ],
   "source": [
    "Outer outer = new Outer();\n",
    "Runnable runnable = outer.getRunnable(50);\n",
    "\n",
    "runnable.run();"
   ]
  },
  {
   "cell_type": "code",
   "execution_count": 6,
   "metadata": {},
   "outputs": [
    {
     "name": "stdout",
     "output_type": "stream",
     "text": [
      "test\n"
     ]
    }
   ],
   "source": [
    "// 냅다 new 써서 클래스 만들어버리기 - 익명 클래스\n",
    "// 단 하나의 인터페이스, 단 하나의 추상클래스인 경우는 클래스 이름 없이 뉴 키워드 생성해서\n",
    "// 이런식으로 구현할 수 있다\n",
    "\n",
    "Runnable runner = new Runnable(){\n",
    "    public void run() {\n",
    "        System.out.println(\"test\");\n",
    "    }\n",
    "};\n",
    "// 익명 클래스 선언 끝에 세미콜론 붙여야함\n",
    "\n",
    "runner.run();"
   ]
  },
  {
   "cell_type": "markdown",
   "metadata": {},
   "source": [
    "## 람다식\n",
    "\n",
    "- 자바에서 함수형 프로그래밍을 구현하는 방식\n",
    "- 자바의 동적타이핑\n",
    "- 클래스를 생성하지 않고 함수의 호출만으로 기능을 수행\n",
    "- 함수형 인터페이스를 선언함\n",
    "- since 자바8\n",
    "- 함수를 변수처럼 사용할 수 있음(함수의 표현식이 변수에 대입이 되서 사용되는)"
   ]
  },
  {
   "cell_type": "markdown",
   "metadata": {},
   "source": [
    "### 함수형 프로그래밍 \n",
    "- 순수함수를 구현하고 호출\n",
    "- 사이드 이펙트 발생하지 않음\n",
    "- 안정적인 프로그래밍 방식\n"
   ]
  },
  {
   "cell_type": "code",
   "execution_count": 7,
   "metadata": {},
   "outputs": [],
   "source": [
    "// 함수형 인터페이스\n",
    "// 타입스크립트 함수 시그니처를 생각나게한다\n",
    "\n",
    "@FunctionalInterface\n",
    "public interface MyMaxNumber {\n",
    "    int getMaxNumber(int x, int y);\n",
    "}"
   ]
  },
  {
   "cell_type": "code",
   "execution_count": 8,
   "metadata": {
    "scrolled": true
   },
   "outputs": [
    {
     "name": "stdout",
     "output_type": "stream",
     "text": [
      "20\n"
     ]
    }
   ],
   "source": [
    "MyMaxNumber max = (x,y) -> (x >= y)?x:y;\n",
    "System.out.println(max.getMaxNumber(10,20));"
   ]
  },
  {
   "cell_type": "code",
   "execution_count": 9,
   "metadata": {},
   "outputs": [],
   "source": [
    "@FunctionalInterface\n",
    "public interface StringConcat {\n",
    "    public void makeString(String s1, String s2);\n",
    "}"
   ]
  },
  {
   "cell_type": "code",
   "execution_count": 10,
   "metadata": {},
   "outputs": [],
   "source": [
    "public class StringConImp1 implements StringConcat {\n",
    "    public void makeString(String s1, String s2) {\n",
    "        System.out.println(s1 + \",\" + s2);\n",
    "    }\n",
    "}"
   ]
  },
  {
   "cell_type": "code",
   "execution_count": 11,
   "metadata": {},
   "outputs": [
    {
     "name": "stdout",
     "output_type": "stream",
     "text": [
      "hello,world\n"
     ]
    }
   ],
   "source": [
    "// 일반적인 방법\n",
    "\n",
    "StringConImp1 imp1 = new StringConImp1();\n",
    "imp1.makeString(\"hello\", \"world\");"
   ]
  },
  {
   "cell_type": "code",
   "execution_count": 12,
   "metadata": {},
   "outputs": [
    {
     "name": "stdout",
     "output_type": "stream",
     "text": [
      "hello,world\n"
     ]
    }
   ],
   "source": [
    "// 람다식 사용\n",
    "// 클래스 구현 필요 없이 인터페이스 만으로 바로 인스턴스를 만들 수 있음\n",
    "// 내부에 익명 객체를 생성해서 만드는 것\n",
    "// 함수를 변수처럼 사용하는 느낌으로다가\n",
    "\n",
    "StringConcat concat = (s,v) -> System.out.println(s+\",\"+v);\n",
    "concat.makeString(\"hello\", \"world\");"
   ]
  },
  {
   "cell_type": "code",
   "execution_count": 13,
   "metadata": {},
   "outputs": [],
   "source": [
    "interface PrintString {\n",
    "    void showString(String str);\n",
    "}"
   ]
  },
  {
   "cell_type": "code",
   "execution_count": 14,
   "metadata": {},
   "outputs": [
    {
     "name": "stdout",
     "output_type": "stream",
     "text": [
      "Test\n"
     ]
    }
   ],
   "source": [
    "PrintString lambdaStr = s -> System.out.println(s);\n",
    "lambdaStr.showString(\"Test\");"
   ]
  },
  {
   "cell_type": "code",
   "execution_count": 15,
   "metadata": {},
   "outputs": [],
   "source": [
    "public static void showMyString(PrintString p) {\n",
    "    p.showString(\"Test2\");\n",
    "}"
   ]
  },
  {
   "cell_type": "code",
   "execution_count": 16,
   "metadata": {},
   "outputs": [
    {
     "name": "stdout",
     "output_type": "stream",
     "text": [
      "Test2\n"
     ]
    }
   ],
   "source": [
    "// 이렇게 파라미터로도 넘길 수 있게 되서 함수형 프로그래밍이 가능하다\n",
    "\n",
    "showMyString(lambdaStr);"
   ]
  },
  {
   "cell_type": "code",
   "execution_count": 17,
   "metadata": {},
   "outputs": [],
   "source": [
    "// 특이하게 람다식 사용하면 파라미터를 명시해주지 않아도 괜찮다\n",
    "\n",
    "public static PrintString returnString() {\n",
    "    return s -> System.out.println(s + \"!!!\");\n",
    "}"
   ]
  },
  {
   "cell_type": "code",
   "execution_count": 18,
   "metadata": {},
   "outputs": [
    {
     "name": "stdout",
     "output_type": "stream",
     "text": [
      "Test3!!!\n"
     ]
    }
   ],
   "source": [
    "PrintString test = returnString();\n",
    "test.showString(\"Test3\")"
   ]
  }
 ],
 "metadata": {
  "kernelspec": {
   "display_name": "Java",
   "language": "java",
   "name": "java"
  },
  "language_info": {
   "codemirror_mode": "java",
   "file_extension": ".jshell",
   "mimetype": "text/x-java-source",
   "name": "Java",
   "pygments_lexer": "java",
   "version": "13.0.2+8"
  }
 },
 "nbformat": 4,
 "nbformat_minor": 4
}
