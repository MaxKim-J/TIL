{
 "cells": [
  {
   "cell_type": "markdown",
   "metadata": {},
   "source": [
    "# 정보 은닉\n",
    "2020.04.10  \n",
    "\n",
    "`public` vs `private`"
   ]
  },
  {
   "cell_type": "markdown",
   "metadata": {},
   "source": [
    "## 접근제어자\n",
    "\n",
    "- 변수 메서드 생성자에 대한 접근 권한 지정\n",
    "- `public`, `private`, `protected`, 아무것도 안쓰는 경우\n",
    "- `private` 사용하면 클래스 외부에서는 접근할 수 없음\n",
    "- `public`은 정말 아무곳에서나 접근 가능\n",
    "- 아무것도 안쓰면 같은 패키지 내에서만 참조할 수 있음\n",
    "- public메서드를 제공하면 private 변수를 외부에서 접근할 수 있게 하긴 함(제한적으로 접근)"
   ]
  },
  {
   "cell_type": "code",
   "execution_count": 20,
   "metadata": {},
   "outputs": [],
   "source": [
    "public class MyDate {\n",
    "    public int year;\n",
    "    public int month;\n",
    "    public int day;\n",
    "    private String goal = \"금연\";\n",
    "    \n",
    "    public void showDate() {\n",
    "        System.out.println(year+\"년 \"+month+\"월 \"+day+\"일 \");\n",
    "    }\n",
    "    \n",
    "    public void setGoal(String goal){\n",
    "        //this는 멤버변수임을 표시해주기 위해 사용\n",
    "        this.goal = goal;\n",
    "    }\n",
    "    \n",
    "    public String getGoal(){\n",
    "        return goal;\n",
    "    }\n",
    "}"
   ]
  },
  {
   "cell_type": "code",
   "execution_count": 21,
   "metadata": {},
   "outputs": [
    {
     "data": {
      "text/plain": [
       "2020"
      ]
     },
     "execution_count": 21,
     "metadata": {},
     "output_type": "execute_result"
    }
   ],
   "source": [
    "MyDate date = new MyDate();\n",
    "\n",
    "date.day = 10;\n",
    "date.month = 4;\n",
    "date.year = 2020;"
   ]
  },
  {
   "cell_type": "code",
   "execution_count": 22,
   "metadata": {},
   "outputs": [
    {
     "name": "stdout",
     "output_type": "stream",
     "text": [
      "2020년 4월 10일 \n"
     ]
    }
   ],
   "source": [
    "date.showDate()"
   ]
  },
  {
   "cell_type": "markdown",
   "metadata": {},
   "source": [
    "## private 쓰임새\n",
    "\n",
    "- 멤버변수를 가져올수는 있지만 수정할 수 없게끔 만들 수 있음(private 멤버변수 + get 메서드)"
   ]
  },
  {
   "cell_type": "code",
   "execution_count": 24,
   "metadata": {},
   "outputs": [
    {
     "data": {
      "text/plain": [
       "금연"
      ]
     },
     "execution_count": 24,
     "metadata": {},
     "output_type": "execute_result"
    }
   ],
   "source": [
    "date.getGoal()"
   ]
  },
  {
   "cell_type": "code",
   "execution_count": 25,
   "metadata": {},
   "outputs": [
    {
     "data": {
      "text/plain": [
       "취직"
      ]
     },
     "execution_count": 25,
     "metadata": {},
     "output_type": "execute_result"
    }
   ],
   "source": [
    "// 셋 메서드가 있기 때문에 private 변수를 바껄수\n",
    "\n",
    "date.setGoal(\"취직\");\n",
    "date.getGoal()"
   ]
  }
 ],
 "metadata": {
  "kernelspec": {
   "display_name": "Java",
   "language": "java",
   "name": "java"
  },
  "language_info": {
   "codemirror_mode": "java",
   "file_extension": ".jshell",
   "mimetype": "text/x-java-source",
   "name": "Java",
   "pygments_lexer": "java",
   "version": "13.0.2+8"
  }
 },
 "nbformat": 4,
 "nbformat_minor": 4
}
