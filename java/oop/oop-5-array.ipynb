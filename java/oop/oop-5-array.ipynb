{
 "cells": [
  {
   "cell_type": "markdown",
   "metadata": {},
   "source": [
    "# 자바배열\n",
    "2020.04.17  "
   ]
  },
  {
   "cell_type": "markdown",
   "metadata": {},
   "source": [
    "## 배열\n",
    "- 동일한 자료형의 순차적 자료 구조\n",
    "- 배열 요소의 자료형만큼의 공간이 크기만큼 생긴다\n",
    "- `arrayList` : JDK가 주는 배열과 배열 메소드 모듈\n",
    "- 순회문 안의 변수는 블록레벨스코프"
   ]
  },
  {
   "cell_type": "code",
   "execution_count": 1,
   "metadata": {},
   "outputs": [
    {
     "name": "stdout",
     "output_type": "stream",
     "text": [
      "[I@13ff7079\n"
     ]
    }
   ],
   "source": [
    "// 배열 요소의 자료형 변수명 = new 배열크기;\n",
    "// 선언\n",
    "int[] arr = new int[10];\n",
    "\n",
    "System.out.println(arr);"
   ]
  },
  {
   "cell_type": "code",
   "execution_count": 2,
   "metadata": {},
   "outputs": [],
   "source": [
    "// 선언과 동시에 초기화 - new 키워드 생략\n",
    "int[] arr2 = {1,2,3,4,5};"
   ]
  },
  {
   "cell_type": "code",
   "execution_count": 3,
   "metadata": {},
   "outputs": [
    {
     "name": "stdout",
     "output_type": "stream",
     "text": [
      "1\n",
      "2\n",
      "3\n",
      "4\n",
      "5\n"
     ]
    }
   ],
   "source": [
    "// 배열순회\n",
    "\n",
    "for(int i=0;i<arr2.length;i++) {\n",
    "    System.out.println(arr2[i]);\n",
    "}"
   ]
  },
  {
   "cell_type": "code",
   "execution_count": 4,
   "metadata": {},
   "outputs": [],
   "source": [
    "// 순회하며 배열에 값 넣기\n",
    "\n",
    "int[] arr = new int[10];\n",
    "for(int i = 0,num=1;i<arr.length;i++,num++) {\n",
    "    arr[i] = num;\n",
    "}"
   ]
  },
  {
   "cell_type": "code",
   "execution_count": 5,
   "metadata": {},
   "outputs": [
    {
     "name": "stdout",
     "output_type": "stream",
     "text": [
      "1\n",
      "2\n",
      "3\n",
      "4\n",
      "5\n",
      "6\n",
      "7\n",
      "8\n",
      "9\n",
      "10\n"
     ]
    }
   ],
   "source": [
    "for(int i=0;i<arr.length;i++) {\n",
    "    System.out.println(arr[i]);\n",
    "}"
   ]
  },
  {
   "cell_type": "code",
   "execution_count": 6,
   "metadata": {},
   "outputs": [
    {
     "name": "stdout",
     "output_type": "stream",
     "text": [
      "55\n"
     ]
    }
   ],
   "source": [
    "// 순회하며 합구하기\n",
    "\n",
    "int total=0;\n",
    "\n",
    "for(int i=0;i<arr.length;i++) {\n",
    "    total += arr[i];\n",
    "}\n",
    "\n",
    "System.out.println(total);"
   ]
  },
  {
   "cell_type": "code",
   "execution_count": 7,
   "metadata": {},
   "outputs": [
    {
     "name": "stdout",
     "output_type": "stream",
     "text": [
      "7.161000000000001\n"
     ]
    }
   ],
   "source": [
    "//순회하며 곱하기(실수)\n",
    "\n",
    "// double array\n",
    "double[] dArr = new double[5];\n",
    "int count = 0;\n",
    "\n",
    "// 유효한값의 범위 초기화를 하지 않으면 나머지에는 0이 들어간다\n",
    "dArr[0] = 1.1; count++;\n",
    "dArr[1] = 2.1; count++;\n",
    "dArr[2] = 3.1; count++;\n",
    "\n",
    "// count올라간 순서만큼만 순회\n",
    "double mtotal = 1;\n",
    "for(int i = 0;i<count;i++) {\n",
    "    mtotal *= dArr[i];\n",
    "}\n",
    "\n",
    "System.out.println(mtotal);"
   ]
  },
  {
   "cell_type": "markdown",
   "metadata": {},
   "source": [
    "## 객체배열\n",
    "- 위에서 선언했던 자료형은 **기본자료형 배열** : 배열 안에 값이 담김\n",
    "- 객체를 배열로 만드는 것은 **참조자료형 배열** : 생성한 객체의 주소가 담김"
   ]
  },
  {
   "cell_type": "code",
   "execution_count": 8,
   "metadata": {},
   "outputs": [],
   "source": [
    "public class Book {\n",
    "\n",
    "    // 예네들 은닉화, get/set 제공\n",
    "    private String title;\n",
    "    private String author;\n",
    "    \n",
    "    public Book(){}\n",
    "    \n",
    "    public Book(String title, String author) {\n",
    "        this.title = title;\n",
    "        this.author = author;\n",
    "    }\n",
    "    \n",
    "    public String getTitle() {\n",
    "        return title;\n",
    "    }\n",
    "    \n",
    "    public void setTitle(String title) {\n",
    "        this.title = title;\n",
    "    }\n",
    "    \n",
    "    public String getAuthor() {\n",
    "        return author;\n",
    "    }\n",
    "    \n",
    "    public void setAuthor(String author) {\n",
    "        this.author = author;\n",
    "    }\n",
    "    \n",
    "    public void showBookInfo() {\n",
    "        System.out.println(title + author);\n",
    "    }\n",
    "    \n",
    "}"
   ]
  },
  {
   "cell_type": "code",
   "execution_count": 9,
   "metadata": {},
   "outputs": [],
   "source": [
    "// 객체배열\n",
    "\n",
    "// 책이 5권 들어갈 크기의 배열이 생긴 것 - 책이 생긴게 아님\n",
    "Book[] library = new Book[5];"
   ]
  },
  {
   "cell_type": "code",
   "execution_count": 10,
   "metadata": {},
   "outputs": [
    {
     "name": "stdout",
     "output_type": "stream",
     "text": [
      "null\n",
      "null\n",
      "null\n",
      "null\n",
      "null\n"
     ]
    }
   ],
   "source": [
    "for(int i=0;i<library.length;i++){\n",
    "    System.out.println(library[i]);\n",
    "}"
   ]
  },
  {
   "cell_type": "code",
   "execution_count": 11,
   "metadata": {},
   "outputs": [
    {
     "data": {
      "text/plain": [
       "REPL.$JShell$32$Book@1b64b2a0"
      ]
     },
     "execution_count": 11,
     "metadata": {},
     "output_type": "execute_result"
    }
   ],
   "source": [
    "// 책 일일히 넣어줌\n",
    "\n",
    "library[0] = new Book(\"태백산맥1\", \"조정래\");\n",
    "library[1] = new Book(\"태백산맥2\", \"조정래\");\n",
    "library[2] = new Book(\"태백산맥3\", \"조정래\");\n",
    "library[3] = new Book(\"태백산맥4\", \"조정래\");\n",
    "library[4] = new Book(\"태백산맥5\", \"조정래\");"
   ]
  },
  {
   "cell_type": "code",
   "execution_count": 12,
   "metadata": {
    "scrolled": true
   },
   "outputs": [
    {
     "name": "stdout",
     "output_type": "stream",
     "text": [
      "REPL.$JShell$32$Book@7c1ab60e\n",
      "태백산맥1조정래\n",
      "REPL.$JShell$32$Book@68b86eae\n",
      "태백산맥2조정래\n",
      "REPL.$JShell$32$Book@36a35b59\n",
      "태백산맥3조정래\n",
      "REPL.$JShell$32$Book@3dcc6e53\n",
      "태백산맥4조정래\n",
      "REPL.$JShell$32$Book@1b64b2a0\n",
      "태백산맥5조정래\n"
     ]
    }
   ],
   "source": [
    "for(int i=0;i<library.length;i++){\n",
    "    System.out.println(library[i]);\n",
    "    // 인스턴스 안의 멤버변수는 메소드로 접근(private이라서)\n",
    "    library[i].showBookInfo();\n",
    "}"
   ]
  },
  {
   "cell_type": "markdown",
   "metadata": {},
   "source": [
    "### System.arraycopy(출발배열,포지션,도착배열,포지션,개수) : 얕은복사"
   ]
  },
  {
   "cell_type": "code",
   "execution_count": 13,
   "metadata": {},
   "outputs": [],
   "source": [
    "// 배열 복사\n",
    "int[] arr1 = {10,20,30,40,50};\n",
    "int[] arr2 = {1,2,3,4,5};\n",
    "\n",
    "System.arraycopy(arr1,0,arr2,1,3);"
   ]
  },
  {
   "cell_type": "code",
   "execution_count": 14,
   "metadata": {},
   "outputs": [
    {
     "name": "stdout",
     "output_type": "stream",
     "text": [
      "1\n",
      "10\n",
      "20\n",
      "30\n",
      "5\n"
     ]
    }
   ],
   "source": [
    "for(int i = 0; i<arr2.length;i++) {\n",
    "    System.out.println(arr2[i]);\n",
    "}"
   ]
  },
  {
   "cell_type": "markdown",
   "metadata": {},
   "source": [
    "### 향상된 포문"
   ]
  },
  {
   "cell_type": "code",
   "execution_count": 16,
   "metadata": {},
   "outputs": [
    {
     "name": "stdout",
     "output_type": "stream",
     "text": [
      "태백산맥1조정래\n",
      "태백산맥2조정래\n",
      "태백산맥3조정래\n",
      "태백산맥4조정래\n",
      "태백산맥5조정래\n"
     ]
    }
   ],
   "source": [
    "// for (변수:배열){}\n",
    "\n",
    "for(Book book:library){\n",
    "    book.showBookInfo();\n",
    "}"
   ]
  },
  {
   "cell_type": "code",
   "execution_count": 20,
   "metadata": {},
   "outputs": [],
   "source": [
    "// 참조 자료형은 arraycopy로 얕은복사한것 원본 복사본 같이 반영\n",
    "\n",
    "library[0].setTitle(\"나목\");\n",
    "library[0].setAuthor(\"박완서\");"
   ]
  },
  {
   "cell_type": "code",
   "execution_count": 19,
   "metadata": {
    "scrolled": true
   },
   "outputs": [
    {
     "name": "stdout",
     "output_type": "stream",
     "text": [
      "나목박완서\n",
      "태백산맥2조정래\n",
      "태백산맥3조정래\n",
      "태백산맥4조정래\n",
      "태백산맥5조정래\n"
     ]
    }
   ],
   "source": [
    "for(Book book:library){\n",
    "    book.showBookInfo();\n",
    "}"
   ]
  }
 ],
 "metadata": {
  "kernelspec": {
   "display_name": "Java",
   "language": "java",
   "name": "java"
  },
  "language_info": {
   "codemirror_mode": "java",
   "file_extension": ".jshell",
   "mimetype": "text/x-java-source",
   "name": "Java",
   "pygments_lexer": "java",
   "version": "13.0.2+8"
  }
 },
 "nbformat": 4,
 "nbformat_minor": 4
}
