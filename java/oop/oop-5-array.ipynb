{
 "cells": [
  {
   "cell_type": "markdown",
   "metadata": {},
   "source": [
    "# 자바배열\n",
    "2020.04.17  "
   ]
  },
  {
   "cell_type": "markdown",
   "metadata": {},
   "source": [
    "## 배열\n",
    "- 동일한 자료형의 순차적 자료 구조\n",
    "- 배열 요소의 자료형만큼의 공간이 크기만큼 생긴다\n",
    "- `arrayList` : JDK가 주는 배열과 배열 메소드 모듈\n",
    "- 순회문 안의 변수는 블록레벨스코프"
   ]
  },
  {
   "cell_type": "code",
   "execution_count": 1,
   "metadata": {},
   "outputs": [
    {
     "name": "stdout",
     "output_type": "stream",
     "text": [
      "[I@61e2b91b\n"
     ]
    }
   ],
   "source": [
    "// 배열 요소의 자료형 변수명 = new 배열크기;\n",
    "// 선언\n",
    "int[] arr = new int[10];\n",
    "\n",
    "System.out.println(arr);"
   ]
  },
  {
   "cell_type": "code",
   "execution_count": 2,
   "metadata": {},
   "outputs": [],
   "source": [
    "// 선언과 동시에 초기화 - new 키워드 생략\n",
    "int[] arr2 = {1,2,3,4,5};"
   ]
  },
  {
   "cell_type": "code",
   "execution_count": 3,
   "metadata": {},
   "outputs": [
    {
     "name": "stdout",
     "output_type": "stream",
     "text": [
      "1\n",
      "2\n",
      "3\n",
      "4\n",
      "5\n"
     ]
    }
   ],
   "source": [
    "// 배열순회\n",
    "\n",
    "for(int i=0;i<arr2.length;i++) {\n",
    "    System.out.println(arr2[i]);\n",
    "}"
   ]
  },
  {
   "cell_type": "code",
   "execution_count": 4,
   "metadata": {},
   "outputs": [],
   "source": [
    "// 순회하며 배열에 값 넣기\n",
    "\n",
    "int[] arr = new int[10];\n",
    "for(int i = 0,num=1;i<arr.length;i++,num++) {\n",
    "    arr[i] = num;\n",
    "}"
   ]
  },
  {
   "cell_type": "code",
   "execution_count": 5,
   "metadata": {},
   "outputs": [
    {
     "name": "stdout",
     "output_type": "stream",
     "text": [
      "1\n",
      "2\n",
      "3\n",
      "4\n",
      "5\n",
      "6\n",
      "7\n",
      "8\n",
      "9\n",
      "10\n"
     ]
    }
   ],
   "source": [
    "for(int i=0;i<arr.length;i++) {\n",
    "    System.out.println(arr[i]);\n",
    "}"
   ]
  },
  {
   "cell_type": "code",
   "execution_count": 6,
   "metadata": {},
   "outputs": [
    {
     "name": "stdout",
     "output_type": "stream",
     "text": [
      "55\n"
     ]
    }
   ],
   "source": [
    "// 순회하며 합구하기\n",
    "\n",
    "int total=0;\n",
    "\n",
    "for(int i=0;i<arr.length;i++) {\n",
    "    total += arr[i];\n",
    "}\n",
    "\n",
    "System.out.println(total);"
   ]
  },
  {
   "cell_type": "code",
   "execution_count": 7,
   "metadata": {},
   "outputs": [
    {
     "name": "stdout",
     "output_type": "stream",
     "text": [
      "7.161000000000001\n"
     ]
    }
   ],
   "source": [
    "//순회하며 곱하기(실수)\n",
    "\n",
    "// double array\n",
    "double[] dArr = new double[5];\n",
    "int count = 0;\n",
    "\n",
    "// 유효한값의 범위 초기화를 하지 않으면 나머지에는 0이 들어간다\n",
    "dArr[0] = 1.1; count++;\n",
    "dArr[1] = 2.1; count++;\n",
    "dArr[2] = 3.1; count++;\n",
    "\n",
    "// count올라간 순서만큼만 순회\n",
    "double mtotal = 1;\n",
    "for(int i = 0;i<count;i++) {\n",
    "    mtotal *= dArr[i];\n",
    "}\n",
    "\n",
    "System.out.println(mtotal);"
   ]
  },
  {
   "cell_type": "markdown",
   "metadata": {},
   "source": [
    "## 객체배열\n",
    "- 위에서 선언했던 자료형은 **기본자료형 배열** : 배열 안에 값이 담김\n",
    "- 객체를 배열로 만드는 것은 **참조자료형 배열** : 생성한 객체의 주소가 담김"
   ]
  },
  {
   "cell_type": "code",
   "execution_count": 8,
   "metadata": {},
   "outputs": [],
   "source": [
    "// 배열의 단위가 될 클래스를 정의한다\n",
    "\n",
    "public class Book {\n",
    "\n",
    "    // 예네들 은닉화, get/set 제공\n",
    "    private String title;\n",
    "    private String author;\n",
    "    \n",
    "    public Book(){}\n",
    "    \n",
    "    public Book(String title, String author) {\n",
    "        this.title = title;\n",
    "        this.author = author;\n",
    "    }\n",
    "    \n",
    "    public String getTitle() {\n",
    "        return title;\n",
    "    }\n",
    "    \n",
    "    public void setTitle(String title) {\n",
    "        this.title = title;\n",
    "    }\n",
    "    \n",
    "    public String getAuthor() {\n",
    "        return author;\n",
    "    }\n",
    "    \n",
    "    public void setAuthor(String author) {\n",
    "        this.author = author;\n",
    "    }\n",
    "    \n",
    "    public void showBookInfo() {\n",
    "        System.out.println(title + author);\n",
    "    }\n",
    "    \n",
    "}"
   ]
  },
  {
   "cell_type": "code",
   "execution_count": 9,
   "metadata": {},
   "outputs": [],
   "source": [
    "// 객체배열\n",
    "\n",
    "// 책이 5권 들어갈 크기의 배열이 생긴 것 - 책이 생긴게 아님\n",
    "// 각 인스턴스가 곧 배열의 한칸한칸이므로 배열의 각 요소들은 메모리상 다른 주소를 가지게 됨\n",
    "Book[] library = new Book[5];"
   ]
  },
  {
   "cell_type": "code",
   "execution_count": 10,
   "metadata": {},
   "outputs": [
    {
     "name": "stdout",
     "output_type": "stream",
     "text": [
      "null\n",
      "null\n",
      "null\n",
      "null\n",
      "null\n"
     ]
    }
   ],
   "source": [
    "for(int i=0;i<library.length;i++){\n",
    "    System.out.println(library[i]);\n",
    "}"
   ]
  },
  {
   "cell_type": "code",
   "execution_count": 11,
   "metadata": {},
   "outputs": [
    {
     "data": {
      "text/plain": [
       "REPL.$JShell$32$Book@5773a513"
      ]
     },
     "execution_count": 11,
     "metadata": {},
     "output_type": "execute_result"
    }
   ],
   "source": [
    "// 책 일일히 넣어줌\n",
    "\n",
    "library[0] = new Book(\"태백산맥1\", \"조정래\");\n",
    "library[1] = new Book(\"태백산맥2\", \"조정래\");\n",
    "library[2] = new Book(\"태백산맥3\", \"조정래\");\n",
    "library[3] = new Book(\"태백산맥4\", \"조정래\");\n",
    "library[4] = new Book(\"태백산맥5\", \"조정래\");"
   ]
  },
  {
   "cell_type": "code",
   "execution_count": 12,
   "metadata": {
    "scrolled": true
   },
   "outputs": [
    {
     "name": "stdout",
     "output_type": "stream",
     "text": [
      "REPL.$JShell$32$Book@4696d409\n",
      "태백산맥1조정래\n",
      "REPL.$JShell$32$Book@66f57b8\n",
      "태백산맥2조정래\n",
      "REPL.$JShell$32$Book@44bef02e\n",
      "태백산맥3조정래\n",
      "REPL.$JShell$32$Book@3032d75d\n",
      "태백산맥4조정래\n",
      "REPL.$JShell$32$Book@5773a513\n",
      "태백산맥5조정래\n"
     ]
    }
   ],
   "source": [
    "for(int i=0;i<library.length;i++){\n",
    "    System.out.println(library[i]);\n",
    "    // 인스턴스 안의 멤버변수는 메소드로 접근(private이라서)\n",
    "    library[i].showBookInfo();\n",
    "}"
   ]
  },
  {
   "cell_type": "markdown",
   "metadata": {},
   "source": [
    "### System.arraycopy(출발배열,포지션,도착배열,포지션,개수) : 얕은복사"
   ]
  },
  {
   "cell_type": "code",
   "execution_count": 13,
   "metadata": {},
   "outputs": [],
   "source": [
    "// 배열 복사\n",
    "int[] arr1 = {10,20,30,40,50};\n",
    "int[] arr2 = {1,2,3,4,5};\n",
    "\n",
    "// (원본배열, 복사 시작점, 복사될 배열, 피복사 시작점, 복사할 길이)\n",
    "System.arraycopy(arr1,0,arr2,1,3);"
   ]
  },
  {
   "cell_type": "code",
   "execution_count": 14,
   "metadata": {},
   "outputs": [
    {
     "name": "stdout",
     "output_type": "stream",
     "text": [
      "1\n",
      "10\n",
      "20\n",
      "30\n",
      "5\n"
     ]
    }
   ],
   "source": [
    "for(int i = 0; i<arr2.length;i++) {\n",
    "    System.out.println(arr2[i]);\n",
    "}"
   ]
  },
  {
   "cell_type": "markdown",
   "metadata": {},
   "source": [
    "### 향상된 포문"
   ]
  },
  {
   "cell_type": "code",
   "execution_count": 15,
   "metadata": {},
   "outputs": [
    {
     "name": "stdout",
     "output_type": "stream",
     "text": [
      "태백산맥1조정래\n",
      "태백산맥2조정래\n",
      "태백산맥3조정래\n",
      "태백산맥4조정래\n",
      "태백산맥5조정래\n"
     ]
    }
   ],
   "source": [
    "// for (변수:배열){}\n",
    "// for(뱉는거의 타입 변수명:이터레이터){}\n",
    "\n",
    "for(Book book:library){\n",
    "    book.showBookInfo();\n",
    "}"
   ]
  },
  {
   "cell_type": "code",
   "execution_count": 16,
   "metadata": {},
   "outputs": [],
   "source": [
    "// 참조 자료형은 arraycopy로 얕은복사한것 원본 복사본 같이 반영\n",
    "\n",
    "library[0].setTitle(\"나목\");\n",
    "library[0].setAuthor(\"박완서\");"
   ]
  },
  {
   "cell_type": "code",
   "execution_count": 17,
   "metadata": {
    "scrolled": true
   },
   "outputs": [
    {
     "name": "stdout",
     "output_type": "stream",
     "text": [
      "나목박완서\n",
      "태백산맥2조정래\n",
      "태백산맥3조정래\n",
      "태백산맥4조정래\n",
      "태백산맥5조정래\n"
     ]
    }
   ],
   "source": [
    "for(Book book:library){\n",
    "    book.showBookInfo();\n",
    "}"
   ]
  },
  {
   "cell_type": "markdown",
   "metadata": {},
   "source": [
    "## 다차원배열\n"
   ]
  },
  {
   "cell_type": "code",
   "execution_count": 18,
   "metadata": {},
   "outputs": [],
   "source": [
    "// 선언\n",
    "\n",
    "int[][]arr = new int[2][3];"
   ]
  },
  {
   "cell_type": "code",
   "execution_count": 19,
   "metadata": {},
   "outputs": [],
   "source": [
    "// 선언 + 초기화\n",
    "\n",
    "int[][]arr2 = {{1,2,3},{3,4,5}};"
   ]
  },
  {
   "cell_type": "code",
   "execution_count": 20,
   "metadata": {},
   "outputs": [],
   "source": [
    "// 이차원배열 순회\n",
    "\n",
    "int[][] arr3 = {{1,2,3},{4,5,6}};\n",
    "\n",
    "\n",
    "for(int i=0;i>arr3.length;i++){\n",
    "    for(int j=0;j<arr3[i].length;j++){\n",
    "        System.out.print(arr[i][j] + \" \");\n",
    "    }\n",
    "    System.out.println();\n",
    "}"
   ]
  },
  {
   "cell_type": "markdown",
   "metadata": {},
   "source": [
    "## ArrayList class\n",
    "- 자바 배열에서 필수적인 클래스\n",
    "- 자바에서 제공되는 객체 배열이 구현된 클래스\n",
    "- 객체 배열을 사용하는데 필요한 여러 메서드들을 구현할 수 있음\n",
    "- [api 참고](https://docs.oracle.com/javase/8/docs/api/java/util/ArrayList.html)"
   ]
  },
  {
   "cell_type": "code",
   "execution_count": 21,
   "metadata": {},
   "outputs": [],
   "source": [
    "import java.util.ArrayList;\n",
    "\n",
    "// 배열에 들어갈 요소의 자료형 제네릭으로 정의(권장됨)\n",
    "// 어떤 클래스를 배열의 요소로 쓸 것이냐\n",
    "ArrayList<String> list = new ArrayList<String>();"
   ]
  },
  {
   "cell_type": "markdown",
   "metadata": {},
   "source": [
    "### 주요 메소드\n",
    "1. add == append\n",
    "2. get == 인덱싱"
   ]
  },
  {
   "cell_type": "code",
   "execution_count": 22,
   "metadata": {},
   "outputs": [
    {
     "name": "stdout",
     "output_type": "stream",
     "text": [
      "aaa\n"
     ]
    }
   ],
   "source": [
    "list.add(\"aaa\");\n",
    "\n",
    "for(int i =0;i<list.size();i++) {\n",
    "    String str = list.get(i);\n",
    "    System.out.println(str);\n",
    "}"
   ]
  },
  {
   "cell_type": "code",
   "execution_count": 23,
   "metadata": {
    "scrolled": true
   },
   "outputs": [
    {
     "name": "stdout",
     "output_type": "stream",
     "text": [
      "aaa\n"
     ]
    }
   ],
   "source": [
    "// 향상된 포문\n",
    "// 이터레이터를 순회할 때 순회할 요소의 타입을 명시해준다\n",
    "\n",
    "for(String s:list){\n",
    "    System.out.println(s);\n",
    "}"
   ]
  },
  {
   "cell_type": "code",
   "execution_count": 24,
   "metadata": {},
   "outputs": [],
   "source": [
    "public class Subject {\n",
    "    private String name;\n",
    "    private int score;\n",
    "    \n",
    "    public Subject(String name, int score){\n",
    "        this.name = name;\n",
    "        this.score = score;\n",
    "    }\n",
    "    \n",
    "    public String getName(){\n",
    "        return name;\n",
    "    }\n",
    "    \n",
    "    public void setName(String name){\n",
    "        this.name = name;\n",
    "    }\n",
    "    \n",
    "    public int getScore() {\n",
    "        return score;\n",
    "    }\n",
    "    \n",
    "    public void setScore(int score) {\n",
    "        this.score = score;\n",
    "    }\n",
    "}"
   ]
  },
  {
   "cell_type": "code",
   "execution_count": 25,
   "metadata": {},
   "outputs": [],
   "source": [
    "import java.util.ArrayList;\n",
    "\n",
    "public class Student{\n",
    "    int studentID;\n",
    "    String studentName;\n",
    "    ArrayList<Subject> subjectList;\n",
    "    \n",
    "    public Student(int studentID, String studentName) {\n",
    "        this.studentID = studentID;\n",
    "        this.studentName = studentName;\n",
    "        \n",
    "        // 제네릭으로 초기화와 동시에 배열안에 들어갈 요소 타입형 지정\n",
    "        subjectList = new ArrayList<Subject>();\n",
    "    }\n",
    "    \n",
    "    public void addSubject(String name, int score){\n",
    "        Subject subject = new Subject(name, score);\n",
    "        subjectList.add(subject);\n",
    "    }\n",
    "    \n",
    "    public void showStudentInfo() {\n",
    "        int total = 0;\n",
    "        // 순회하면서 과목들과 점수를 출력 + 총점을 더함\n",
    "        for(Subject subject:subjectList) {\n",
    "            total += subject.getScore();\n",
    "            System.out.println(studentName + \"학생의 \" + subject.getName() + \" 과목의 성적은 \" + subject.getScore() + \"점 입니다.\");\n",
    "        }\n",
    "        System.out.println(studentName + \"학생의 총점은 \" + total + \"점 입니다.\");\n",
    "    };\n",
    "}"
   ]
  },
  {
   "cell_type": "code",
   "execution_count": 26,
   "metadata": {},
   "outputs": [],
   "source": [
    "Student studentLee = new Student(1001,\"Lee\");\n",
    "Student studentKim = new Student(1002,\"kim\");"
   ]
  },
  {
   "cell_type": "code",
   "execution_count": 27,
   "metadata": {},
   "outputs": [],
   "source": [
    "studentLee.addSubject(\"국어\", 100);\n",
    "studentLee.addSubject(\"수학\", 90);"
   ]
  },
  {
   "cell_type": "code",
   "execution_count": 28,
   "metadata": {},
   "outputs": [],
   "source": [
    "studentKim.addSubject(\"국어\", 60);\n",
    "studentKim.addSubject(\"수학\", 70);\n",
    "studentKim.addSubject(\"영어\", 90);"
   ]
  },
  {
   "cell_type": "code",
   "execution_count": 29,
   "metadata": {},
   "outputs": [
    {
     "name": "stdout",
     "output_type": "stream",
     "text": [
      "kim학생의 국어 과목의 성적은 60점 입니다.\n",
      "kim학생의 수학 과목의 성적은 70점 입니다.\n",
      "kim학생의 영어 과목의 성적은 90점 입니다.\n",
      "kim학생의 총점은 220점 입니다.\n"
     ]
    }
   ],
   "source": [
    "studentKim.showStudentInfo();"
   ]
  },
  {
   "cell_type": "code",
   "execution_count": 30,
   "metadata": {},
   "outputs": [
    {
     "name": "stdout",
     "output_type": "stream",
     "text": [
      "Lee학생의 국어 과목의 성적은 100점 입니다.\n",
      "Lee학생의 수학 과목의 성적은 90점 입니다.\n",
      "Lee학생의 총점은 190점 입니다.\n"
     ]
    }
   ],
   "source": [
    "studentLee.showStudentInfo();"
   ]
  }
 ],
 "metadata": {
  "kernelspec": {
   "display_name": "Java",
   "language": "java",
   "name": "java"
  },
  "language_info": {
   "codemirror_mode": "java",
   "file_extension": ".jshell",
   "mimetype": "text/x-java-source",
   "name": "Java",
   "pygments_lexer": "java",
   "version": "13.0.2+8"
  }
 },
 "nbformat": 4,
 "nbformat_minor": 4
}
