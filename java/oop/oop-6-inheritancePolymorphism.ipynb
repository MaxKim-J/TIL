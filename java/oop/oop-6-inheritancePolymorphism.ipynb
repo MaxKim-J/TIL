{
 "cells": [
  {
   "cell_type": "markdown",
   "metadata": {},
   "source": [
    "# 상속+다형성\n",
    "객체지향 프로그래밍의 핵심적인 특징"
   ]
  },
  {
   "cell_type": "markdown",
   "metadata": {},
   "source": [
    "## 상속\n",
    "1. 새로운 클래스를 정의할때 이미 구현된 클래스를 상속받아 속성이나 기능이 확장되는 클래스를 구현\n",
    "2. 상속하는 클래스 : 상위 클래스, parent/base/super class\n",
    "3. 상속받는 클래스 : 하위 클래스, child/derived/sub class\n",
    "4. **코드 재사용 개념으로 접근하면 안되고** 부모 클래스를 확장하는 것\n",
    "5. 어떤 부모와 **이질적인 클래스**는 상속으로 만들면 안됨\n",
    "6. `extends`키워드 뒤에는 클래스 하나만 올 수 있음(다중상속 불가)"
   ]
  },
  {
   "cell_type": "code",
   "execution_count": 8,
   "metadata": {},
   "outputs": [],
   "source": [
    "// 고객 클래스\n",
    "\n",
    "public class Customer{\n",
    "    // 클래스 외에선 접근할 수 없지만, 상속하는 subclass의 경우에는 접근할 수 있다\n",
    "    protected int customerID;\n",
    "    protected String customerName;\n",
    "    protected String customerGrade;\n",
    "    int bonusPoint;\n",
    "    double bonusRatio;\n",
    "    \n",
    "    public Customer() {\n",
    "        customerGrade = \"SILVER\";\n",
    "        bonusRatio = 0.01;\n",
    "    }\n",
    "    \n",
    "    public int calcPrice(int price) {\n",
    "        bonusPoint += price * bonusRatio;\n",
    "        return price; \n",
    "    }\n",
    "    \n",
    "    public String showCustomerInfo() {\n",
    "        return customerName + \"님의 등급은 \" + customerGrade + \"이며, 적립된 보너스 포인트는 \" + bonusPoint + \"입니다.\";\n",
    "    }\n",
    "    \n",
    "    public int getCustomerId() {\n",
    "        return customerID;\n",
    "    }\n",
    "    \n",
    "    public String getCustomerName() {\n",
    "        return customerName;\n",
    "    }\n",
    "    \n",
    "    public void setCustomerID(int custormerID) {\n",
    "        this.customerID = customerID;\n",
    "    }\n",
    "    \n",
    "    public void setCustomerName(String customerName){\n",
    "        this.customerName = customerName;\n",
    "    }\n",
    "    \n",
    "    public String getCustomerGrade(){\n",
    "        return customerGrade;\n",
    "    }\n",
    "    \n",
    "    public void setCustomerGrade(String customerGrade) {\n",
    "        this.customerGrade = customerGrade;\n",
    "    }\n",
    "    \n",
    "}"
   ]
  },
  {
   "cell_type": "code",
   "execution_count": 10,
   "metadata": {},
   "outputs": [],
   "source": [
    "// vip고객 클래스를 추가하려고 하는데, 굳이 메소드들을 다 구현하기가 좀 그렇다 이럴때 상속 사용\n",
    "// private은 자식 클래스에서도 접근할 수 없음 = protected : 외부 클래스에선 사용할 수 없지만 하위 클래스에서는 사용할 수 있다\n",
    "\n",
    "public class VIPCustomer extends Customer {\n",
    "    double salesRatio;\n",
    "    private int agentID;\n",
    "    \n",
    "    public VIPCustomer() {\n",
    "        customerGrade= \"VIP\";\n",
    "        bonusRatio = 0.05;\n",
    "        salesRatio = 0.1;\n",
    "    }\n",
    "}"
   ]
  },
  {
   "cell_type": "code",
   "execution_count": 12,
   "metadata": {},
   "outputs": [
    {
     "name": "stdout",
     "output_type": "stream",
     "text": [
      "이순신님의 등급은 SILVER이며, 적립된 보너스 포인트는 1000입니다.\n"
     ]
    }
   ],
   "source": [
    "Customer customerLee = new Customer();\n",
    "customerLee.setCustomerName(\"이순신\");\n",
    "customerLee.setCustomerID(10010);\n",
    "customerLee.bonusPoint = 1000;\n",
    "System.out.println(customerLee.showCustomerInfo());"
   ]
  },
  {
   "cell_type": "code",
   "execution_count": 13,
   "metadata": {},
   "outputs": [
    {
     "name": "stdout",
     "output_type": "stream",
     "text": [
      "김유신님의 등급은 VIP이며, 적립된 보너스 포인트는 10000입니다.\n"
     ]
    }
   ],
   "source": [
    "VIPCustomer customerKim = new VIPCustomer();\n",
    "customerKim.setCustomerName(\"김유신\");\n",
    "customerKim.setCustomerID(10210);\n",
    "customerKim.bonusPoint = 10000;\n",
    "System.out.println(customerKim.showCustomerInfo());"
   ]
  },
  {
   "cell_type": "markdown",
   "metadata": {},
   "source": [
    "## 상속에서 클래스 생성 과정과 형변환\n",
    "\n",
    "1. 하위 클래스가 생성될때 상위 클래스가 먼저 생성\n",
    "2. 상위 클래스의 생성자가 호출되고 하위 클래스의 생성자가 호출 됨\n",
    "3. **하위 클래스의 생성자에서는 무조건 상위 클래스의 생성자가 호출되어야 함**\n",
    "4. 하위 클래스에서 상위 클래스의 생성자를 호출하는 코드가 없는 경우 컴파일러는 상위 클래스 기본 생성자를 호출하기 위한 `super()`을 추가\n",
    "5. `super()`로 호출되는 생성자는 상위클래스의 기본 생성자\n",
    "6. 만약 상위 클래스의 기본 생성자가 없는 경우 하위 클래스는 명시적으로 상위 클래스의 생성자를 호출해야 함\n",
    "\n",
    "### 예시의 경우\n",
    "1. VIPCustomer 인스턴스 만들면 customer 생성자가 먼저 호출되고 그 다음에 VIPCustomer 생성자 호출 - 프리컴파일 단계에서 추가되는 `super()`\n",
    "2. `super()`은 자식 클래스에서 부모 생성자를 부르는 역할을 함\n",
    "3. 메서드 오버로드 등으로 생성자가 부모와 자식이 다를 경우, **자식 클래스에서 생성자를 정의해줘야 함**\n",
    "4. 부모 클래스에 기본 생성자가 없을 경우 기본생성자가 제공되고 `super()`은 부모의 기본 생성자를 호출함\n",
    "5. 그런데 내가 명시적으로 부모 클래스의 생성자를 제공했다면 기본 생성자가 만들어지지 않음. 이때는 `super()`에 부모 클래스 생성자가 필요로 하는 인자를 넣는 것으로 명시적 호출 필요(생성자를 특정지어줄 필요가 생긴다)\n",
    "\n",
    "### 순서\n",
    "- 상위 클래스의 인스턴스가 먼저 생성 하위 클래스의 인스턴스 생성\n",
    "\n",
    "### 묵시적 형 변환(업캐스팅)\n",
    "- 상위 클래스 형으로 변수를 선언하고 하위 클래스 인스턴스 생성 가능\n",
    "- 하위 클래스는 상위 클래스의 타입을 내포, 상위 클래스로 북시적 형변환 가능\n",
    "- 상속관계에서 모든 하위 클래스는 상위클래스로 묵시적 형변환이 됨(포함관계까 성립)\n",
    "- 역은 성립안함"
   ]
  },
  {
   "cell_type": "code",
   "execution_count": 22,
   "metadata": {},
   "outputs": [],
   "source": [
    "// 이게 가능\n",
    "// vip는 vip이자 customer임\n",
    "// 상하위 전체가 모두 힙 메모리에 생성되지만\n",
    "// 이런 경우에는 타입은 customer이므로 customer로 메소드나 변수에만 접근가능할 것 같지만 + VIPCustomer에도 접근 가능(가상 메서드 호출)\n",
    "\n",
    "Customer customerMax = new VIPCustomer();"
   ]
  },
  {
   "cell_type": "markdown",
   "metadata": {},
   "source": [
    "## 메서드 오버라이딩\n",
    "\n",
    "- 상위클래스에 정의된 메서드의 구현 내용이 하위 클래스에서 구현할 내용과 맞지 않는 경우\n",
    "- 하위 클래스에서 동일한 이름의 메서드 정의 가능\n",
    "- 오버로딩 : 이름은 같고 매개변수가 다르다\n",
    "- 오버라이딩 : 덮어쓴당"
   ]
  },
  {
   "cell_type": "code",
   "execution_count": 21,
   "metadata": {},
   "outputs": [],
   "source": [
    "public class VIPCustomer extends Customer {\n",
    "    double salesRatio;\n",
    "    private int agentID;\n",
    "    \n",
    "    public VIPCustomer() {\n",
    "        customerGrade= \"VIP\";\n",
    "        bonusRatio = 0.05;\n",
    "        salesRatio = 0.1;\n",
    "    }\n",
    "    \n",
    "    // 오버라이딩 어노테이션(생략가능 - 컴파일러에게 정보전달)\n",
    "    @Override\n",
    "    public int calcPrice(int price) {\n",
    "        bonusPoint += price * bonusRatio;\n",
    "        return price - (int)(price * salesRatio);\n",
    "    }\n",
    "}"
   ]
  },
  {
   "cell_type": "markdown",
   "metadata": {},
   "source": [
    "### 가상 메서드\n",
    "- 메서드의 이름과 메서드 주소를 가진 가상 메서드 테이블에서 호출될 메서드의 주소를 참조\n",
    "- 오버라이딩으로 재정의가 되면 오버라이딩된 메소드가 따로 다른 주소를 갖게 됨(메서드 이름은 같지만 따로 맵핑되게 됨)\n",
    "- 타입에 기반에서 호출되는 게 아니라 생성된 인스턴스에 기반해서 호출되게 됨\n",
    "- 그럼 애초에 왜 customer로 생성해..? 필요할때가 있는건가"
   ]
  },
  {
   "cell_type": "markdown",
   "metadata": {},
   "source": [
    "## 다형성(polymorphism)\n",
    "- 하나의 코드가 여러 자료형으로 구현되어 실행되는 것\n",
    "- 같은 코드에서 여러 실행 결과가 나옴\n",
    "\n",
    "### 장점\n",
    "- 다양한 여러 클래스를 하나의 자료형으로 선언하거나 형변환하여 각 클래스가 동일한 메소드를 오버라이딩하면\n",
    "- 하나의 코드가 다양한 구현을 실행할 수 있음\n",
    "- 유사한 클래스가 추가되는 경우 유지보수에 용이하고\n",
    "- 각 자료형마다 다른 메소드를 호출하지 않으므로 코드에서 많은 if문이 사라질 수 잇음(다른 자료형을 넣으면 되니깐)\n",
    "- 폴리모피즘이 적용되지 않으면 커스토머 클래스의 경우 grade값을 조건문으로 계속 확인해야만 함\n",
    "- 하지만 오버라이딩으로 각각 상속된 클래스에 메소드를 만들어주면 조건문 필요 없이 같은 메소드를 호출하더라도 다른 동작이 가능함\n",
    "\n",
    "### 상속을 사용하는 경우\n",
    "\n",
    "#### IS-A 관계(상속사용)\n",
    "일반-구체의 관계, 상속은 단순히 코드를 재사용하는 목적으로 사용하지 않음\n",
    "\n",
    "#### HAS-A 관계(상속안사용)\n",
    "한 클래스가 다른 클래스를 소유한 관계(컴포지션)에서는 상속을 안씀, 코드 재사용의 방법, 모듈이라고 생각하면 됨"
   ]
  },
  {
   "cell_type": "code",
   "execution_count": 26,
   "metadata": {},
   "outputs": [],
   "source": [
    "class Animal {\n",
    "    public void move() {\n",
    "        System.out.println(\"동물이 움직입니다\");\n",
    "    }\n",
    "}\n",
    "\n",
    "class Human extends Animal\n",
    "    // 오버라이딩\n",
    "    public void move() {\n",
    "        System.out.println(\"사람이 두발로 걷습니다\");\n",
    "    }\n",
    "}\n",
    "\n",
    "class Tiger extends Animal {\n",
    "    public void move() {\n",
    "        System.out.println(\"호랑이가 네 발로 뜁니다\");\n",
    "    }\n",
    "}\n",
    "\n",
    "class Eagle extends Animal {\n",
    "    public void move() {\n",
    "        System.out.println(\"독수리가 하늘을 날아갑니다\");\n",
    "    }\n",
    "}\n",
    "\n",
    "\n",
    "Animal hAnimal = new Human();\n",
    "Animal tAnimal = new Tiger();\n",
    "Animal eAnimal = new Eagle();\n",
    "\n",
    "// Animal을 상속받은 모든 인스턴스가 매개변수로 들어갈 수 있음\n",
    "// 가상메소드 : 이때 오버라이딩 한 메소드들이 불림\n",
    "public void moveAnimal(Animal animal) {\n",
    "    animal.move();\n",
    "}"
   ]
  },
  {
   "cell_type": "code",
   "execution_count": 28,
   "metadata": {},
   "outputs": [
    {
     "name": "stdout",
     "output_type": "stream",
     "text": [
      "사람이 두발로 걷습니다\n"
     ]
    }
   ],
   "source": [
    "// 여러 자료형이 매개변수가 될 수 있고, 결과는 다름\n",
    "// 각각의 자료형에 해당하는 메소드를 만들 필요가 없음\n",
    "// 여러 클래스가 타입 하나로 메서드를 돌릴 수가 있어짐\n",
    "\n",
    "moveAnimal(hAnimal);"
   ]
  },
  {
   "cell_type": "code",
   "execution_count": 30,
   "metadata": {},
   "outputs": [
    {
     "name": "stdout",
     "output_type": "stream",
     "text": [
      "호랑이가 네 발로 뜁니다\n"
     ]
    }
   ],
   "source": [
    "moveAnimal(tAnimal);"
   ]
  },
  {
   "cell_type": "code",
   "execution_count": 31,
   "metadata": {
    "scrolled": true
   },
   "outputs": [
    {
     "name": "stdout",
     "output_type": "stream",
     "text": [
      "독수리가 하늘을 날아갑니다\n"
     ]
    }
   ],
   "source": [
    "moveAnimal(eAnimal);"
   ]
  },
  {
   "cell_type": "code",
   "execution_count": 34,
   "metadata": {},
   "outputs": [
    {
     "name": "stdout",
     "output_type": "stream",
     "text": [
      "사람이 두발로 걷습니다\n",
      "호랑이가 네 발로 뜁니다\n",
      "독수리가 하늘을 날아갑니다\n"
     ]
    }
   ],
   "source": [
    "import java.util.ArrayList;\n",
    "\n",
    "// 어레이 리스트에서도 같은 타입으로 취급해서 들어가기 가능\n",
    "ArrayList<Animal> animalList = new ArrayList<Animal>();\n",
    "\n",
    "animalList.add(hAnimal);\n",
    "animalList.add(tAnimal);\n",
    "animalList.add(eAnimal);\n",
    "\n",
    "for (Animal animal: animalList) {\n",
    "    animal.move();\n",
    "}"
   ]
  },
  {
   "cell_type": "code",
   "execution_count": null,
   "metadata": {},
   "outputs": [],
   "source": []
  }
 ],
 "metadata": {
  "kernelspec": {
   "display_name": "Java",
   "language": "java",
   "name": "java"
  },
  "language_info": {
   "codemirror_mode": "java",
   "file_extension": ".jshell",
   "mimetype": "text/x-java-source",
   "name": "Java",
   "pygments_lexer": "java",
   "version": "13.0.2+8"
  }
 },
 "nbformat": 4,
 "nbformat_minor": 4
}
