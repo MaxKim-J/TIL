{
 "cells": [
  {
   "cell_type": "markdown",
   "metadata": {},
   "source": [
    "# 7. 추상 클래스\n",
    "\n",
    "## 추상 클래스\n",
    "- 추상 매서드를 포함한 클래스\n",
    "- 추상 메서드 : 구현 코드가 없이 선언부만 있는 매서드\n",
    "- 중괄호 블럭이 없음(메서드 바디가 없음)\n",
    "- abstract 예약어 사용\n",
    "- 추상 클래스는 new(인스턴스화)할 수 없음 : 불려질 수 있는 부분이 없어서 => 구현이 안된 추상 메서드를 불러다가 쓸 수는 없는 노릇이다"
   ]
  },
  {
   "cell_type": "code",
   "execution_count": 1,
   "metadata": {},
   "outputs": [],
   "source": [
    "public abstract class Computer {\n",
    "\n",
    "    // 알아서 구현을 해야할 메서드들\n",
    "\n",
    "    // (여기서는) 구현을 하지 않겠다\n",
    "    public abstract void display();\n",
    "    \n",
    "    // 바디가 있는데 구현부 내용이 없을 뿐 == \n",
    "    // public void typing(){}\n",
    "\n",
    "    // 공통 메서드\n",
    "    public void turnOn(){\n",
    "        System.out.println(\"전원을 켭니다\");\n",
    "    }\n",
    "    public void turnOff(){\n",
    "        System.out.println(\"전원을 끕니다\");\n",
    "    }\n",
    "}"
   ]
  },
  {
   "cell_type": "markdown",
   "metadata": {},
   "source": [
    "## 뭐할때 씀?\n",
    "- 상속받은 하위 클래스에서 오버라이딩됨\n",
    "- 하위 클래스에 따라서 구현이 달라짐\n",
    "- 구현의 책임을 하위클래스에 위임한다\n",
    "- 상속받은 클래스가 비어있는 구현부를 구현한다\n",
    "- 상위 클래스의 추상 메소드를 모두 구현할게 아니면 하위 클래스도 추상 클래스로 남아있어야 한다. 어쨋든 추상메서드가 하나라도 남아있으면 그거 추상클래스\n",
    "- 추상 메서드를 모두 해결해도 키워드를 사용하면 걔는 추상클래스인데, 이러면 생성자를 못쓴다 => 오로지 상속용으로만 사용하는 클래스일경우 그래도 된다"
   ]
  },
  {
   "cell_type": "code",
   "execution_count": 11,
   "metadata": {},
   "outputs": [],
   "source": [
    "// 상속된 클래스에서 따로 구현\n",
    "// 추상 메소드를 모두 해결해야 \n",
    "\n",
    "public class DeskTop extends Computer{\n",
    "    public void display(){\n",
    "        System.out.println(\"Desktop display\");\n",
    "    }\n",
    "    \n",
    "    public void typing(){\n",
    "        System.out.println(\"Desktop typing\");\n",
    "    }\n",
    "}"
   ]
  },
  {
   "cell_type": "code",
   "execution_count": 12,
   "metadata": {},
   "outputs": [],
   "source": [
    "public abstract class Notebook extends Computer {\n",
    "    public void typing(){\n",
    "            System.out.println(\"Notebook typing\");\n",
    "        }\n",
    "}"
   ]
  },
  {
   "cell_type": "code",
   "execution_count": 15,
   "metadata": {},
   "outputs": [],
   "source": [
    "// public의 일부만 구현한 클래스를 또 상속받아 전체를 구현 => 추상 탈출 \n",
    "\n",
    "public class MyNoteBook extends Notebook {\n",
    "    public void display() {\n",
    "        System.out.println(\"MyNotebook display\");\n",
    "    }\n",
    "    \n",
    "    // 상위 클래스의 추상 클래스 구현 메소드를 오버라이딩한 메소드\n",
    "    public void typing(){\n",
    "        System.out.println(\"MyNotebook typing\");\n",
    "    }\n",
    "}"
   ]
  },
  {
   "cell_type": "code",
   "execution_count": 14,
   "metadata": {},
   "outputs": [
    {
     "name": "stdout",
     "output_type": "stream",
     "text": [
      "Desktop display\n"
     ]
    }
   ],
   "source": [
    "Computer computer = new DeskTop();\n",
    "computer.display();"
   ]
  },
  {
   "cell_type": "markdown",
   "metadata": {},
   "source": [
    "## 템플릿 메서드\n",
    "\n",
    "- 템플릿 : 틀이나 견본\n",
    "- 템플릿 메서드 : 추상 메서드나 구현된 메서드를 활용하여 전체의 흐름을 정의해놓은 매서드, final로 선언하여 (그것 자체는) 재정의 할 수 없게함\n",
    "- 탬플릿 메서드 패턴 : 수행할 로직의 순서가 정해져 있고, 구현된 메서드와 추상메서드가 섞여있다(자바로 만든 프레임웤) 이건 어디서 구현하고, 언제 구현하고...\n",
    "- 프레임워크의 흐름은 내가 제어하는게 아니고, 구현해야 하는 것을 구현함 => 이런식으로 하게 됨\n",
    "\n",
    "### final 예약어\n",
    "- 값이 변경될 수 없는 상수, 오직 한번만 값 할당 가능\n",
    "- 고로 하위클래스에서 해당 메서드 재정의 불가능\n",
    "- 클래스 예약어로도 사용되는데, final 클래스는 더이상 상속되지 않음(거기서 끗!이라는 의미)\n",
    "- 상수 선언에도 사용할 수 있음 : `public static final` => 클래스 이름으로 참조 가능하고 수정할 수 없는 변수를 만들 수 있음"
   ]
  },
  {
   "cell_type": "code",
   "execution_count": 18,
   "metadata": {},
   "outputs": [],
   "source": [
    "public abstract class Car{\n",
    "    public abstract void drive();\n",
    "    public abstract void stop();\n",
    "    \n",
    "    public void startCar(){\n",
    "        System.out.println(\"시동을 킵니다\");\n",
    "    }\n",
    "    \n",
    "    public void turnOff() {\n",
    "        System.out.println(\"시동을 끕니다\");\n",
    "    }\n",
    "    \n",
    "    // 템플릿 메서드, 전체 흐름을 정의해놓음\n",
    "    // 추상클래스와 그렇지 않은 것들이 섞여있다\n",
    "    // 시나리오 순서는 변하면 안됨, 재정의하면 안됨\n",
    "    final public void run() {\n",
    "        startCar();\n",
    "        drive();\n",
    "        stop();\n",
    "        turnOff();\n",
    "    }\n",
    "}"
   ]
  },
  {
   "cell_type": "code",
   "execution_count": 21,
   "metadata": {},
   "outputs": [],
   "source": [
    "public class AICar extends Car {\n",
    "    \n",
    "    // 추상클래스 구현\n",
    "    public void drive(){\n",
    "        System.out.println(\"자율 주행합니다.\");\n",
    "        System.out.println(\"자동차가 스스로 움직입니다.\"); \n",
    "    }\n",
    "    \n",
    "    // 추상클래스 구햔\n",
    "    public void stop(){\n",
    "        System.out.println(\"스스로 멈춥니다.\");\n",
    "    }\n",
    "}"
   ]
  },
  {
   "cell_type": "code",
   "execution_count": 25,
   "metadata": {},
   "outputs": [],
   "source": [
    "public class ManualCar extends Car {\n",
    "\n",
    "    public void startCar() {\n",
    "        System.out.println(\"열쇠로 시동을 킵니다\");\n",
    "    }\n",
    "\n",
    "    public void drive(){\n",
    "        System.out.println(\"사람이 운전합니다.\");\n",
    "        System.out.println(\"사람이 핸들을 조작합니다.\"); \n",
    "    }\n",
    "    \n",
    "    public void stop(){\n",
    "        System.out.println(\"브레이크를 밟아서 정지합니다.\");\n",
    "    }\n",
    "}"
   ]
  },
  {
   "cell_type": "code",
   "execution_count": 26,
   "metadata": {},
   "outputs": [
    {
     "name": "stdout",
     "output_type": "stream",
     "text": [
      "시동을 킵니다\n",
      "자율 주행합니다.\n",
      "자동차가 스스로 움직입니다.\n",
      "스스로 멈춥니다.\n",
      "시동을 끕니다\n"
     ]
    }
   ],
   "source": [
    "Car aiCar = new AICar();\n",
    "aiCar.run();"
   ]
  },
  {
   "cell_type": "code",
   "execution_count": 27,
   "metadata": {},
   "outputs": [
    {
     "name": "stdout",
     "output_type": "stream",
     "text": [
      "열쇠로 시동을 킵니다\n",
      "사람이 운전합니다.\n",
      "사람이 핸들을 조작합니다.\n",
      "브레이크를 밟아서 정지합니다.\n",
      "시동을 끕니다\n"
     ]
    }
   ],
   "source": [
    "Car manualCar = new ManualCar();\n",
    "manualCar.run();"
   ]
  }
 ],
 "metadata": {
  "kernelspec": {
   "display_name": "Java",
   "language": "java",
   "name": "java"
  },
  "language_info": {
   "codemirror_mode": "java",
   "file_extension": ".jshell",
   "mimetype": "text/x-java-source",
   "name": "Java",
   "pygments_lexer": "java",
   "version": "13.0.2+8"
  }
 },
 "nbformat": 4,
 "nbformat_minor": 4
}
