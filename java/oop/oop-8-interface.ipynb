{
 "cells": [
  {
   "cell_type": "markdown",
   "metadata": {},
   "source": [
    "# 8. 인터페이스\n",
    "\n",
    "## 인터페이스란?\n",
    "- 이딴 메서드가 들어갈 것이다~ 라고 클래스의 프로퍼티를 선언하는 것  \n",
    "- 모두 추상메서드로만 이루어져 있고, 모두 상수고, \n",
    "- 어떤 오브젝트에 대한 명제, 어떤 역할을 하는 객체다(설명서)\n",
    "- 인터페이스를 구현한 클래스는 인터페이스 타입으로 변수를 선언하여 인스턴스를 생성할 수 있음\n",
    "- 인터페이스는 구현 코드가 없기 때문에 타입 상속이라고도 함\n",
    "\n",
    "## 인터페이스 요소\n",
    "1. 추상메서드\n",
    "2. 상수\n",
    "3. 디폴트 메서드\n",
    "4. 정적 메서드\n",
    "5. private 메서드"
   ]
  },
  {
   "cell_type": "code",
   "execution_count": 1,
   "metadata": {},
   "outputs": [],
   "source": [
    "public interface Calc {\n",
    "    // (프리컴파일 단계에서)상수가 된다\n",
    "    double PI = 3.14;\n",
    "    int ERROR = -999999;\n",
    "    \n",
    "    // 구현할 메서드의 반환값, 파라미터 선언\n",
    "    int add(int num1, int num2);\n",
    "    int sub(int num1, int num2);\n",
    "    int times(int num1, int num2);\n",
    "    int divide(int num1, int num2);\n",
    "    \n",
    "    // 함수 시그니쳐(어떤 파람을 받아서 어떤걸 뱉아줄 것인지) 대략의 그림\n",
    "    // public String stringAdd(String s1, String s2);\n",
    "}"
   ]
  },
  {
   "cell_type": "code",
   "execution_count": 2,
   "metadata": {},
   "outputs": [],
   "source": [
    "// implements키워드로 클래스에 인터페이스 적용시킴\n",
    "\n",
    "public class Calculator implements Calc{\n",
    "    public int add(int num1, int num2){\n",
    "        return num1+num2;\n",
    "    }\n",
    "    \n",
    "     public int sub(int num1, int num2){\n",
    "        return num1-num2;\n",
    "    }\n",
    "    \n",
    "     public int times(int num1, int num2){\n",
    "        return num1*num2;\n",
    "    }\n",
    "    \n",
    "     public int divide(int num1, int num2){\n",
    "        return num1/num2;\n",
    "    }\n",
    "    \n",
    "    public void showInfo(){\n",
    "        System.out.println(\"구현끗\");\n",
    "    }\n",
    "}"
   ]
  },
  {
   "cell_type": "code",
   "execution_count": 3,
   "metadata": {},
   "outputs": [],
   "source": [
    "// 변수의 타입이 인터페이스 : 인터페이스에 정의된 메소드만 사용 가능\n",
    "// 다른 메소드 쓰려면 다운캐스팅이 필요하다\n",
    "\n",
    "Calc cal = new Calculator();"
   ]
  },
  {
   "cell_type": "code",
   "execution_count": 4,
   "metadata": {
    "scrolled": true
   },
   "outputs": [
    {
     "name": "stdout",
     "output_type": "stream",
     "text": [
      "8\n"
     ]
    }
   ],
   "source": [
    "System.out.println(cal.add(3,5))"
   ]
  },
  {
   "cell_type": "markdown",
   "metadata": {},
   "source": [
    "## 인터페이스 다형성 구현\n",
    "- 클라이언트 프로그램에 어떤 메서드를 제공하는지 알려주는 명세, 약속\n",
    "- 한 객체가 어떤 인터페이스의 타입이라 함은 그 인터페이스의 메서드를 구현했다는 의미\n",
    "- 클라이언트 프로그램은 실제 구현내용을 몰라도 인터페이스의 정의만 알면 그 객체 사용 가능\n",
    "- 인터페이스를 구현해놓은 다양한 객체를 사용함 - 다형성\n",
    "- 서비스를 제공하는 쪽이 서버, 쓰는 쪽이 클라이언트 => 클라이언트 입장에서는 설명서가 됨\n",
    "- jdbc : 자바 서버에서 디비랑 연결할 때, 인터페이스로만 존재하구 Db마다 다르게하면 되는 것 => 인터페이스를 구현해놓은 객체를 사용"
   ]
  },
  {
   "cell_type": "markdown",
   "metadata": {},
   "source": [
    "### 예제(상담원 - strategy pattern)\n",
    "- 상담원을 배정하는 메소드, 전화를 연결하는 메소드는 일단 다 정해놓기\n",
    "- 그 방법을 어떻게 할지를 인터페이스 implements해서 구현(strategy pattern)\n",
    "- strategy pattern은 다양한 정책이나 알고리즘을 프로그램의 큰 수정 없이 적용 수정 가능"
   ]
  },
  {
   "cell_type": "code",
   "execution_count": 5,
   "metadata": {},
   "outputs": [],
   "source": [
    "// 속속들이 볼필요가 없음, 인터페이스 정의해놓고 정의된 인터페이스 가져다가 쓸 수도\n",
    "\n",
    "public interface Scheduler {\n",
    "    public void getNextCall();\n",
    "    public void sendCallToAgent();\n",
    "}"
   ]
  },
  {
   "cell_type": "code",
   "execution_count": 6,
   "metadata": {},
   "outputs": [],
   "source": [
    "public class RoundRobin implements Scheduler {\n",
    "    public void getNextCall(){\n",
    "        System.out.println(\"상담 전화를 순서대로 가져옵니다\");\n",
    "    }\n",
    "    public void sendCallToAgent(){\n",
    "        System.out.println(\"다른 순서의 상담원에게 배분합니다\");\n",
    "    }\n",
    "}"
   ]
  },
  {
   "cell_type": "code",
   "execution_count": 7,
   "metadata": {},
   "outputs": [],
   "source": [
    "public class LeastJob implements Scheduler {\n",
    "    public void getNextCall(){\n",
    "        System.out.println(\"상담 전화를 순서대로 가져옵니다\");\n",
    "    }\n",
    "    public void sendCallToAgent(){\n",
    "        System.out.println(\"현재 상담업무가 없거나 상담대기가 가장 적은 상담원에게 할당합니다.\");\n",
    "    }\n",
    "}"
   ]
  },
  {
   "cell_type": "code",
   "execution_count": 8,
   "metadata": {},
   "outputs": [
    {
     "name": "stdout",
     "output_type": "stream",
     "text": [
      "전화 상담원 할당 방식을 선택하세요\n",
      "R:한명씩 차례대로\n",
      "L:대기가 적은 상담원 우선\n",
      "r\n",
      "상담 전화를 순서대로 가져옵니다\n",
      "다른 순서의 상담원에게 배분합니다\n"
     ]
    }
   ],
   "source": [
    "System.out.println(\"전화 상담원 할당 방식을 선택하세요\");\n",
    "System.out.println(\"R:한명씩 차례대로\");\n",
    "System.out.println(\"L:대기가 적은 상담원 우선\");\n",
    "\n",
    "int ch = System.in.read();\n",
    "Scheduler scheduler = null;\n",
    "\n",
    "// 정책 선택\n",
    "if (ch == 'r') {\n",
    "    scheduler = new RoundRobin();\n",
    "} else {\n",
    "    scheduler = new LeastJob();\n",
    "}\n",
    "\n",
    "scheduler.getNextCall();\n",
    "scheduler.sendCallToAgent();"
   ]
  }
 ],
 "metadata": {
  "kernelspec": {
   "display_name": "Java",
   "language": "java",
   "name": "java"
  },
  "language_info": {
   "codemirror_mode": "java",
   "file_extension": ".jshell",
   "mimetype": "text/x-java-source",
   "name": "Java",
   "pygments_lexer": "java",
   "version": "13.0.2+8"
  }
 },
 "nbformat": 4,
 "nbformat_minor": 4
}
